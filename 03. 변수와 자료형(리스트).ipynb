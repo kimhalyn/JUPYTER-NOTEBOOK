{
 "cells": [
  {
   "cell_type": "code",
   "execution_count": 30,
   "id": "325c57bf",
   "metadata": {},
   "outputs": [
    {
     "name": "stdout",
     "output_type": "stream",
     "text": [
      "['박지성', '기성용', '손흥민', '이청용']\n"
     ]
    }
   ],
   "source": [
    "# 리스트 만들기\n",
    "M_stu = [\"박지성\", '기성용', '손흥민', '이청용']\n",
    "print(M_stu)"
   ]
  },
  {
   "cell_type": "code",
   "execution_count": 31,
   "id": "f1c3a63e",
   "metadata": {},
   "outputs": [
    {
     "name": "stdout",
     "output_type": "stream",
     "text": [
      "['박지성', '기성용', '손흥민', '이청용', '이강인']\n"
     ]
    }
   ],
   "source": [
    "# 마지막에 항목 추가 \n",
    "M_stu.append('이강인')\n",
    "print(M_stu)"
   ]
  },
  {
   "cell_type": "code",
   "execution_count": 32,
   "id": "71c78867",
   "metadata": {},
   "outputs": [
    {
     "name": "stdout",
     "output_type": "stream",
     "text": [
      "['박지성', '기성용', '이승우', '손흥민', '이청용', '이강인']\n"
     ]
    }
   ],
   "source": [
    "# 특정 위치에 항목 추가\n",
    "M_stu.insert(2, '이승우')\n",
    "print(M_stu)"
   ]
  },
  {
   "cell_type": "code",
   "execution_count": 33,
   "id": "781ee7fb",
   "metadata": {},
   "outputs": [
    {
     "name": "stdout",
     "output_type": "stream",
     "text": [
      "['박지성', '기성용', '손흥민', '이청용', '이강인']\n"
     ]
    }
   ],
   "source": [
    "# 특정 항목 삭제\n",
    "M_stu.remove('이승우')\n",
    "print(M_stu)"
   ]
  },
  {
   "cell_type": "code",
   "execution_count": 34,
   "id": "77ebe3b4",
   "metadata": {},
   "outputs": [
    {
     "name": "stdout",
     "output_type": "stream",
     "text": [
      "['박지성', '기성용', '손흥민', '이청용', '이강인', '백승호', '정우영']\n"
     ]
    }
   ],
   "source": [
    "# 여러 항목 추가\n",
    "M_stu.extend(['백승호', '정우영'])\n",
    "print(M_stu)"
   ]
  },
  {
   "cell_type": "code",
   "execution_count": 35,
   "id": "b198eeaf",
   "metadata": {},
   "outputs": [
    {
     "name": "stdout",
     "output_type": "stream",
     "text": [
      "정우영\n"
     ]
    }
   ],
   "source": [
    "# 맨 마지막 항목 삭제\n",
    "popstu = M_stu.pop()\n",
    "print(popstu)"
   ]
  },
  {
   "cell_type": "code",
   "execution_count": 36,
   "id": "2e193c23",
   "metadata": {},
   "outputs": [
    {
     "name": "stdout",
     "output_type": "stream",
     "text": [
      "['박지성', '기성용', '손흥민', '이청용', '이강인', '백승호']\n"
     ]
    }
   ],
   "source": [
    "print(M_stu)"
   ]
  },
  {
   "cell_type": "code",
   "execution_count": 37,
   "id": "e2b380ba",
   "metadata": {},
   "outputs": [
    {
     "name": "stdout",
     "output_type": "stream",
     "text": [
      "0\n"
     ]
    }
   ],
   "source": [
    "# 인덱스 값 추출\n",
    "indexstu = M_stu.index('박지성')\n",
    "print(indexstu)"
   ]
  },
  {
   "cell_type": "code",
   "execution_count": 38,
   "id": "4a26b876",
   "metadata": {},
   "outputs": [
    {
     "name": "stdout",
     "output_type": "stream",
     "text": [
      "1\n"
     ]
    }
   ],
   "source": [
    "# 리스트 안 해당 항목 개수 추출\n",
    "countstu = M_stu.count('박지성')\n",
    "print(countstu)"
   ]
  },
  {
   "cell_type": "code",
   "execution_count": 39,
   "id": "8de89066",
   "metadata": {},
   "outputs": [
    {
     "name": "stdout",
     "output_type": "stream",
     "text": [
      "['기성용', '박지성', '백승호', '손흥민', '이강인', '이청용']\n"
     ]
    }
   ],
   "source": [
    "# 정렬\n",
    "M_stu.sort()\n",
    "print(M_stu)"
   ]
  },
  {
   "cell_type": "code",
   "execution_count": 41,
   "id": "6fd3fa09",
   "metadata": {},
   "outputs": [
    {
     "name": "stdout",
     "output_type": "stream",
     "text": [
      "['기성용', '박지성', '백승호', '손흥민', '이강인', '이청용']\n"
     ]
    }
   ],
   "source": [
    "# 역순으로 정렬\n",
    "M_stu.reverse()\n",
    "print(M_stu)"
   ]
  },
  {
   "cell_type": "code",
   "execution_count": 61,
   "id": "0be7ff60",
   "metadata": {},
   "outputs": [
    {
     "name": "stdout",
     "output_type": "stream",
     "text": [
      "['태양', '수성', '금성', '지구', '화성', '목성', '토성', '천왕성', '해왕성']\n"
     ]
    }
   ],
   "source": [
    "# 명왕성 삭제(del 사용)\n",
    "solarsys = ['태양', '수성', '금성', '지구', '화성', '목성', '토성', '천왕성', '해왕성', '명왕성']\n",
    "del solarsys[-1]\n",
    "print(solarsys)"
   ]
  },
  {
   "cell_type": "code",
   "execution_count": 64,
   "id": "e218fbb3",
   "metadata": {},
   "outputs": [
    {
     "name": "stdout",
     "output_type": "stream",
     "text": [
      "['태양', '천왕성', '해왕성', '명왕성']\n"
     ]
    }
   ],
   "source": [
    "# 슬라이싱과 del함수를 이용하여 수성부터 토성까지 삭제\n",
    "solarsys = ['태양', '수성', '금성', '지구', '화성', '목성', '토성', '천왕성', '해왕성', '명왕성']\n",
    "del solarsys[1:7]\n",
    "print(solarsys)"
   ]
  },
  {
   "cell_type": "code",
   "execution_count": 68,
   "id": "f2f687de",
   "metadata": {},
   "outputs": [
    {
     "name": "stdout",
     "output_type": "stream",
     "text": [
      "['태양', '수성', '금성', '달', '지구', '화성', '목성', '토성', '천왕성', '해왕성', '명왕성']\n"
     ]
    }
   ],
   "source": [
    "# 금성과 지구 사이에 달 삽입\n",
    "solarsys = ['태양', '수성', '금성', '지구', '화성', '목성', '토성', '천왕성', '해왕성', '명왕성']\n",
    "moon = solarsys.index('지구')\n",
    "solarsys.insert(moon, '달')\n",
    "print(solarsys)"
   ]
  },
  {
   "cell_type": "code",
   "execution_count": 67,
   "id": "f4ed7dea",
   "metadata": {},
   "outputs": [
    {
     "name": "stdout",
     "output_type": "stream",
     "text": [
      "['태양', '수성', '금성', '지구', '화성', '목성', '토성', '천왕성', '해왕성', '명왕성', '헬리혜성']\n"
     ]
    }
   ],
   "source": [
    "# extend 함수를 이용하여 헬리혜성 추가\n",
    "solarsys = ['태양', '수성', '금성', '지구', '화성', '목성', '토성', '천왕성', '해왕성', '명왕성']\n",
    "solarsys.extend(['헬리혜성'])\n",
    "print(solarsys)"
   ]
  }
 ],
 "metadata": {
  "kernelspec": {
   "display_name": "Python 3",
   "language": "python",
   "name": "python3"
  },
  "language_info": {
   "codemirror_mode": {
    "name": "ipython",
    "version": 3
   },
   "file_extension": ".py",
   "mimetype": "text/x-python",
   "name": "python",
   "nbconvert_exporter": "python",
   "pygments_lexer": "ipython3",
   "version": "3.8.8"
  }
 },
 "nbformat": 4,
 "nbformat_minor": 5
}
