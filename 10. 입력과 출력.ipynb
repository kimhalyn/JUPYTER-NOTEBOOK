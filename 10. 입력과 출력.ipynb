{
 "cells": [
  {
   "cell_type": "code",
   "execution_count": 1,
   "id": "b71b72fb",
   "metadata": {},
   "outputs": [
    {
     "name": "stdout",
     "output_type": "stream",
     "text": [
      "hell python\n"
     ]
    }
   ],
   "source": [
    "# print()\n",
    "print(\"hell python\")"
   ]
  },
  {
   "cell_type": "code",
   "execution_count": 5,
   "id": "17f26ee9",
   "metadata": {},
   "outputs": [
    {
     "name": "stdout",
     "output_type": "stream",
     "text": [
      "best python course\n"
     ]
    }
   ],
   "source": [
    "# 여러 문자열 동시 출력\n",
    "print(\"best\",\"python\",\"course\")"
   ]
  },
  {
   "cell_type": "code",
   "execution_count": 4,
   "id": "87e27da7",
   "metadata": {},
   "outputs": [
    {
     "name": "stdout",
     "output_type": "stream",
     "text": [
      "best*python*course\n"
     ]
    }
   ],
   "source": [
    "# sep 구분자 사용\n",
    "print(\"best\", \"python\", \"course\", sep=\"*\")"
   ]
  },
  {
   "cell_type": "code",
   "execution_count": 6,
   "id": "7e81d0cb",
   "metadata": {},
   "outputs": [
    {
     "name": "stdout",
     "output_type": "stream",
     "text": [
      "bestpythoncourse\n"
     ]
    }
   ],
   "source": [
    "# 문자열 사이 공백없이 출력\n",
    "print(\"best\"+\"python\"+\"course\")"
   ]
  },
  {
   "cell_type": "code",
   "execution_count": 7,
   "id": "612b3ac1",
   "metadata": {},
   "outputs": [
    {
     "name": "stdout",
     "output_type": "stream",
     "text": [
      "best python course: jsdata\n"
     ]
    }
   ],
   "source": [
    "# +, , 동시에 사용하여 문자열 출력\n",
    "print(\"best\",\"python\",\"course\"+\":\",\"jsdata\")"
   ]
  },
  {
   "cell_type": "code",
   "execution_count": 9,
   "id": "b84a518b",
   "metadata": {},
   "outputs": [
    {
     "name": "stdout",
     "output_type": "stream",
     "text": [
      "Name: Jun, Tall: 185\n"
     ]
    }
   ],
   "source": [
    "#t 숫자열과 문자열 동시에 출력\n",
    "name = \"Jun\"\n",
    "tall = 185\n",
    "print(\"Name:\",name+\",\",\"Tall:\",tall)"
   ]
  },
  {
   "cell_type": "code",
   "execution_count": 12,
   "id": "6687decd",
   "metadata": {},
   "outputs": [
    {
     "name": "stdout",
     "output_type": "stream",
     "text": [
      "Jun is my friend. \n",
      "He is smart\n"
     ]
    }
   ],
   "source": [
    "# 줄바꿈\n",
    "print(\"Jun is my friend.\\nHe is smart\")"
   ]
  },
  {
   "cell_type": "code",
   "execution_count": 14,
   "id": "5f284dde",
   "metadata": {},
   "outputs": [
    {
     "name": "stdout",
     "output_type": "stream",
     "text": [
      "Jun is my friendHe is smart\n"
     ]
    }
   ],
   "source": [
    "# 줄바꿈 없애기\n",
    "print(\"Jun is my friend\", end=\"\")\n",
    "print(\"He is smart\")"
   ]
  },
  {
   "cell_type": "code",
   "execution_count": 18,
   "id": "bff4d60a",
   "metadata": {},
   "outputs": [
    {
     "name": "stdout",
     "output_type": "stream",
     "text": [
      "도훈이는 잠자는 것을 좋아한다.\n"
     ]
    }
   ],
   "source": [
    "# 형식 지정하여 출력\n",
    "name = \"도훈\"\n",
    "print(\"%s이는 잠자는 것을 좋아한다.\" %name)"
   ]
  },
  {
   "cell_type": "code",
   "execution_count": 19,
   "id": "0160e38d",
   "metadata": {},
   "outputs": [
    {
     "name": "stdout",
     "output_type": "stream",
     "text": [
      "반지름: 5, 원주율 : 3.141592\n"
     ]
    }
   ],
   "source": [
    "# 두 개 이상의 데이터 출력\n",
    "r = 5\n",
    "PI = 3.141592\n",
    "print(\"반지름: %d, 원주율 : %f\" %(r, PI))"
   ]
  },
  {
   "cell_type": "code",
   "execution_count": 23,
   "id": "3fc0091c",
   "metadata": {},
   "outputs": [
    {
     "name": "stdout",
     "output_type": "stream",
     "text": [
      "cellphone:samsung\n",
      "cellphone:samsung, LG, Iphone\n",
      "cellphone:Iphone, samsung, LG\n",
      "cellphone:Iphone, samsung\n",
      "cellphone:samsung, LG, Iphone\n"
     ]
    }
   ],
   "source": [
    "# 원하는 위치에 데이터 지정\n",
    "cellphone_0 = \"samsung\"\n",
    "cellphone_1 = \"LG\"\n",
    "cellphone_2 = \"Iphone\"\n",
    "\n",
    "print(\"cellphone:{0}\".format(cellphone_0))\n",
    "print(\"cellphone:{0}, {1}, {2}\".format(cellphone_0, cellphone_1, cellphone_2))\n",
    "print(\"cellphone:{2}, {0}, {1}\".format(cellphone_0, cellphone_1, cellphone_2))\n",
    "print(\"cellphone:{2}, {0}\".format(cellphone_0, cellphone_1, cellphone_2))\n",
    "print(\"cellphone:{}, {}, {}\".format(cellphone_0, cellphone_1, cellphone_2))"
   ]
  },
  {
   "cell_type": "code",
   "execution_count": 24,
   "id": "c736b285",
   "metadata": {},
   "outputs": [
    {
     "name": "stdout",
     "output_type": "stream",
     "text": [
      "String:도훈, integer:26, float:1.23456\n"
     ]
    }
   ],
   "source": [
    "name = \"도훈\"\n",
    "age = 26\n",
    "a = 1.23456\n",
    "sum_string = \"String:{0}, integer:{1}, float:{2}\"\n",
    "print(sum_string.format(name,age,a))"
   ]
  },
  {
   "cell_type": "code",
   "execution_count": 25,
   "id": "9398e52e",
   "metadata": {},
   "outputs": [
    {
     "name": "stdout",
     "output_type": "stream",
     "text": [
      "1.23,  1.23457\n"
     ]
    }
   ],
   "source": [
    "a=1.23456789\n",
    "print(\"{0:.2f}, {0: .5f}\".format(a))"
   ]
  },
  {
   "cell_type": "code",
   "execution_count": 33,
   "id": "50f9a9f8",
   "metadata": {},
   "outputs": [
    {
     "name": "stdout",
     "output_type": "stream",
     "text": [
      "이름이 어떻게 되시나요? dd\n",
      "당신의 이름은 dd이군요\n"
     ]
    }
   ],
   "source": [
    "# input() 사용하기 - 문자열\n",
    "yourname = input(\"이름이 어떻게 되시나요? \")\n",
    "print(\"당신의 이름은 {}이군요\".format(yourname))"
   ]
  },
  {
   "cell_type": "code",
   "execution_count": 32,
   "id": "c8f95fe9",
   "metadata": {},
   "outputs": [
    {
     "name": "stdout",
     "output_type": "stream",
     "text": [
      "1-100사이 숫자를 입력하세요. 33\n",
      "당신이 입력한 숫자는 33입니다.\n"
     ]
    }
   ],
   "source": [
    "# input() 사용하기 - 숫자\n",
    "num = input(\"1-100사이 숫자를 입력하세요. \")\n",
    "print(\"당신이 입력한 숫자는 {}입니다.\".format(num))"
   ]
  },
  {
   "cell_type": "code",
   "execution_count": null,
   "id": "3e23002b",
   "metadata": {},
   "outputs": [],
   "source": [
    "# input() 사용하기 - 계산\n",
    "a = input(\"정사각형의 한변의 길이를 입력하세요 \")\n",
    "area = int(a)**2 #float도 가능\n",
    "print(\"정사각형의 넓이는 : {}\".format(area))"
   ]
  },
  {
   "cell_type": "code",
   "execution_count": 6,
   "id": "9d855c99",
   "metadata": {},
   "outputs": [
    {
     "ename": "SyntaxError",
     "evalue": "invalid syntax (<ipython-input-6-44fa8e70baea>, line 2)",
     "output_type": "error",
     "traceback": [
      "\u001b[1;36m  File \u001b[1;32m\"<ipython-input-6-44fa8e70baea>\"\u001b[1;36m, line \u001b[1;32m2\u001b[0m\n\u001b[1;33m    cd C:\\Users\\bigdata\\workspace\\Python\u001b[0m\n\u001b[1;37m       ^\u001b[0m\n\u001b[1;31mSyntaxError\u001b[0m\u001b[1;31m:\u001b[0m invalid syntax\n"
     ]
    }
   ],
   "source": [
    "# 디렉토리 지정\n",
    "cd C:\\Users\\bigdata\\workspace\\Python"
   ]
  },
  {
   "cell_type": "code",
   "execution_count": 7,
   "id": "3e096fbd",
   "metadata": {},
   "outputs": [],
   "source": [
    "# 새 파일 생성하기\n",
    "f = open('file.txt', 'w')\n",
    "f.write(\"This is first time write.\")\n",
    "f.close()"
   ]
  },
  {
   "cell_type": "code",
   "execution_count": 8,
   "id": "0b920826",
   "metadata": {},
   "outputs": [
    {
     "name": "stdout",
     "output_type": "stream",
     "text": [
      "This is first time write.\n"
     ]
    }
   ],
   "source": [
    "# 파일 내용 확인\n",
    "!type file.txt"
   ]
  },
  {
   "cell_type": "code",
   "execution_count": 20,
   "id": "5e5109a4",
   "metadata": {},
   "outputs": [
    {
     "name": "stdout",
     "output_type": "stream",
     "text": [
      "This is first time write.\n"
     ]
    }
   ],
   "source": [
    "# 파일 내용을 화면으로 출력\n",
    "f = open('file.txt', 'r')\n",
    "file_text = f.read()\n",
    "f.close()\n",
    "print(file_text)"
   ]
  },
  {
   "cell_type": "code",
   "execution_count": 22,
   "id": "0c14706f",
   "metadata": {},
   "outputs": [],
   "source": [
    "# 반복문으로 파일 읽기\n",
    "f = open('file2.txt', 'w')\n",
    "for num in range(6):\n",
    "    format_string = \"2x{0}= {1}\\n\".format(num, num*2)\n",
    "    f.write(format_string)\n",
    "f.close()"
   ]
  },
  {
   "cell_type": "code",
   "execution_count": 24,
   "id": "9d2c823b",
   "metadata": {},
   "outputs": [
    {
     "name": "stdout",
     "output_type": "stream",
     "text": [
      "2x0= 0\n",
      "2x1= 2\n",
      "2x2= 4\n",
      "2x3= 6\n",
      "2x4= 8\n",
      "2x5= 10\n"
     ]
    }
   ],
   "source": [
    "# 파일 내용 확인\n",
    "!type file2.txt"
   ]
  },
  {
   "cell_type": "code",
   "execution_count": 26,
   "id": "5a248d15",
   "metadata": {},
   "outputs": [
    {
     "name": "stdout",
     "output_type": "stream",
     "text": [
      "2x0= 0\n",
      "2x1= 2\n",
      "\n"
     ]
    }
   ],
   "source": [
    "# 문자열 읽기\n",
    "f = open('file2.txt')\n",
    "line1 = f.readline()\n",
    "line2 = f.readline()\n",
    "f.close()\n",
    "print(line1,end=\"\") # 줄바꿈 삭제\n",
    "print(line2)\n"
   ]
  },
  {
   "cell_type": "code",
   "execution_count": 35,
   "id": "f986a0cc",
   "metadata": {},
   "outputs": [
    {
     "name": "stdout",
     "output_type": "stream",
     "text": [
      "2x0= 0\n",
      "2x1= 2\n",
      "2x2= 4\n",
      "2x3= 6\n",
      "2x4= 8\n",
      "2x5= 10\n"
     ]
    }
   ],
   "source": [
    "# while 사용하여 여러 문장 읽기\n",
    "f = open('file2.txt')\n",
    "line = f.readline()\n",
    "while line:\n",
    "    print(line,end=\"\")\n",
    "    line = f.readline()\n",
    "f.close()"
   ]
  },
  {
   "cell_type": "code",
   "execution_count": 36,
   "id": "ecdcf3c2",
   "metadata": {},
   "outputs": [
    {
     "name": "stdout",
     "output_type": "stream",
     "text": [
      "['2x0= 0\\n', '2x1= 2\\n', '2x2= 4\\n', '2x3= 6\\n', '2x4= 8\\n', '2x5= 10\\n']\n"
     ]
    }
   ],
   "source": [
    "# list 구조\n",
    "f = open('file2.txt')\n",
    "lines = f.readlines() # 전체 데이터 읽기\n",
    "f.close()\n",
    "print(lines)"
   ]
  },
  {
   "cell_type": "code",
   "execution_count": 39,
   "id": "a4b41940",
   "metadata": {},
   "outputs": [
    {
     "name": "stdout",
     "output_type": "stream",
     "text": [
      "2x0= 0\n",
      "2x1= 2\n",
      "2x2= 4\n",
      "2x3= 6\n",
      "2x4= 8\n",
      "2x5= 10\n"
     ]
    }
   ],
   "source": [
    "# for문 사용\n",
    "f = open('file2.txt')\n",
    "lines = f.readlines()\n",
    "f.close()\n",
    "for line in lines:\n",
    "    print(line,end=\"\")"
   ]
  },
  {
   "cell_type": "code",
   "execution_count": 40,
   "id": "108e5e8d",
   "metadata": {},
   "outputs": [
    {
     "name": "stdout",
     "output_type": "stream",
     "text": [
      "2x0= 0\n",
      "2x1= 2\n",
      "2x2= 4\n",
      "2x3= 6\n",
      "2x4= 8\n",
      "2x5= 10\n"
     ]
    }
   ],
   "source": [
    "f = open('file2.txt')\n",
    "for line in f.readlines():\n",
    "    print(line,end=\"\")\n",
    "f.close()"
   ]
  },
  {
   "cell_type": "code",
   "execution_count": 42,
   "id": "9e14ae4f",
   "metadata": {},
   "outputs": [],
   "source": [
    "# with문 사용\n",
    "with open('file4.txt', 'w') as f: # 파일 열기\n",
    "    f.write('File read/write test1: line1\\n')  # 파일 쓰기\n",
    "    f.write('File read/write test2: line1\\n')\n",
    "    f.write('File read/write test3: line1\\n')"
   ]
  },
  {
   "cell_type": "code",
   "execution_count": 44,
   "id": "e2a4fd38",
   "metadata": {},
   "outputs": [
    {
     "name": "stdout",
     "output_type": "stream",
     "text": [
      "File read/write test1: line1\n",
      "File read/write test2: line1\n",
      "File read/write test3: line1\n",
      "\n"
     ]
    }
   ],
   "source": [
    "with open('file4.txt') as f:\n",
    "    file_string = f.read()\n",
    "    print(file_string)"
   ]
  }
 ],
 "metadata": {
  "kernelspec": {
   "display_name": "Python 3",
   "language": "python",
   "name": "python3"
  },
  "language_info": {
   "codemirror_mode": {
    "name": "ipython",
    "version": 3
   },
   "file_extension": ".py",
   "mimetype": "text/x-python",
   "name": "python",
   "nbconvert_exporter": "python",
   "pygments_lexer": "ipython3",
   "version": "3.8.8"
  }
 },
 "nbformat": 4,
 "nbformat_minor": 5
}
