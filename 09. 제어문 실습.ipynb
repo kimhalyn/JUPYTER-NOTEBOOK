{
 "cells": [
  {
   "cell_type": "code",
   "execution_count": 20,
   "id": "5304bc8e",
   "metadata": {},
   "outputs": [],
   "source": [
    "# 실습테스트 1\n",
    "x = 3\n",
    "y = 8\n",
    "if x > 5:\n",
    "    if y > 7:\n",
    "        print(x * y)\n",
    "    else:\n",
    "        print(x + y)"
   ]
  },
  {
   "cell_type": "code",
   "execution_count": 21,
   "id": "5cba3443",
   "metadata": {},
   "outputs": [],
   "source": [
    "x = 5\n",
    "y = 6\n",
    "if x > 6:\n",
    "    if y > 2:\n",
    "        print(x * y)\n",
    "    else:\n",
    "        print(x + y)"
   ]
  },
  {
   "cell_type": "code",
   "execution_count": null,
   "id": "86003969",
   "metadata": {},
   "outputs": [],
   "source": [
    "x = 5\n",
    "y = 2\n",
    "if x > 3:\n",
    "    if y > 1:\n",
    "        print(x * y)\n",
    "    else:\n",
    "        print(x + y)"
   ]
  },
  {
   "cell_type": "code",
   "execution_count": 23,
   "id": "196a3606",
   "metadata": {},
   "outputs": [
    {
     "name": "stdout",
     "output_type": "stream",
     "text": [
      "correct answer\n"
     ]
    }
   ],
   "source": [
    "# 실습테스트 2\n",
    "x = 38\n",
    "if 38 <= x < 50:\n",
    "    print(\"correct answer\")"
   ]
  },
  {
   "cell_type": "code",
   "execution_count": 14,
   "id": "6fb0e62b",
   "metadata": {},
   "outputs": [
    {
     "name": "stdout",
     "output_type": "stream",
     "text": [
      "correct answer\n"
     ]
    }
   ],
   "source": [
    "x = 38\n",
    "if x >= 38 and x < 50:\n",
    "    print(\"correct answer\")"
   ]
  },
  {
   "cell_type": "code",
   "execution_count": 17,
   "id": "43a79553",
   "metadata": {},
   "outputs": [
    {
     "name": "stdout",
     "output_type": "stream",
     "text": [
      "점수를 입력하세요 : 60\n",
      "통과\n"
     ]
    }
   ],
   "source": [
    "# 실습테스트 3\n",
    "score = int(input(\"점수를 입력하세요 : \"))\n",
    "if score >= 60:\n",
    "    print(\"통과\")\n",
    "else:\n",
    "    print(\"과락\")"
   ]
  },
  {
   "cell_type": "code",
   "execution_count": 19,
   "id": "fca42f77",
   "metadata": {},
   "outputs": [
    {
     "name": "stdout",
     "output_type": "stream",
     "text": [
      "놀이기구를 탈 수 있습니다.\n"
     ]
    }
   ],
   "source": [
    "# 실습테스트 4\n",
    "나이 = 12\n",
    "키 = 130\n",
    "if 나이 >= 10 and 키 >= 120:\n",
    "    print(\"놀이기구를 탈 수 있습니다.\")"
   ]
  },
  {
   "cell_type": "code",
   "execution_count": 26,
   "id": "034848de",
   "metadata": {},
   "outputs": [
    {
     "name": "stdout",
     "output_type": "stream",
     "text": [
      "x가 y보다 작음\n"
     ]
    }
   ],
   "source": [
    "# 실습테스트 5\n",
    "x = 10\n",
    "y = 12\n",
    "\n",
    "if x > y:\n",
    "    print(\"x가 y보다 큼\")\n",
    "elif x < y:\n",
    "    print(\"x가 y보다 작음\")\n",
    "else:\n",
    "    print(\"x와 y가 같음\")"
   ]
  },
  {
   "cell_type": "code",
   "execution_count": 27,
   "id": "8fa8e433",
   "metadata": {},
   "outputs": [
    {
     "name": "stdout",
     "output_type": "stream",
     "text": [
      "12\n",
      "10\n"
     ]
    }
   ],
   "source": [
    "# 실습테스트 6\n",
    "numbers = [6, 12, 8, 10, 7, 2, 3]\n",
    "for a in numbers:\n",
    "    if a < 10:\n",
    "        continue\n",
    "    else:\n",
    "        print(a)\n"
   ]
  },
  {
   "cell_type": "code",
   "execution_count": 29,
   "id": "d4cc3c91",
   "metadata": {},
   "outputs": [
    {
     "name": "stdout",
     "output_type": "stream",
     "text": [
      "1\n",
      "2\n",
      "4\n",
      "5\n",
      "7\n",
      "8\n"
     ]
    }
   ],
   "source": [
    "# 실습테스트 7-1\n",
    "for a in range(1, 10):\n",
    "    if (a % 3 == 0):\n",
    "        continue\n",
    "    else:\n",
    "        print(a)"
   ]
  },
  {
   "cell_type": "code",
   "execution_count": null,
   "id": "c2229c8e",
   "metadata": {},
   "outputs": [],
   "source": [
    "# 실습테스트 7-2\n",
    "for a in range(1, 10):\n",
    "    if (a % 3 != 0):\n",
    "        print(a)"
   ]
  },
  {
   "cell_type": "code",
   "execution_count": null,
   "id": "58d7aa03",
   "metadata": {},
   "outputs": [],
   "source": [
    "# 실습테스트 8\n",
    "for a in range(6):\n",
    "    print(str(a)+\"번째 반복문입니다.\")"
   ]
  },
  {
   "cell_type": "code",
   "execution_count": 1,
   "id": "f5ddd13e",
   "metadata": {},
   "outputs": [
    {
     "name": "stdout",
     "output_type": "stream",
     "text": [
      "4의 배수의 합은 :  1300\n"
     ]
    }
   ],
   "source": [
    "# 실습테스트 9\n",
    "num = 4\n",
    "sum = 0\n",
    "while num <= 100:\n",
    "    sum += num\n",
    "    num += 4\n",
    "print(\"4의 배수의 합은 : \", sum)"
   ]
  },
  {
   "cell_type": "code",
   "execution_count": 12,
   "id": "16304c30",
   "metadata": {},
   "outputs": [
    {
     "name": "stdout",
     "output_type": "stream",
     "text": [
      "1에서 10까지의 합은 :  55\n"
     ]
    }
   ],
   "source": [
    "# 실습테스트 10-1\n",
    "s = 0\n",
    "\n",
    "for i in range(1, 11):\n",
    "    s += i\n",
    "print(\"1에서 10까지의 합은 : \", s)"
   ]
  },
  {
   "cell_type": "code",
   "execution_count": null,
   "id": "21c7c12a",
   "metadata": {},
   "outputs": [],
   "source": [
    "# 실습테스트 10-2\n",
    "s = 0\n",
    "i = 1\n",
    "\n",
    "while i<=10:\n",
    "    s += i\n",
    "    i += 1\n",
    "print(\"1에서 10까지의 합은 : \", s)"
   ]
  },
  {
   "cell_type": "code",
   "execution_count": null,
   "id": "6fac5424",
   "metadata": {},
   "outputs": [],
   "source": [
    "# 실습테스트 11\n",
    "star = 7\n",
    "space = 0\n",
    "\n",
    "while star > 0:\n",
    "    print(\" \"*space + \"*\"*star)\n",
    "    star = star -2\n",
    "    space = space + 1"
   ]
  }
 ],
 "metadata": {
  "kernelspec": {
   "display_name": "Python 3",
   "language": "python",
   "name": "python3"
  },
  "language_info": {
   "codemirror_mode": {
    "name": "ipython",
    "version": 3
   },
   "file_extension": ".py",
   "mimetype": "text/x-python",
   "name": "python",
   "nbconvert_exporter": "python",
   "pygments_lexer": "ipython3",
   "version": "3.8.8"
  }
 },
 "nbformat": 4,
 "nbformat_minor": 5
}
