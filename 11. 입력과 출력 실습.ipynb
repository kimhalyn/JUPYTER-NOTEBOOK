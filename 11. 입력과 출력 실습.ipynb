{
 "cells": [
  {
   "cell_type": "code",
   "execution_count": 2,
   "id": "19b98c32",
   "metadata": {},
   "outputs": [
    {
     "name": "stdout",
     "output_type": "stream",
     "text": [
      "첫번째 숫자를 입력하세요.10\n",
      "두번째 숫자를 입력하세요.5\n",
      "두 수의 합은 15입니다.\n"
     ]
    }
   ],
   "source": [
    "# 실습테스트 1(input에 입력한 값은 문자열로 취급됨)\n",
    "input1 = input(\"첫번째 숫자를 입력하세요.\")\n",
    "input2 = input(\"두번째 숫자를 입력하세요.\")\n",
    "\n",
    "total = int(input1) + int(input2)\n",
    "print(\"두 수의 합은 %s입니다.\"%total)"
   ]
  },
  {
   "cell_type": "code",
   "execution_count": 3,
   "id": "bcc5b21f",
   "metadata": {},
   "outputs": [
    {
     "name": "stdout",
     "output_type": "stream",
     "text": [
      "숫자를 입력하세요: 8, 16, 24, 32, 40, 48, 56, 64, 72\n",
      "입력한 숫자들의 합은 :  360\n"
     ]
    }
   ],
   "source": [
    "# 실습테스트 2\n",
    "num = input(\"숫자를 입력하세요: \")\n",
    "numbers = num.split(\",\")\n",
    "\n",
    "sum = 0\n",
    "for num in numbers:\n",
    "    sum += int(num)\n",
    "print(\"입력한 숫자들의 합은 : \", sum)"
   ]
  },
  {
   "cell_type": "code",
   "execution_count": 7,
   "id": "7813b228",
   "metadata": {},
   "outputs": [
    {
     "name": "stdout",
     "output_type": "stream",
     "text": [
      "구구단을 출력할 숫자(2~9)를 입력하세요. : 2\n",
      "2 4 6 8 10 12 14 16 18 "
     ]
    }
   ],
   "source": [
    "# 실습테스트 3\n",
    "multiple = input(\"구구단을 출력할 숫자(2~9)를 입력하세요. : \")\n",
    "\n",
    "multi = int(multiple)\n",
    "for i in range(1, 10):\n",
    "    print(multi * i, end=\" \") # 한 줄로 출력"
   ]
  },
  {
   "cell_type": "code",
   "execution_count": 20,
   "id": "f9b62c4e",
   "metadata": {},
   "outputs": [
    {
     "name": "stdout",
     "output_type": "stream",
     "text": [
      "Experience is valuable!\n"
     ]
    }
   ],
   "source": [
    "# 실습테스트 4-(1)\n",
    "f1 = open('t1.txt', 'w')\n",
    "f1.write(\"Experience is valuable!\")\n",
    "f1.close()\n",
    "\n",
    "f2 = open('t1.txt', 'r')\n",
    "print(f2.read())\n",
    "f2.close()"
   ]
  },
  {
   "cell_type": "code",
   "execution_count": 2,
   "id": "077a55d9",
   "metadata": {},
   "outputs": [
    {
     "name": "stdout",
     "output_type": "stream",
     "text": [
      "Experience is valuable!\n"
     ]
    }
   ],
   "source": [
    "# 실습테스트 4-(2)\n",
    "with open('t1.txt', 'w') as f1:\n",
    "    f1.write(\"Experience is valuable!\")\n",
    "\n",
    "with open('t1.txt', 'r') as f2:\n",
    "    print(f2.read())"
   ]
  },
  {
   "cell_type": "code",
   "execution_count": 4,
   "id": "95b6972a",
   "metadata": {},
   "outputs": [
    {
     "name": "stdout",
     "output_type": "stream",
     "text": [
      "저장할 내용을 입력하세요 : hello\n"
     ]
    }
   ],
   "source": [
    "# 실습테스트 5\n",
    "str = input(\"저장할 내용을 입력하세요 : \")\n",
    "f = open('t2.txt', 'a') # 입력한 내용이 계속 추가\n",
    "f.write(str + \"\\n\") # 한 줄 띄기\n",
    "f.close()"
   ]
  }
 ],
 "metadata": {
  "kernelspec": {
   "display_name": "Python 3",
   "language": "python",
   "name": "python3"
  },
  "language_info": {
   "codemirror_mode": {
    "name": "ipython",
    "version": 3
   },
   "file_extension": ".py",
   "mimetype": "text/x-python",
   "name": "python",
   "nbconvert_exporter": "python",
   "pygments_lexer": "ipython3",
   "version": "3.8.8"
  }
 },
 "nbformat": 4,
 "nbformat_minor": 5
}
