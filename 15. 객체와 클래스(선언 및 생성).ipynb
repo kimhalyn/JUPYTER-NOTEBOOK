{
 "cells": [
  {
   "cell_type": "code",
   "execution_count": 3,
   "id": "c90c2d87",
   "metadata": {},
   "outputs": [],
   "source": [
    "# 클래스 선언\n",
    "class Car():\n",
    "    pass"
   ]
  },
  {
   "cell_type": "code",
   "execution_count": 6,
   "id": "207b2579",
   "metadata": {},
   "outputs": [],
   "source": [
    "# 객체 생성\n",
    "my_car = Car()"
   ]
  },
  {
   "cell_type": "code",
   "execution_count": 8,
   "id": "7dd86141",
   "metadata": {},
   "outputs": [
    {
     "data": {
      "text/plain": [
       "<__main__.Car at 0x1576d968880>"
      ]
     },
     "execution_count": 8,
     "metadata": {},
     "output_type": "execute_result"
    }
   ],
   "source": [
    "# 객체 주소\n",
    "my_car"
   ]
  },
  {
   "cell_type": "code",
   "execution_count": 9,
   "id": "03726016",
   "metadata": {},
   "outputs": [],
   "source": [
    "# 객체 속성 설정\n",
    "my_car.wheel_size = 16\n",
    "my_car.color = \"black\""
   ]
  },
  {
   "cell_type": "code",
   "execution_count": 10,
   "id": "a0cd6378",
   "metadata": {},
   "outputs": [
    {
     "name": "stdout",
     "output_type": "stream",
     "text": [
      "바퀴의 크기:  16\n"
     ]
    }
   ],
   "source": [
    "print(\"바퀴의 크기: \", my_car.wheel_size)"
   ]
  },
  {
   "cell_type": "code",
   "execution_count": 11,
   "id": "2c8ce0a3",
   "metadata": {},
   "outputs": [
    {
     "name": "stdout",
     "output_type": "stream",
     "text": [
      "색상:  black\n"
     ]
    }
   ],
   "source": [
    "print(\"색상: \", my_car.color)"
   ]
  },
  {
   "cell_type": "code",
   "execution_count": 24,
   "id": "13e2a61b",
   "metadata": {},
   "outputs": [],
   "source": [
    "# 클래스 정의\n",
    "class Car():\n",
    "    def moves(self, speed):\n",
    "        print(\"자동차: 시속 {}킬로 미터로 전진\".format(speed))\n",
    "    def turn(self, direction):\n",
    "        print(\"자동차: {} 방향으로 전진\".format(direction))\n",
    "    def stop(self):\n",
    "        print(\"자동차 ({0},{1}): 정지\".format(self.wheel, self.color))"
   ]
  },
  {
   "cell_type": "code",
   "execution_count": 25,
   "id": "84d0ef21",
   "metadata": {},
   "outputs": [],
   "source": [
    "# 객체 생성\n",
    "my_car = Car()\n",
    "my_car.wheel = 18\n",
    "my_car.color = \"red\""
   ]
  },
  {
   "cell_type": "code",
   "execution_count": 26,
   "id": "228141b2",
   "metadata": {},
   "outputs": [
    {
     "name": "stdout",
     "output_type": "stream",
     "text": [
      "자동차: 시속 40킬로 미터로 전진\n",
      "자동차: left 방향으로 전진\n",
      "자동차 (18,red): 정지\n"
     ]
    }
   ],
   "source": [
    "my_car.moves(40)\n",
    "my_car.turn(\"left\")\n",
    "my_car.stop()"
   ]
  },
  {
   "cell_type": "code",
   "execution_count": 28,
   "id": "dbe495b8",
   "metadata": {},
   "outputs": [],
   "source": [
    "# 또 다른 객체 생성\n",
    "your_car = Car()\n",
    "your_car.wheel = 20\n",
    "your_car.color = \"blue\""
   ]
  },
  {
   "cell_type": "code",
   "execution_count": 29,
   "id": "7f552538",
   "metadata": {},
   "outputs": [
    {
     "name": "stdout",
     "output_type": "stream",
     "text": [
      "자동차: 시속 60킬로 미터로 전진\n",
      "자동차: right 방향으로 전진\n",
      "자동차 (20,blue): 정지\n"
     ]
    }
   ],
   "source": [
    "your_car.moves(60)\n",
    "your_car.turn(\"right\")\n",
    "your_car.stop()"
   ]
  },
  {
   "cell_type": "code",
   "execution_count": null,
   "id": "6c3caf10",
   "metadata": {},
   "outputs": [],
   "source": []
  }
 ],
 "metadata": {
  "kernelspec": {
   "display_name": "Python 3",
   "language": "python",
   "name": "python3"
  },
  "language_info": {
   "codemirror_mode": {
    "name": "ipython",
    "version": 3
   },
   "file_extension": ".py",
   "mimetype": "text/x-python",
   "name": "python",
   "nbconvert_exporter": "python",
   "pygments_lexer": "ipython3",
   "version": "3.8.8"
  }
 },
 "nbformat": 4,
 "nbformat_minor": 5
}
