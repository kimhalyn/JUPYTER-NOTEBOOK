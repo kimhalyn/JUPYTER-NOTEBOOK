{
 "cells": [
  {
   "cell_type": "code",
   "execution_count": 1,
   "id": "305200d9",
   "metadata": {},
   "outputs": [
    {
     "name": "stdout",
     "output_type": "stream",
     "text": [
      "0\n",
      "1\n",
      "2\n",
      "3\n",
      "4\n",
      "5\n"
     ]
    }
   ],
   "source": [
    "# for문\n",
    "for a in [0, 1, 2, 3, 4, 5]:\n",
    "    print(a)"
   ]
  },
  {
   "cell_type": "code",
   "execution_count": 4,
   "id": "8cc1c64b",
   "metadata": {},
   "outputs": [
    {
     "name": "stdout",
     "output_type": "stream",
     "text": [
      "Yoon\n",
      "Jang\n",
      "Jeong\n",
      "Kwon\n"
     ]
    }
   ],
   "source": [
    "jsdata = [\"Yoon\", \"Jang\", \"Jeong\", \"Kwon\"]\n",
    "for jsdata in jsdata:\n",
    "    print(jsdata)"
   ]
  },
  {
   "cell_type": "code",
   "execution_count": 5,
   "id": "959a6fd4",
   "metadata": {},
   "outputs": [
    {
     "name": "stdout",
     "output_type": "stream",
     "text": [
      "range(0, 20, 4)\n"
     ]
    }
   ],
   "source": [
    "# range 함수로 범위 지정\n",
    "print(range(0, 20, 4))"
   ]
  },
  {
   "cell_type": "code",
   "execution_count": 6,
   "id": "2f0347e4",
   "metadata": {},
   "outputs": [
    {
     "name": "stdout",
     "output_type": "stream",
     "text": [
      "[0, 4, 8, 12, 16]\n"
     ]
    }
   ],
   "source": [
    "# list로 보기\n",
    "print(list(range(0, 20, 4)))"
   ]
  },
  {
   "cell_type": "code",
   "execution_count": 7,
   "id": "8121c7e4",
   "metadata": {},
   "outputs": [
    {
     "name": "stdout",
     "output_type": "stream",
     "text": [
      "(0, 4, 8, 12, 16)\n"
     ]
    }
   ],
   "source": [
    "# tuple로 보기\n",
    "print(tuple(range(0, 20, 4)))"
   ]
  },
  {
   "cell_type": "code",
   "execution_count": 8,
   "id": "5d498fa4",
   "metadata": {},
   "outputs": [
    {
     "name": "stdout",
     "output_type": "stream",
     "text": [
      "{0, 4, 8, 12, 16}\n"
     ]
    }
   ],
   "source": [
    "# set으로 보기\n",
    "print(set(range(0, 20, 4)))"
   ]
  },
  {
   "cell_type": "code",
   "execution_count": 9,
   "id": "c24e6766",
   "metadata": {},
   "outputs": [
    {
     "name": "stdout",
     "output_type": "stream",
     "text": [
      "0\n",
      "1\n",
      "2\n",
      "3\n",
      "4\n"
     ]
    }
   ],
   "source": [
    "# range 사용한 for문 (1)\n",
    "for a in range(0, 5, 1):\n",
    "    print(a)"
   ]
  },
  {
   "cell_type": "code",
   "execution_count": 10,
   "id": "cccdb949",
   "metadata": {},
   "outputs": [
    {
     "name": "stdout",
     "output_type": "stream",
     "text": [
      "0\n",
      "2\n",
      "4\n",
      "6\n"
     ]
    }
   ],
   "source": [
    "# range 사용한 for문 (2)\n",
    "for a in range(0, 8, 2):\n",
    "    print(a)"
   ]
  },
  {
   "cell_type": "code",
   "execution_count": 11,
   "id": "4dc1a7c8",
   "metadata": {},
   "outputs": [
    {
     "name": "stdout",
     "output_type": "stream",
     "text": [
      "[0, 1, 2, 3, 4, 5, 6, 7, 8, 9]\n"
     ]
    }
   ],
   "source": [
    "# 다양한 형태로 동일 값 표현하기\n",
    "print(list(range(0, 10, 1)))"
   ]
  },
  {
   "cell_type": "code",
   "execution_count": 12,
   "id": "882d7bca",
   "metadata": {},
   "outputs": [
    {
     "name": "stdout",
     "output_type": "stream",
     "text": [
      "[0, 1, 2, 3, 4, 5, 6, 7, 8, 9]\n"
     ]
    }
   ],
   "source": [
    "print(list(range(0, 10, )))"
   ]
  },
  {
   "cell_type": "code",
   "execution_count": 13,
   "id": "158645fe",
   "metadata": {},
   "outputs": [
    {
     "name": "stdout",
     "output_type": "stream",
     "text": [
      "[0, 1, 2, 3, 4, 5, 6, 7, 8, 9]\n"
     ]
    }
   ],
   "source": [
    "print(list(range(10)))"
   ]
  },
  {
   "cell_type": "code",
   "execution_count": 14,
   "id": "50052601",
   "metadata": {},
   "outputs": [
    {
     "name": "stdout",
     "output_type": "stream",
     "text": [
      "x, y\n",
      "x1 y1\n",
      "x1 y2\n",
      "x2 y1\n",
      "x2 y2\n"
     ]
    }
   ],
   "source": [
    "# 중첩 for문\n",
    "x_list = ['x1', 'x2']\n",
    "y_list = ['y1', 'y2']\n",
    "\n",
    "print(\"x, y\")\n",
    "for x in x_list:\n",
    "    for y in y_list:\n",
    "        print(x, y)"
   ]
  },
  {
   "cell_type": "code",
   "execution_count": 15,
   "id": "99984064",
   "metadata": {},
   "outputs": [
    {
     "name": "stdout",
     "output_type": "stream",
     "text": [
      "yoon yoon\n",
      "jang jang\n",
      "jeong jeong\n",
      "kwon kwon\n",
      "yoon A+\n",
      "jang A\n",
      "jeong B\n",
      "kwon C\n"
     ]
    }
   ],
   "source": [
    "# 여러 개의 list를 한번에 다루기\n",
    "names = ['yoon', 'jang', 'jeong', 'kwon']\n",
    "grade = ['A+', 'A', 'B', 'C']\n",
    "for k in range(len(names)):\n",
    "    print(names[k], names[k])\n",
    "for names, grade in zip(names, grade):\n",
    "    print(names, grade)"
   ]
  }
 ],
 "metadata": {
  "kernelspec": {
   "display_name": "Python 3",
   "language": "python",
   "name": "python3"
  },
  "language_info": {
   "codemirror_mode": {
    "name": "ipython",
    "version": 3
   },
   "file_extension": ".py",
   "mimetype": "text/x-python",
   "name": "python",
   "nbconvert_exporter": "python",
   "pygments_lexer": "ipython3",
   "version": "3.8.8"
  }
 },
 "nbformat": 4,
 "nbformat_minor": 5
}
