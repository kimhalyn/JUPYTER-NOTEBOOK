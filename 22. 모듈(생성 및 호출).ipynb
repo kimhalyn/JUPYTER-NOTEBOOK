{
 "cells": [
  {
   "cell_type": "code",
   "execution_count": null,
   "id": "404b75fd",
   "metadata": {},
   "outputs": [],
   "source": [
    "# 모듈 생성하기"
   ]
  },
  {
   "cell_type": "code",
   "execution_count": null,
   "id": "39026e56",
   "metadata": {},
   "outputs": [],
   "source": [
    "%%writefile c:\\Users\\bigdata\\workspace\\Python\\my_module.py\n",
    "    #file name: my_module.py\n",
    "    \n",
    "def my_function():\n",
    "    print(\"Hello, my name is Tom\")"
   ]
  },
  {
   "cell_type": "code",
   "execution_count": 3,
   "id": "55628aeb",
   "metadata": {
    "scrolled": true
   },
   "outputs": [
    {
     "name": "stdout",
     "output_type": "stream",
     "text": [
      "    #file name: my_module.py\n",
      "    \n",
      "def my_function():\n",
      "    print(\"Hello, my name is Tom\")\n"
     ]
    }
   ],
   "source": [
    "# 모듈 내용 살펴보기\n",
    "!type c:\\Users\\bigdata\\workspace\\Python\\my_module.py"
   ]
  },
  {
   "cell_type": "code",
   "execution_count": 4,
   "id": "e66158d0",
   "metadata": {},
   "outputs": [
    {
     "name": "stdout",
     "output_type": "stream",
     "text": [
      "C:\\Users\\bigdata\\workspace\\Python\n"
     ]
    }
   ],
   "source": [
    "cd c:\\Users\\bigdata\\workspace\\Python"
   ]
  },
  {
   "cell_type": "code",
   "execution_count": 5,
   "id": "b7b55b28",
   "metadata": {},
   "outputs": [],
   "source": [
    "import my_module"
   ]
  },
  {
   "cell_type": "code",
   "execution_count": 6,
   "id": "6278d70b",
   "metadata": {},
   "outputs": [
    {
     "name": "stdout",
     "output_type": "stream",
     "text": [
      "Hello, my name is Tom\n"
     ]
    }
   ],
   "source": [
    "my_module.my_function()"
   ]
  },
  {
   "cell_type": "code",
   "execution_count": 7,
   "id": "4b2fe083",
   "metadata": {},
   "outputs": [
    {
     "name": "stdout",
     "output_type": "stream",
     "text": [
      "C:\\Users\\bigdata\\workspace\\Python\\packages;C:\\Users\\bigdata\\workspace\\Python\\modules\n"
     ]
    }
   ],
   "source": [
    "# 환경설정 살펴보기\n",
    "!echo %PYTHONPATH%"
   ]
  },
  {
   "cell_type": "code",
   "execution_count": 8,
   "id": "80a15ee7",
   "metadata": {},
   "outputs": [
    {
     "name": "stdout",
     "output_type": "stream",
     "text": [
      "Writing c:\\Users\\bigdata\\workspace\\Python\\modules\\my_area.py\n"
     ]
    }
   ],
   "source": [
    "%%writefile c:\\Users\\bigdata\\workspace\\Python\\modules\\my_area.py\n",
    "\n",
    "PI = 3.14\n",
    "def square_area(a): # 정사각형 넓이 \n",
    "    return a ** 2\n",
    "\n",
    "def circle_area(r): #원 넓이\n",
    "    return PI * r **2"
   ]
  },
  {
   "cell_type": "code",
   "execution_count": 10,
   "id": "fe689bc5",
   "metadata": {},
   "outputs": [
    {
     "name": "stdout",
     "output_type": "stream",
     "text": [
      "C:\\Users\\bigdata\\workspace\\Python\n"
     ]
    }
   ],
   "source": [
    "cd c:\\Users\\bigdata\\workspace\\Python"
   ]
  },
  {
   "cell_type": "code",
   "execution_count": 11,
   "id": "0a115c83",
   "metadata": {},
   "outputs": [],
   "source": [
    "import my_area"
   ]
  },
  {
   "cell_type": "code",
   "execution_count": 14,
   "id": "515cac36",
   "metadata": {},
   "outputs": [
    {
     "name": "stdout",
     "output_type": "stream",
     "text": [
      "PI= 3.14\n",
      "square_area= 25\n",
      "circle_area= 78.5\n"
     ]
    }
   ],
   "source": [
    "print(\"PI=\", my_area.PI)\n",
    "print(\"square_area=\", my_area.square_area(5))\n",
    "print(\"circle_area=\", my_area.circle_area(5))"
   ]
  },
  {
   "cell_type": "code",
   "execution_count": 15,
   "id": "c5c21b70",
   "metadata": {},
   "outputs": [
    {
     "data": {
      "text/plain": [
       "['PI',\n",
       " '__builtins__',\n",
       " '__cached__',\n",
       " '__doc__',\n",
       " '__file__',\n",
       " '__loader__',\n",
       " '__name__',\n",
       " '__package__',\n",
       " '__spec__',\n",
       " 'circle_area',\n",
       " 'square_area']"
      ]
     },
     "execution_count": 15,
     "metadata": {},
     "output_type": "execute_result"
    }
   ],
   "source": [
    "dir(my_area)"
   ]
  },
  {
   "cell_type": "code",
   "execution_count": 16,
   "id": "e20c81fd",
   "metadata": {},
   "outputs": [
    {
     "name": "stdout",
     "output_type": "stream",
     "text": [
      "3.14\n"
     ]
    }
   ],
   "source": [
    "from my_area import PI\n",
    "print(\"PI=\", my_area.PI)"
   ]
  },
  {
   "cell_type": "code",
   "execution_count": 17,
   "id": "9a3032bb",
   "metadata": {},
   "outputs": [],
   "source": [
    "from my_area import square_area\n",
    "from my_area import circle_area"
   ]
  },
  {
   "cell_type": "code",
   "execution_count": 27,
   "id": "a79c5b5f",
   "metadata": {},
   "outputs": [
    {
     "name": "stdout",
     "output_type": "stream",
     "text": [
      "square_area:  64\n"
     ]
    }
   ],
   "source": [
    "print(\"square_area: \", my_area.square_area(8))"
   ]
  },
  {
   "cell_type": "code",
   "execution_count": 28,
   "id": "4101a079",
   "metadata": {},
   "outputs": [
    {
     "name": "stdout",
     "output_type": "stream",
     "text": [
      "circle_area= 200.96\n"
     ]
    }
   ],
   "source": [
    "print(\"circle_area=\", my_area.circle_area(8))"
   ]
  },
  {
   "cell_type": "code",
   "execution_count": 29,
   "id": "d7e7bc67",
   "metadata": {},
   "outputs": [
    {
     "name": "stdout",
     "output_type": "stream",
     "text": [
      "PI= 3.14\n",
      "square_area:  64\n",
      "circle_area= 200.96\n"
     ]
    }
   ],
   "source": [
    "from my_area import square_area, PI, circle_area\n",
    "print(\"PI=\", my_area.PI)\n",
    "print(\"square_area: \", my_area.square_area(8))\n",
    "print(\"circle_area=\", my_area.circle_area(8))"
   ]
  },
  {
   "cell_type": "code",
   "execution_count": 30,
   "id": "2b7c8be3",
   "metadata": {},
   "outputs": [
    {
     "name": "stdout",
     "output_type": "stream",
     "text": [
      "PI= 3.14\n",
      "square_area:  100\n",
      "circle_area= 314.0\n"
     ]
    }
   ],
   "source": [
    "from my_area import *\n",
    "print(\"PI=\", my_area.PI)\n",
    "print(\"square_area: \", my_area.square_area(10))\n",
    "print(\"circle_area=\", my_area.circle_area(10))"
   ]
  },
  {
   "cell_type": "code",
   "execution_count": 31,
   "id": "eddd22de",
   "metadata": {},
   "outputs": [],
   "source": [
    "# 별명 생성\n",
    "import my_area as area"
   ]
  },
  {
   "cell_type": "code",
   "execution_count": 32,
   "id": "7e8877c2",
   "metadata": {},
   "outputs": [
    {
     "name": "stdout",
     "output_type": "stream",
     "text": [
      "PI= 3.14\n",
      "square_area:  100\n",
      "circle_area= 314.0\n"
     ]
    }
   ],
   "source": [
    "print(\"PI=\", area.PI)\n",
    "print(\"square_area: \", area.square_area(10))\n",
    "print(\"circle_area=\", area.circle_area(10))"
   ]
  },
  {
   "cell_type": "code",
   "execution_count": 33,
   "id": "311cfa39",
   "metadata": {},
   "outputs": [],
   "source": [
    "from my_area import PI as pi\n",
    "from my_area import square_area as square\n",
    "from my_area import circle_area as circle"
   ]
  },
  {
   "cell_type": "code",
   "execution_count": 34,
   "id": "02419edd",
   "metadata": {},
   "outputs": [
    {
     "name": "stdout",
     "output_type": "stream",
     "text": [
      "PI= 3.14\n",
      "square_area:  81\n",
      "circle_area= 254.34\n"
     ]
    }
   ],
   "source": [
    "print(\"PI=\", pi)\n",
    "print(\"square_area: \",square(9))\n",
    "print(\"circle_area=\", circle(9))"
   ]
  },
  {
   "cell_type": "code",
   "execution_count": 45,
   "id": "a2596eb4",
   "metadata": {},
   "outputs": [
    {
     "name": "stdout",
     "output_type": "stream",
     "text": [
      "Overwriting c:\\Users\\bigdata\\workspace\\Python\\modules\\module_test1.py\n"
     ]
    }
   ],
   "source": [
    "%%writefile c:\\Users\\bigdata\\workspace\\Python\\modules\\module_test1.py\n",
    "\n",
    "def func(a):\n",
    "    print(\"입력한 값은 : \", a)\n",
    "func(3)"
   ]
  },
  {
   "cell_type": "code",
   "execution_count": 46,
   "id": "5893a8e9",
   "metadata": {},
   "outputs": [
    {
     "name": "stdout",
     "output_type": "stream",
     "text": [
      "입력한 값은 :  3\n"
     ]
    }
   ],
   "source": [
    "%run c:\\Users\\bigdata\\workspace\\Python\\modules\\module_test1.py"
   ]
  },
  {
   "cell_type": "code",
   "execution_count": 1,
   "id": "06728f77",
   "metadata": {},
   "outputs": [
    {
     "name": "stdout",
     "output_type": "stream",
     "text": [
      "입력한 값은 :  3\n"
     ]
    }
   ],
   "source": [
    "import module_test1"
   ]
  },
  {
   "cell_type": "code",
   "execution_count": 12,
   "id": "9919358d",
   "metadata": {},
   "outputs": [],
   "source": [
    "# 모듈에서 직접 실행 -> if __name__ == \"__main__\": 코드 블럭 실행\n",
    "# import -> else: 코드 블럭 실행\n",
    "\n",
    "# 만약 함수를 생성한 상태라면 ->\n",
    "# import -> 생성한 함수만 호출"
   ]
  },
  {
   "cell_type": "code",
   "execution_count": null,
   "id": "99ed1a9b",
   "metadata": {},
   "outputs": [],
   "source": [
    "# 모듈 직접 실행 -> if만 생성"
   ]
  },
  {
   "cell_type": "code",
   "execution_count": 13,
   "id": "e202f246",
   "metadata": {},
   "outputs": [
    {
     "name": "stdout",
     "output_type": "stream",
     "text": [
      "Overwriting c:\\Users\\bigdata\\workspace\\Python\\modules\\module_test2.py\n"
     ]
    }
   ],
   "source": [
    "%%writefile c:\\Users\\bigdata\\workspace\\Python\\modules\\module_test2.py\n",
    "\n",
    "def func(a):\n",
    "    print(\"입력한 값은 : \", a)\n",
    "    \n",
    "if __name__ == \"__main__\":\n",
    "    print(\"모듈을 직접 실행하였습니다.\")\n",
    "    func(3)\n",
    "    func(4)"
   ]
  },
  {
   "cell_type": "code",
   "execution_count": 14,
   "id": "aae3b8dc",
   "metadata": {},
   "outputs": [
    {
     "name": "stdout",
     "output_type": "stream",
     "text": [
      "모듈을 직접 실행하였습니다.\n",
      "입력한 값은 :  3\n",
      "입력한 값은 :  4\n"
     ]
    }
   ],
   "source": [
    "%run c:\\Users\\bigdata\\workspace\\Python\\modules\\module_test2.py"
   ]
  },
  {
   "cell_type": "code",
   "execution_count": 22,
   "id": "d32c6d95",
   "metadata": {},
   "outputs": [],
   "source": [
    "# import 실행"
   ]
  },
  {
   "cell_type": "code",
   "execution_count": 24,
   "id": "3f92c270",
   "metadata": {},
   "outputs": [
    {
     "name": "stdout",
     "output_type": "stream",
     "text": [
      "입력한 값은 :  5\n"
     ]
    }
   ],
   "source": [
    "import module_test2 #if문이 실행 안됨\n",
    "func(5)"
   ]
  },
  {
   "cell_type": "code",
   "execution_count": 25,
   "id": "215f52b7",
   "metadata": {},
   "outputs": [],
   "source": [
    "import module_test2 "
   ]
  },
  {
   "cell_type": "code",
   "execution_count": 16,
   "id": "240e9e02",
   "metadata": {},
   "outputs": [],
   "source": [
    "# else문 작성"
   ]
  },
  {
   "cell_type": "code",
   "execution_count": 18,
   "id": "79bf66bb",
   "metadata": {},
   "outputs": [
    {
     "name": "stdout",
     "output_type": "stream",
     "text": [
      "Overwriting c:\\Users\\bigdata\\workspace\\Python\\modules\\module_test3.py\n"
     ]
    }
   ],
   "source": [
    "%%writefile c:\\Users\\bigdata\\workspace\\Python\\modules\\module_test3.py\n",
    "\n",
    "def func(a):\n",
    "    print(\"입력한 값은 : \", a)\n",
    "    \n",
    "if __name__ == \"__main__\":\n",
    "    print(\"모듈을 직접 실행하였습니다.\")\n",
    "    func(3)\n",
    "    func(4)\n",
    "else:\n",
    "    print(\"모듈을 임포트해서 실행했습니다.\")"
   ]
  },
  {
   "cell_type": "code",
   "execution_count": 19,
   "id": "a295cbeb",
   "metadata": {},
   "outputs": [
    {
     "name": "stdout",
     "output_type": "stream",
     "text": [
      "모듈을 직접 실행하였습니다.\n",
      "입력한 값은 :  3\n",
      "입력한 값은 :  4\n"
     ]
    }
   ],
   "source": [
    "# 직접 실행 -> if문\n",
    "%run c:\\Users\\bigdata\\workspace\\Python\\modules\\module_test3.py"
   ]
  },
  {
   "cell_type": "code",
   "execution_count": 20,
   "id": "26d8efad",
   "metadata": {},
   "outputs": [
    {
     "name": "stdout",
     "output_type": "stream",
     "text": [
      "모듈을 임포트해서 실행했습니다.\n"
     ]
    }
   ],
   "source": [
    "# import로 실행 -> else문\n",
    "import module_test3"
   ]
  },
  {
   "cell_type": "code",
   "execution_count": 27,
   "id": "9b2499c1",
   "metadata": {},
   "outputs": [
    {
     "name": "stdout",
     "output_type": "stream",
     "text": [
      "입력한 값은 :  5\n"
     ]
    }
   ],
   "source": [
    "import module_test3 #함수 실행\n",
    "func(5)"
   ]
  }
 ],
 "metadata": {
  "kernelspec": {
   "display_name": "Python 3",
   "language": "python",
   "name": "python3"
  },
  "language_info": {
   "codemirror_mode": {
    "name": "ipython",
    "version": 3
   },
   "file_extension": ".py",
   "mimetype": "text/x-python",
   "name": "python",
   "nbconvert_exporter": "python",
   "pygments_lexer": "ipython3",
   "version": "3.8.8"
  }
 },
 "nbformat": 4,
 "nbformat_minor": 5
}
