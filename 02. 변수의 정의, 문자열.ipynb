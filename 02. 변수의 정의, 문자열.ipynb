{
 "cells": [
  {
   "cell_type": "code",
   "execution_count": 6,
   "id": "29134485",
   "metadata": {},
   "outputs": [
    {
     "data": {
      "text/plain": [
       "str"
      ]
     },
     "execution_count": 6,
     "metadata": {},
     "output_type": "execute_result"
    }
   ],
   "source": [
    "# 자료형태 파악하기\n",
    "a = \"Hi My name is Biggy\"\n",
    "type(a)"
   ]
  },
  {
   "cell_type": "code",
   "execution_count": 2,
   "id": "d94490e2",
   "metadata": {},
   "outputs": [
    {
     "name": "stdout",
     "output_type": "stream",
     "text": [
      "갈릴레오 갈릴레이는 말했다 \"그래도 지구는 돈다.\"\n"
     ]
    }
   ],
   "source": [
    "print('갈릴레오 갈릴레이는 말했다 \"그래도 지구는 돈다.\"')"
   ]
  },
  {
   "cell_type": "code",
   "execution_count": 8,
   "id": "abfbfcb0",
   "metadata": {},
   "outputs": [
    {
     "name": "stdout",
     "output_type": "stream",
     "text": [
      "Python is easy to code\n"
     ]
    }
   ],
   "source": [
    "# 문자열 연산\n",
    "str1 = \"Python is \"\n",
    "str2 = \"easy to code\"\n",
    "str1 + str2"
   ]
  },
  {
   "cell_type": "code",
   "execution_count": 5,
   "id": "ae9c16fa",
   "metadata": {},
   "outputs": [
    {
     "name": "stdout",
     "output_type": "stream",
     "text": [
      " python python python python python\n"
     ]
    }
   ],
   "source": [
    "a = ' python'\n",
    "print(a * 5)"
   ]
  }
 ],
 "metadata": {
  "kernelspec": {
   "display_name": "Python 3",
   "language": "python",
   "name": "python3"
  },
  "language_info": {
   "codemirror_mode": {
    "name": "ipython",
    "version": 3
   },
   "file_extension": ".py",
   "mimetype": "text/x-python",
   "name": "python",
   "nbconvert_exporter": "python",
   "pygments_lexer": "ipython3",
   "version": "3.8.8"
  }
 },
 "nbformat": 4,
 "nbformat_minor": 5
}
