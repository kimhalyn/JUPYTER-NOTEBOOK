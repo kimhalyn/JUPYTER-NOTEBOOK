{
 "cells": [
  {
   "cell_type": "code",
   "execution_count": 4,
   "id": "074e3a50",
   "metadata": {},
   "outputs": [],
   "source": [
    "# 인스턴스 메서드 : 각 객체에서 개별적으로 동작하는 함수\n",
    "\n",
    "class Car2():\n",
    "    count = 0 # 클래스 변수\n",
    "    \n",
    "    # 인스턴스 함수\n",
    "    def __init__(self, wheel, color, num):\n",
    "        self.wheel = wheel # 인스턴스 변수\n",
    "        self.color = color # 인스턴스 변수\n",
    "        self.count = num # 인스턴스 변수\n",
    "        Car2.count = Car2.count + 1 # 클래스 변수\n",
    "        print(\"({0}, {1})자동차 개체의 수: Car2.count={2}\".format(self.wheel, self.color, Car2.count))\n",
    "        print(\"({0}, {1})자동차의 인원의 수 : self.count={2}\".format(self.wheel, self.color, self.count))\n",
    "        \n",
    "    def move(self, speed):\n",
    "        self.speed = speed\n",
    "        print(\"자동차({0}, {1})가 {2}킬로 미터로 주행한다.\".format(self.wheel, self.color, self.speed))\n",
    "    \n",
    "    def auto_curise(self):\n",
    "        print(\"자율 주행 모드입니다.\")\n",
    "        self.move(self.speed)"
   ]
  },
  {
   "cell_type": "code",
   "execution_count": 5,
   "id": "ab43ac72",
   "metadata": {},
   "outputs": [
    {
     "name": "stdout",
     "output_type": "stream",
     "text": [
      "(19, white)자동차 개체의 수: Car2.count=1\n",
      "(19, white)자동차의 인원의 수 : self.count=2\n"
     ]
    }
   ],
   "source": [
    "car1 = Car2(19, \"white\", 2)"
   ]
  },
  {
   "cell_type": "code",
   "execution_count": 6,
   "id": "577d5967",
   "metadata": {},
   "outputs": [
    {
     "name": "stdout",
     "output_type": "stream",
     "text": [
      "자동차(19, white)가 80킬로 미터로 주행한다.\n"
     ]
    }
   ],
   "source": [
    "car1.move(80)"
   ]
  },
  {
   "cell_type": "code",
   "execution_count": 7,
   "id": "31d99f7c",
   "metadata": {},
   "outputs": [
    {
     "name": "stdout",
     "output_type": "stream",
     "text": [
      "자율 주행 모드입니다.\n",
      "자동차(19, white)가 80킬로 미터로 주행한다.\n"
     ]
    }
   ],
   "source": [
    "car1.auto_curise()"
   ]
  },
  {
   "cell_type": "code",
   "execution_count": 1,
   "id": "e7e3558a",
   "metadata": {},
   "outputs": [],
   "source": [
    "# 정적 메서드 : 클래스 안에서 정의하지만 클래스 및 인스턴스와 무관하게 독립적으로 동작하는 함수\n",
    "# @staticmethod로 선언 후 함수 정의, \"클래스.정적메서드명()\"으로 호출\n",
    "\n",
    "class Car2():\n",
    "    \n",
    "    @staticmethod\n",
    "    def check_type(model_code):\n",
    "        if(model_code) >= 20:\n",
    "            print(\"전기차 입니다.\")\n",
    "        elif(10 <= model_code <20):\n",
    "            print(\"가솔린차 입니다.\")\n",
    "        else:\n",
    "            print(\"디젤차 입니다.\")"
   ]
  },
  {
   "cell_type": "code",
   "execution_count": 2,
   "id": "b118f36a",
   "metadata": {},
   "outputs": [
    {
     "name": "stdout",
     "output_type": "stream",
     "text": [
      "가솔린차 입니다.\n"
     ]
    }
   ],
   "source": [
    "Car2.check_type(15)"
   ]
  },
  {
   "cell_type": "code",
   "execution_count": 7,
   "id": "a7864ad8",
   "metadata": {},
   "outputs": [],
   "source": [
    "# 클래스 메서드 : 클래스 변수를 사용하기 위한 함수\n",
    "# @ classmethod로 선언한 후 \"함수명(cls)\"로 정의\n",
    "# \"클래스.클래스메서드명()\"으로 호출\n",
    "\n",
    "class Car2():\n",
    "    count = 0 # 클래스 변수\n",
    "    \n",
    "    # 인스턴스 함수\n",
    "    def __init__(self, wheel, color, num):\n",
    "        self.wheel = wheel # 인스턴스 변수\n",
    "        self.color = color # 인스턴스 변수\n",
    "        self.count = num # 인스턴스 변수\n",
    "        Car2.count = Car2.count + 1 # 클래스 변수\n",
    "        print(\"({0}, {1})자동차 개체의 수: Car2.count={2}\".format(self.wheel, self.color, Car2.count))\n",
    "        print(\"({0}, {1})자동차의 인원의 수 : self.count={2}\".format(self.wheel, self.color, self.count))\n",
    "        \n",
    "    def move(self, speed):\n",
    "        self.speed = speed\n",
    "        print(\"자동차({0}, {1})가 {2}킬로 미터로 주행한다.\".format(self.wheel, self.color, self.speed))\n",
    "    \n",
    "    def auto_curise(self):\n",
    "        print(\"자율 주행 모드입니다.\")\n",
    "        self.move(self.speed)\n",
    "        \n",
    "    @staticmethod\n",
    "    def check_type(model_code):\n",
    "        if(model_code) >= 20:\n",
    "            print(\"전기차 입니다.\")\n",
    "        elif(10 <= model_code <20):\n",
    "            print(\"가솔린차 입니다.\")\n",
    "        else:\n",
    "            print(\"디젤차 입니다.\")\n",
    "            \n",
    "        \n",
    "    @classmethod\n",
    "    def instance_count(cls):\n",
    "        print(\"자동차의 개체수는 : {}\".format(cls.count))"
   ]
  },
  {
   "cell_type": "code",
   "execution_count": 12,
   "id": "6ba56234",
   "metadata": {},
   "outputs": [
    {
     "name": "stdout",
     "output_type": "stream",
     "text": [
      "자동차의 개체수는 : 2\n"
     ]
    }
   ],
   "source": [
    "Car2.instance_count()"
   ]
  },
  {
   "cell_type": "code",
   "execution_count": 9,
   "id": "7bd1bb3e",
   "metadata": {},
   "outputs": [
    {
     "name": "stdout",
     "output_type": "stream",
     "text": [
      "(19, white)자동차 개체의 수: Car2.count=1\n",
      "(19, white)자동차의 인원의 수 : self.count=2\n"
     ]
    }
   ],
   "source": [
    "car1 = Car2(19, \"white\", 2)"
   ]
  },
  {
   "cell_type": "code",
   "execution_count": 13,
   "id": "c044c802",
   "metadata": {},
   "outputs": [
    {
     "name": "stdout",
     "output_type": "stream",
     "text": [
      "(23, red)자동차 개체의 수: Car2.count=3\n",
      "(23, red)자동차의 인원의 수 : self.count=3\n"
     ]
    }
   ],
   "source": [
    "car2 = Car2(23, \"red\", 3)"
   ]
  }
 ],
 "metadata": {
  "kernelspec": {
   "display_name": "Python 3",
   "language": "python",
   "name": "python3"
  },
  "language_info": {
   "codemirror_mode": {
    "name": "ipython",
    "version": 3
   },
   "file_extension": ".py",
   "mimetype": "text/x-python",
   "name": "python",
   "nbconvert_exporter": "python",
   "pygments_lexer": "ipython3",
   "version": "3.8.8"
  }
 },
 "nbformat": 4,
 "nbformat_minor": 5
}
