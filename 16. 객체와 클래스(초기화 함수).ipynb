{
 "cells": [
  {
   "cell_type": "code",
   "execution_count": 16,
   "id": "fa03d3e7",
   "metadata": {},
   "outputs": [],
   "source": [
    "# 초기화 함수 사용\n",
    "class Car():\n",
    "    def __init__(self, wheel, color): #self = 객체라는 의미\n",
    "        self.wheel = wheel\n",
    "        self.color = color\n",
    "        \n",
    "    def moves(self, speed):\n",
    "        print(\"자동차 : 시속 {}킬로 미터로 전진\".format(speed))\n",
    "    def turn(self, direction):\n",
    "        print(\"자동차 : {}방향으로 회전\".format(direction))\n",
    "    def stop(self):\n",
    "        print(\"자동차 ({0}, {1}): 정지\".format(self.wheel, self.color))"
   ]
  },
  {
   "cell_type": "code",
   "execution_count": 17,
   "id": "f90a6f8a",
   "metadata": {},
   "outputs": [],
   "source": [
    "# 객체 선언\n",
    "my_car = Car(19, \"white\")"
   ]
  },
  {
   "cell_type": "markdown",
   "id": "c4156189",
   "metadata": {},
   "source": [
    "my_car.moves(70)\n",
    "my_car.turn(\"left\")\n",
    "my_car.stop()"
   ]
  },
  {
   "cell_type": "code",
   "execution_count": 18,
   "id": "0f2ad748",
   "metadata": {},
   "outputs": [
    {
     "name": "stdout",
     "output_type": "stream",
     "text": [
      "자동차 : 시속 60킬로 미터로 전진\n",
      "자동차 : left방향으로 회전\n",
      "자동차 (19, white): 정지\n"
     ]
    }
   ],
   "source": [
    "my_car.moves(60)\n",
    "my_car.turn(\"left\")\n",
    "my_car.stop()"
   ]
  },
  {
   "cell_type": "code",
   "execution_count": 19,
   "id": "c00cd4f3",
   "metadata": {},
   "outputs": [],
   "source": [
    "# 1. 클래스 변수 : 클래스 내에 있지만 함수 밖에서 '변수명 = 데이터' 형식으로 정의\n",
    "# 클래스에서 생성한 모든 객체가 공통으로 사용\n",
    "# \"클래스명.변수명\n",
    "\n",
    "# 2. 인스턴스 변수 : 클래스 내의 함수 안에서 'self.변수명 = 데이터' 형식으로 정의\n",
    "# 클래스 내의 모든 함수에서 \"self.변수명\"으로 접근하고 \"객체명.변수명\" 형식으로 사용"
   ]
  },
  {
   "cell_type": "code",
   "execution_count": 22,
   "id": "48c6bd9a",
   "metadata": {},
   "outputs": [],
   "source": [
    "class Car2():\n",
    "    instance_count = 0 # 클래스 변수\n",
    "    \n",
    "    def __init__(self, wheel, color):\n",
    "        self.wheel = wheel # 인스턴스 변수\n",
    "        self.color = color # 인스턴스 변수\n",
    "        Car2.instance_count = Car2.instance_count + 1 # 클래스 변수\n",
    "        print(\"자동차 개체의 수: {}\".format(Car2.instance_count))\n",
    "        \n",
    "        \n",
    "    def moves(self, speed):\n",
    "        print(\"자동차 : 시속 {}킬로 미터로 전진\".format(speed))\n",
    "    def turn(self, direction):\n",
    "        print(\"자동차 : {}방향으로 회전\".format(direction))\n",
    "    def stop(self):\n",
    "        print(\"자동차 ({0}, {1}): 정지\".format(self.wheel, self.color))"
   ]
  },
  {
   "cell_type": "code",
   "execution_count": 23,
   "id": "117f0690",
   "metadata": {},
   "outputs": [
    {
     "name": "stdout",
     "output_type": "stream",
     "text": [
      "자동차 개체의 수: 1\n",
      "자동차 개체의 수: 2\n"
     ]
    }
   ],
   "source": [
    "car1 = Car2(16, \"green\")\n",
    "car2 = Car2(18, \"orange\")"
   ]
  },
  {
   "cell_type": "code",
   "execution_count": 24,
   "id": "4f4ee833",
   "metadata": {},
   "outputs": [
    {
     "name": "stdout",
     "output_type": "stream",
     "text": [
      "자동차 : 시속 30킬로 미터로 전진\n"
     ]
    }
   ],
   "source": [
    "car1.moves(30)"
   ]
  },
  {
   "cell_type": "code",
   "execution_count": 25,
   "id": "c6dc3095",
   "metadata": {},
   "outputs": [
    {
     "name": "stdout",
     "output_type": "stream",
     "text": [
      "자동차 : 시속 80킬로 미터로 전진\n"
     ]
    }
   ],
   "source": [
    "car2.moves(80)"
   ]
  },
  {
   "cell_type": "code",
   "execution_count": 30,
   "id": "67fc6391",
   "metadata": {},
   "outputs": [],
   "source": [
    "# 동일한 명칭의 클래스 및 인스턴스 변수\n",
    "class Car2():\n",
    "    count = 0 # 클래스 변수\n",
    "    \n",
    "    def __init__(self, wheel, color, num):\n",
    "        self.wheel = wheel # 인스턴스 변수\n",
    "        self.color = color # 인스턴스 변수\n",
    "        self.count = num # 인스턴스 변수\n",
    "        Car2.count = Car2.count + 1 # 클래스 변수\n",
    "        print(\"({0}, {1})자동차 개체의 수: Car2.count={2}\".format(self.wheel, self.color, Car2.count))\n",
    "        print(\"({0}, {1})자동차의 인원의 수 : self.count={2}\".format(self.wheel, self.color, self.count))"
   ]
  },
  {
   "cell_type": "code",
   "execution_count": 31,
   "id": "737da806",
   "metadata": {},
   "outputs": [
    {
     "name": "stdout",
     "output_type": "stream",
     "text": [
      "(18, red)자동차 개체의 수: Car2.count=1\n",
      "(18, red)자동차의 인원의 수 : self.count=2\n",
      "(20, blue)자동차 개체의 수: Car2.count=2\n",
      "(20, blue)자동차의 인원의 수 : self.count=4\n"
     ]
    }
   ],
   "source": [
    "car1 = Car2(18, \"red\", 2)\n",
    "car2 = Car2(20, \"blue\", 4)"
   ]
  }
 ],
 "metadata": {
  "kernelspec": {
   "display_name": "Python 3",
   "language": "python",
   "name": "python3"
  },
  "language_info": {
   "codemirror_mode": {
    "name": "ipython",
    "version": 3
   },
   "file_extension": ".py",
   "mimetype": "text/x-python",
   "name": "python",
   "nbconvert_exporter": "python",
   "pygments_lexer": "ipython3",
   "version": "3.8.8"
  }
 },
 "nbformat": 4,
 "nbformat_minor": 5
}
