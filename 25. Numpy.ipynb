{
 "cells": [
  {
   "cell_type": "code",
   "execution_count": 2,
   "id": "53db04c3",
   "metadata": {},
   "outputs": [
    {
     "data": {
      "text/plain": [
       "array([0, 1, 2, 3, 4, 5, 6, 7, 8])"
      ]
     },
     "execution_count": 2,
     "metadata": {},
     "output_type": "execute_result"
    }
   ],
   "source": [
    "# 배열 생성\n",
    "import numpy as np\n",
    "data1 = [0,1,2,3,4,5,6,7,8]\n",
    "a1 = np.array(data1)\n",
    "a1"
   ]
  },
  {
   "cell_type": "code",
   "execution_count": 4,
   "id": "93a8a699",
   "metadata": {},
   "outputs": [
    {
     "data": {
      "text/plain": [
       "array([ 0.  ,  1.  ,  3.  ,  5.  , 10.  ,  0.25])"
      ]
     },
     "execution_count": 4,
     "metadata": {},
     "output_type": "execute_result"
    }
   ],
   "source": [
    "# 실수\n",
    "data2 = [0, 1, 3, 5, 10, 0.25]\n",
    "a2 = np.array(data2)\n",
    "a2"
   ]
  },
  {
   "cell_type": "code",
   "execution_count": 10,
   "id": "1907c16a",
   "metadata": {},
   "outputs": [
    {
     "data": {
      "text/plain": [
       "array([0.5 , 2.  , 6.  , 0.01])"
      ]
     },
     "execution_count": 10,
     "metadata": {},
     "output_type": "execute_result"
    }
   ],
   "source": [
    "np.array([0.5, 2, 6, 0.01])"
   ]
  },
  {
   "cell_type": "code",
   "execution_count": 7,
   "id": "6c7c7d9f",
   "metadata": {},
   "outputs": [
    {
     "data": {
      "text/plain": [
       "dtype('int32')"
      ]
     },
     "execution_count": 7,
     "metadata": {},
     "output_type": "execute_result"
    }
   ],
   "source": [
    "# 데이터 타입 확인\n",
    "a1.dtype"
   ]
  },
  {
   "cell_type": "code",
   "execution_count": 8,
   "id": "ea01dd5c",
   "metadata": {},
   "outputs": [
    {
     "data": {
      "text/plain": [
       "dtype('float64')"
      ]
     },
     "execution_count": 8,
     "metadata": {},
     "output_type": "execute_result"
    }
   ],
   "source": [
    "a2.dtype"
   ]
  },
  {
   "cell_type": "code",
   "execution_count": 12,
   "id": "33b03ab2",
   "metadata": {},
   "outputs": [
    {
     "data": {
      "text/plain": [
       "array([[1, 2, 3],\n",
       "       [4, 5, 6],\n",
       "       [7, 8, 9]])"
      ]
     },
     "execution_count": 12,
     "metadata": {},
     "output_type": "execute_result"
    }
   ],
   "source": [
    "# 행렬형태의 배열 생성\n",
    "np.array([[1, 2, 3], [4, 5, 6] ,[7, 8, 9]])"
   ]
  },
  {
   "cell_type": "code",
   "execution_count": 14,
   "id": "44a7662f",
   "metadata": {},
   "outputs": [
    {
     "data": {
      "text/plain": [
       "array([0, 2, 4, 6, 8])"
      ]
     },
     "execution_count": 14,
     "metadata": {},
     "output_type": "execute_result"
    }
   ],
   "source": [
    "# 범위를 지정하여 배열 생성\n",
    "np.arange(0, 10, 2)"
   ]
  },
  {
   "cell_type": "code",
   "execution_count": 16,
   "id": "56dd55f1",
   "metadata": {},
   "outputs": [
    {
     "data": {
      "text/plain": [
       "array([1, 2, 3, 4, 5, 6, 7, 8, 9])"
      ]
     },
     "execution_count": 16,
     "metadata": {},
     "output_type": "execute_result"
    }
   ],
   "source": [
    "np.arange(1, 10) # 1부터 10미만"
   ]
  },
  {
   "cell_type": "code",
   "execution_count": 17,
   "id": "a046cd66",
   "metadata": {},
   "outputs": [
    {
     "data": {
      "text/plain": [
       "array([0, 1, 2, 3, 4])"
      ]
     },
     "execution_count": 17,
     "metadata": {},
     "output_type": "execute_result"
    }
   ],
   "source": [
    "np.arange(5) #0부터 5미만"
   ]
  },
  {
   "cell_type": "code",
   "execution_count": 18,
   "id": "470b9143",
   "metadata": {},
   "outputs": [
    {
     "data": {
      "text/plain": [
       "array([[ 0,  1,  2],\n",
       "       [ 3,  4,  5],\n",
       "       [ 6,  7,  8],\n",
       "       [ 9, 10, 11]])"
      ]
     },
     "execution_count": 18,
     "metadata": {},
     "output_type": "execute_result"
    }
   ],
   "source": [
    "#2차원 배열 형태\n",
    "np.arange(12).reshape(4, 3) #0부터 11까지의 숫자를 4행 3열의 행렬로 표현"
   ]
  },
  {
   "cell_type": "code",
   "execution_count": 19,
   "id": "22465ec4",
   "metadata": {},
   "outputs": [
    {
     "data": {
      "text/plain": [
       "(4, 3)"
      ]
     },
     "execution_count": 19,
     "metadata": {},
     "output_type": "execute_result"
    }
   ],
   "source": [
    "#행렬 형태 묻기\n",
    "b1 = np.arange(12).reshape(4, 3)\n",
    "b1.shape"
   ]
  },
  {
   "cell_type": "code",
   "execution_count": 4,
   "id": "d56aadc5",
   "metadata": {},
   "outputs": [
    {
     "data": {
      "text/plain": [
       "array([0, 1, 2, 3, 4])"
      ]
     },
     "execution_count": 4,
     "metadata": {},
     "output_type": "execute_result"
    }
   ],
   "source": [
    "b2 = np.arange(5)\n",
    "b2"
   ]
  },
  {
   "cell_type": "code",
   "execution_count": 5,
   "id": "2c9f6ea6",
   "metadata": {},
   "outputs": [
    {
     "data": {
      "text/plain": [
       "(5,)"
      ]
     },
     "execution_count": 5,
     "metadata": {},
     "output_type": "execute_result"
    }
   ],
   "source": [
    "b2.shape"
   ]
  },
  {
   "cell_type": "code",
   "execution_count": 8,
   "id": "d0a56ed8",
   "metadata": {},
   "outputs": [
    {
     "data": {
      "text/plain": [
       "array([ 1.,  2.,  3.,  4.,  5.,  6.,  7.,  8.,  9., 10.])"
      ]
     },
     "execution_count": 8,
     "metadata": {},
     "output_type": "execute_result"
    }
   ],
   "source": [
    "# 범위 지정 후 원하는 개수만큼 데이터 추출\n",
    "np.linspace(1, 10, 10) #1이상 10이하의 숫자 중 10개 뽑아서"
   ]
  },
  {
   "cell_type": "code",
   "execution_count": 9,
   "id": "b44b7ec0",
   "metadata": {},
   "outputs": [
    {
     "data": {
      "text/plain": [
       "array([0.        , 0.16534698, 0.33069396, 0.49604095, 0.66138793,\n",
       "       0.82673491, 0.99208189, 1.15742887, 1.32277585, 1.48812284,\n",
       "       1.65346982, 1.8188168 , 1.98416378, 2.14951076, 2.31485774,\n",
       "       2.48020473, 2.64555171, 2.81089869, 2.97624567, 3.14159265])"
      ]
     },
     "execution_count": 9,
     "metadata": {},
     "output_type": "execute_result"
    }
   ],
   "source": [
    "np.linspace(0, np.pi, 20)"
   ]
  },
  {
   "cell_type": "code",
   "execution_count": 10,
   "id": "bdedfe80",
   "metadata": {},
   "outputs": [
    {
     "data": {
      "text/plain": [
       "array([0., 0., 0., 0., 0., 0., 0., 0., 0., 0.])"
      ]
     },
     "execution_count": 10,
     "metadata": {},
     "output_type": "execute_result"
    }
   ],
   "source": [
    "# 특별한 형태의 배열\n",
    "np.zeros(10)"
   ]
  },
  {
   "cell_type": "code",
   "execution_count": 11,
   "id": "525a99a1",
   "metadata": {},
   "outputs": [
    {
     "data": {
      "text/plain": [
       "array([1., 1., 1., 1., 1., 1., 1., 1., 1., 1.])"
      ]
     },
     "execution_count": 11,
     "metadata": {},
     "output_type": "execute_result"
    }
   ],
   "source": [
    "np.ones(10)"
   ]
  },
  {
   "cell_type": "code",
   "execution_count": 13,
   "id": "1b9260f5",
   "metadata": {},
   "outputs": [
    {
     "data": {
      "text/plain": [
       "array([[0., 0., 0., 0.],\n",
       "       [0., 0., 0., 0.],\n",
       "       [0., 0., 0., 0.]])"
      ]
     },
     "execution_count": 13,
     "metadata": {},
     "output_type": "execute_result"
    }
   ],
   "source": [
    "np.zeros((3, 4))"
   ]
  },
  {
   "cell_type": "code",
   "execution_count": 14,
   "id": "7ac2b100",
   "metadata": {},
   "outputs": [
    {
     "data": {
      "text/plain": [
       "array([[1., 1., 1.],\n",
       "       [1., 1., 1.],\n",
       "       [1., 1., 1.],\n",
       "       [1., 1., 1.]])"
      ]
     },
     "execution_count": 14,
     "metadata": {},
     "output_type": "execute_result"
    }
   ],
   "source": [
    "np.ones((4, 3))"
   ]
  },
  {
   "cell_type": "code",
   "execution_count": 15,
   "id": "dfda17b7",
   "metadata": {},
   "outputs": [
    {
     "data": {
      "text/plain": [
       "array(['0.5', '0.24', '2', '3.14', '3.141592'], dtype='<U8')"
      ]
     },
     "execution_count": 15,
     "metadata": {},
     "output_type": "execute_result"
    }
   ],
   "source": [
    "# 데이터 타입 변환 \n",
    "# 문자열\n",
    "np.array(['0.5', '0.24', '2', '3.14', '3.141592'])"
   ]
  },
  {
   "cell_type": "code",
   "execution_count": 17,
   "id": "3bd7368f",
   "metadata": {},
   "outputs": [
    {
     "data": {
      "text/plain": [
       "array([0.5     , 0.24    , 2.      , 3.14    , 3.141592])"
      ]
     },
     "execution_count": 17,
     "metadata": {},
     "output_type": "execute_result"
    }
   ],
   "source": [
    "# 실수로 변환\n",
    "str1 = np.array(['0.5', '0.24', '2', '3.14', '3.141592'])\n",
    "num1 = str1.astype(float)\n",
    "num1"
   ]
  },
  {
   "cell_type": "code",
   "execution_count": 18,
   "id": "89a2627f",
   "metadata": {},
   "outputs": [
    {
     "data": {
      "text/plain": [
       "dtype('<U8')"
      ]
     },
     "execution_count": 18,
     "metadata": {},
     "output_type": "execute_result"
    }
   ],
   "source": [
    "str1.dtype"
   ]
  },
  {
   "cell_type": "code",
   "execution_count": 19,
   "id": "0ab96e17",
   "metadata": {},
   "outputs": [
    {
     "data": {
      "text/plain": [
       "dtype('float64')"
      ]
     },
     "execution_count": 19,
     "metadata": {},
     "output_type": "execute_result"
    }
   ],
   "source": [
    "num1.dtype"
   ]
  },
  {
   "cell_type": "code",
   "execution_count": 21,
   "id": "0eb7aa5f",
   "metadata": {},
   "outputs": [
    {
     "data": {
      "text/plain": [
       "array([1, 2, 3, 4, 5])"
      ]
     },
     "execution_count": 21,
     "metadata": {},
     "output_type": "execute_result"
    }
   ],
   "source": [
    "# 정수로 변환\n",
    "str2 = np.array(['1', '2', '3', '4', '5'])\n",
    "num2 = str2.astype(int)\n",
    "num2"
   ]
  },
  {
   "cell_type": "code",
   "execution_count": 23,
   "id": "710fab8b",
   "metadata": {},
   "outputs": [
    {
     "data": {
      "text/plain": [
       "dtype('<U1')"
      ]
     },
     "execution_count": 23,
     "metadata": {},
     "output_type": "execute_result"
    }
   ],
   "source": [
    "str2.dtype"
   ]
  },
  {
   "cell_type": "code",
   "execution_count": 24,
   "id": "75d06dd0",
   "metadata": {},
   "outputs": [
    {
     "data": {
      "text/plain": [
       "dtype('int32')"
      ]
     },
     "execution_count": 24,
     "metadata": {},
     "output_type": "execute_result"
    }
   ],
   "source": [
    "num2.dtype"
   ]
  },
  {
   "cell_type": "code",
   "execution_count": 25,
   "id": "8d2ee468",
   "metadata": {},
   "outputs": [
    {
     "data": {
      "text/plain": [
       "array([10, 20,  0,  5,  9])"
      ]
     },
     "execution_count": 25,
     "metadata": {},
     "output_type": "execute_result"
    }
   ],
   "source": [
    "num_f3 = np.array([10, 20, 0.543, 5.67, 9.87])\n",
    "num_i3 = num_f3.astype(int)\n",
    "num_i3"
   ]
  },
  {
   "cell_type": "code",
   "execution_count": 26,
   "id": "a5f2f96a",
   "metadata": {},
   "outputs": [
    {
     "data": {
      "text/plain": [
       "dtype('float64')"
      ]
     },
     "execution_count": 26,
     "metadata": {},
     "output_type": "execute_result"
    }
   ],
   "source": [
    "num_f3.dtype"
   ]
  },
  {
   "cell_type": "code",
   "execution_count": 27,
   "id": "f6be0d7d",
   "metadata": {},
   "outputs": [
    {
     "data": {
      "text/plain": [
       "dtype('int32')"
      ]
     },
     "execution_count": 27,
     "metadata": {},
     "output_type": "execute_result"
    }
   ],
   "source": [
    "num_i3.dtype"
   ]
  },
  {
   "cell_type": "code",
   "execution_count": 29,
   "id": "f588409d",
   "metadata": {},
   "outputs": [
    {
     "data": {
      "text/plain": [
       "array([[0.5226436 , 0.73211178, 0.77013334],\n",
       "       [0.98250857, 0.96267065, 0.72701532]])"
      ]
     },
     "execution_count": 29,
     "metadata": {},
     "output_type": "execute_result"
    }
   ],
   "source": [
    "# 난수를 사용하여 배열 생성 random -> 0~1 사이의 값\n",
    "np.random.rand(2,3)"
   ]
  },
  {
   "cell_type": "code",
   "execution_count": 31,
   "id": "b4b393a9",
   "metadata": {},
   "outputs": [
    {
     "data": {
      "text/plain": [
       "0.6111967261354871"
      ]
     },
     "execution_count": 31,
     "metadata": {},
     "output_type": "execute_result"
    }
   ],
   "source": [
    "# 랜덤하게 1개의 값만 추출\n",
    "np.random.rand() "
   ]
  },
  {
   "cell_type": "code",
   "execution_count": 33,
   "id": "baf4d851",
   "metadata": {},
   "outputs": [
    {
     "data": {
      "text/plain": [
       "array([0.40131189, 0.80302699, 0.51850644, 0.14078894])"
      ]
     },
     "execution_count": 33,
     "metadata": {},
     "output_type": "execute_result"
    }
   ],
   "source": [
    "# 원하는 개수만큼 벡터 생성\n",
    "np.random.rand(4) "
   ]
  },
  {
   "cell_type": "code",
   "execution_count": 35,
   "id": "3416026e",
   "metadata": {},
   "outputs": [
    {
     "data": {
      "text/plain": [
       "array([[[0.24968938, 0.22840518, 0.84976393, 0.73515695],\n",
       "        [0.89850203, 0.09223491, 0.85368552, 0.46605657],\n",
       "        [0.22881005, 0.83897259, 0.08831209, 0.0722949 ]],\n",
       "\n",
       "       [[0.32326137, 0.7132613 , 0.02515691, 0.01696906],\n",
       "        [0.75550512, 0.44477003, 0.68213817, 0.35900762],\n",
       "        [0.51880185, 0.72652063, 0.28249888, 0.52568089]]])"
      ]
     },
     "execution_count": 35,
     "metadata": {},
     "output_type": "execute_result"
    }
   ],
   "source": [
    "# 3차원 생성\n",
    "np.random.rand(2, 3, 4) # (3,4)행렬을 2개 생성"
   ]
  },
  {
   "cell_type": "code",
   "execution_count": 37,
   "id": "f2b2e6c2",
   "metadata": {},
   "outputs": [
    {
     "data": {
      "text/plain": [
       "array([[0, 0, 0, 2],\n",
       "       [3, 3, 4, 0],\n",
       "       [0, 0, 6, 7],\n",
       "       [4, 0, 0, 7]])"
      ]
     },
     "execution_count": 37,
     "metadata": {},
     "output_type": "execute_result"
    }
   ],
   "source": [
    "# 정수형 난수 생성\n",
    "np.random.randint(10, size=(4,4)) # 10미만의 수를 (4,4)행렬로 표현"
   ]
  },
  {
   "cell_type": "code",
   "execution_count": 40,
   "id": "20e86b4d",
   "metadata": {},
   "outputs": [
    {
     "data": {
      "text/plain": [
       "6"
      ]
     },
     "execution_count": 40,
     "metadata": {},
     "output_type": "execute_result"
    }
   ],
   "source": [
    "np.random.randint(1, 40) # 1에서 40미만의 값 중 하나 추출"
   ]
  },
  {
   "cell_type": "code",
   "execution_count": 42,
   "id": "3bc22d8f",
   "metadata": {},
   "outputs": [],
   "source": [
    "# 배열 연산\n",
    "arr1 = np.array([10, 20, 30, 40])\n",
    "arr2 = np.array([1, 2, 3, 4])"
   ]
  },
  {
   "cell_type": "code",
   "execution_count": 45,
   "id": "c63aed55",
   "metadata": {},
   "outputs": [
    {
     "data": {
      "text/plain": [
       "array([11, 22, 33, 44])"
      ]
     },
     "execution_count": 45,
     "metadata": {},
     "output_type": "execute_result"
    }
   ],
   "source": [
    "arr1 + arr2"
   ]
  },
  {
   "cell_type": "code",
   "execution_count": 47,
   "id": "5cd38d95",
   "metadata": {},
   "outputs": [
    {
     "data": {
      "text/plain": [
       "array([ 9, 18, 27, 36])"
      ]
     },
     "execution_count": 47,
     "metadata": {},
     "output_type": "execute_result"
    }
   ],
   "source": [
    "arr1 - arr2"
   ]
  },
  {
   "cell_type": "code",
   "execution_count": 48,
   "id": "20206978",
   "metadata": {},
   "outputs": [
    {
     "data": {
      "text/plain": [
       "array([ 10,  40,  90, 160])"
      ]
     },
     "execution_count": 48,
     "metadata": {},
     "output_type": "execute_result"
    }
   ],
   "source": [
    "arr1 * arr2"
   ]
  },
  {
   "cell_type": "code",
   "execution_count": 49,
   "id": "a8dacbf4",
   "metadata": {},
   "outputs": [
    {
     "data": {
      "text/plain": [
       "array([2, 4, 6, 8])"
      ]
     },
     "execution_count": 49,
     "metadata": {},
     "output_type": "execute_result"
    }
   ],
   "source": [
    "arr2 * 2"
   ]
  },
  {
   "cell_type": "code",
   "execution_count": 50,
   "id": "eae5fdf9",
   "metadata": {},
   "outputs": [
    {
     "data": {
      "text/plain": [
       "array([ 1,  4,  9, 16], dtype=int32)"
      ]
     },
     "execution_count": 50,
     "metadata": {},
     "output_type": "execute_result"
    }
   ],
   "source": [
    "arr2 ** 2"
   ]
  },
  {
   "cell_type": "code",
   "execution_count": 51,
   "id": "b65e4601",
   "metadata": {},
   "outputs": [
    {
     "data": {
      "text/plain": [
       "array([10.        ,  5.        ,  3.33333333,  2.5       ])"
      ]
     },
     "execution_count": 51,
     "metadata": {},
     "output_type": "execute_result"
    }
   ],
   "source": [
    "arr1 / (arr2 ** 2)"
   ]
  },
  {
   "cell_type": "code",
   "execution_count": 53,
   "id": "b1a6dac0",
   "metadata": {},
   "outputs": [
    {
     "data": {
      "text/plain": [
       "array([False,  True,  True,  True])"
      ]
     },
     "execution_count": 53,
     "metadata": {},
     "output_type": "execute_result"
    }
   ],
   "source": [
    "arr1 >= 20"
   ]
  },
  {
   "cell_type": "code",
   "execution_count": 55,
   "id": "66eaa14d",
   "metadata": {},
   "outputs": [
    {
     "data": {
      "text/plain": [
       "array([0, 1, 2, 3, 4])"
      ]
     },
     "execution_count": 55,
     "metadata": {},
     "output_type": "execute_result"
    }
   ],
   "source": [
    "# 통계를 위한 연산\n",
    "arr3 = np.arange(5)\n",
    "arr3"
   ]
  },
  {
   "cell_type": "code",
   "execution_count": 57,
   "id": "1238d73f",
   "metadata": {},
   "outputs": [
    {
     "data": {
      "text/plain": [
       "[10, 2.0]"
      ]
     },
     "execution_count": 57,
     "metadata": {},
     "output_type": "execute_result"
    }
   ],
   "source": [
    "[arr3.sum(), arr3.mean()]"
   ]
  },
  {
   "cell_type": "code",
   "execution_count": 58,
   "id": "0cfbb32f",
   "metadata": {},
   "outputs": [
    {
     "data": {
      "text/plain": [
       "[1.4142135623730951, 2.0]"
      ]
     },
     "execution_count": 58,
     "metadata": {},
     "output_type": "execute_result"
    }
   ],
   "source": [
    "[arr3.std(), arr3.var()]"
   ]
  },
  {
   "cell_type": "code",
   "execution_count": 59,
   "id": "d8b27a19",
   "metadata": {},
   "outputs": [
    {
     "data": {
      "text/plain": [
       "[4, 0]"
      ]
     },
     "execution_count": 59,
     "metadata": {},
     "output_type": "execute_result"
    }
   ],
   "source": [
    "[arr3.max(), arr3.min()]"
   ]
  },
  {
   "cell_type": "code",
   "execution_count": 60,
   "id": "9579399c",
   "metadata": {},
   "outputs": [
    {
     "data": {
      "text/plain": [
       "[array([ 0,  1,  3,  6, 10], dtype=int32), array([0, 0, 0, 0, 0], dtype=int32)]"
      ]
     },
     "execution_count": 60,
     "metadata": {},
     "output_type": "execute_result"
    }
   ],
   "source": [
    "[arr3.cumsum(), arr3.cumprod()]"
   ]
  },
  {
   "cell_type": "code",
   "execution_count": 67,
   "id": "54f9c0e7",
   "metadata": {},
   "outputs": [
    {
     "data": {
      "text/plain": [
       "array([[9, 8],\n",
       "       [7, 6]])"
      ]
     },
     "execution_count": 67,
     "metadata": {},
     "output_type": "execute_result"
    }
   ],
   "source": [
    "# 행렬 연산\n",
    "A = np.array([1, 2, 3, 4]).reshape(2,2)\n",
    "A\n",
    "\n",
    "B = np.array([9, 8, 7, 6]).reshape(2, 2)\n",
    "B"
   ]
  },
  {
   "cell_type": "code",
   "execution_count": 69,
   "id": "c6b13ce9",
   "metadata": {},
   "outputs": [
    {
     "data": {
      "text/plain": [
       "array([[10, 10],\n",
       "       [10, 10]])"
      ]
     },
     "execution_count": 69,
     "metadata": {},
     "output_type": "execute_result"
    }
   ],
   "source": [
    "# 덧셈\n",
    "A + B"
   ]
  },
  {
   "cell_type": "code",
   "execution_count": 71,
   "id": "bce8c192",
   "metadata": {},
   "outputs": [
    {
     "data": {
      "text/plain": [
       "array([[8, 6],\n",
       "       [4, 2]])"
      ]
     },
     "execution_count": 71,
     "metadata": {},
     "output_type": "execute_result"
    }
   ],
   "source": [
    "# 뺄셈\n",
    "B - A"
   ]
  },
  {
   "cell_type": "code",
   "execution_count": 74,
   "id": "8649c768",
   "metadata": {},
   "outputs": [
    {
     "data": {
      "text/plain": [
       "array([[23, 20],\n",
       "       [55, 48]])"
      ]
     },
     "execution_count": 74,
     "metadata": {},
     "output_type": "execute_result"
    }
   ],
   "source": [
    "# 곱셈 (앞의 행과 뒤의 열 개수가 동일해야 함)\n",
    "A.dot(B)"
   ]
  },
  {
   "cell_type": "code",
   "execution_count": 77,
   "id": "283891f1",
   "metadata": {},
   "outputs": [
    {
     "data": {
      "text/plain": [
       "array([[23, 20],\n",
       "       [55, 48]])"
      ]
     },
     "execution_count": 77,
     "metadata": {},
     "output_type": "execute_result"
    }
   ],
   "source": [
    "np.dot(A, B)"
   ]
  },
  {
   "cell_type": "code",
   "execution_count": 78,
   "id": "36ffbc9f",
   "metadata": {},
   "outputs": [
    {
     "data": {
      "text/plain": [
       "array([[1, 3],\n",
       "       [2, 4]])"
      ]
     },
     "execution_count": 78,
     "metadata": {},
     "output_type": "execute_result"
    }
   ],
   "source": [
    "np.transpose(A)"
   ]
  },
  {
   "cell_type": "code",
   "execution_count": 79,
   "id": "c49d916e",
   "metadata": {},
   "outputs": [
    {
     "data": {
      "text/plain": [
       "array([[-2. ,  1. ],\n",
       "       [ 1.5, -0.5]])"
      ]
     },
     "execution_count": 79,
     "metadata": {},
     "output_type": "execute_result"
    }
   ],
   "source": [
    "np.linalg.inv(A)"
   ]
  },
  {
   "cell_type": "code",
   "execution_count": 3,
   "id": "e81f99df",
   "metadata": {},
   "outputs": [
    {
     "data": {
      "text/plain": [
       "array([ 0, 10, 20, 30, 40, 50])"
      ]
     },
     "execution_count": 3,
     "metadata": {},
     "output_type": "execute_result"
    }
   ],
   "source": [
    "# 배열 인덱싱\n",
    "index1 = np.array([0, 10, 20, 30, 40, 50])\n",
    "index1"
   ]
  },
  {
   "cell_type": "code",
   "execution_count": 6,
   "id": "c91ce964",
   "metadata": {},
   "outputs": [
    {
     "data": {
      "text/plain": [
       "0"
      ]
     },
     "execution_count": 6,
     "metadata": {},
     "output_type": "execute_result"
    }
   ],
   "source": [
    "index1[0] # 인덱스 위치 지정"
   ]
  },
  {
   "cell_type": "code",
   "execution_count": 7,
   "id": "3799380f",
   "metadata": {},
   "outputs": [
    {
     "data": {
      "text/plain": [
       "30"
      ]
     },
     "execution_count": 7,
     "metadata": {},
     "output_type": "execute_result"
    }
   ],
   "source": [
    "index1[3]"
   ]
  },
  {
   "cell_type": "code",
   "execution_count": 9,
   "id": "24e34ef8",
   "metadata": {},
   "outputs": [
    {
     "data": {
      "text/plain": [
       "array([  0,  10,  20,  30,  40, 100])"
      ]
     },
     "execution_count": 9,
     "metadata": {},
     "output_type": "execute_result"
    }
   ],
   "source": [
    "# 배열 값 수정\n",
    "index1[5] = 100\n",
    "index1"
   ]
  },
  {
   "cell_type": "code",
   "execution_count": 11,
   "id": "b849508b",
   "metadata": {},
   "outputs": [
    {
     "data": {
      "text/plain": [
       "array([30, 40])"
      ]
     },
     "execution_count": 11,
     "metadata": {},
     "output_type": "execute_result"
    }
   ],
   "source": [
    "# 동시에 여러 개 추출\n",
    "index1[[3, 4]]"
   ]
  },
  {
   "cell_type": "code",
   "execution_count": 12,
   "id": "effe1328",
   "metadata": {},
   "outputs": [
    {
     "data": {
      "text/plain": [
       "array([[10, 20, 30],\n",
       "       [40, 50, 60],\n",
       "       [70, 80, 90]])"
      ]
     },
     "execution_count": 12,
     "metadata": {},
     "output_type": "execute_result"
    }
   ],
   "source": [
    "# 행렬에서 데이터 선택\n",
    "index2 = np.arange(10, 100, 10).reshape(3, 3)\n",
    "index2"
   ]
  },
  {
   "cell_type": "code",
   "execution_count": 13,
   "id": "d582e654",
   "metadata": {},
   "outputs": [
    {
     "data": {
      "text/plain": [
       "90"
      ]
     },
     "execution_count": 13,
     "metadata": {},
     "output_type": "execute_result"
    }
   ],
   "source": [
    "index2[2, 2]"
   ]
  },
  {
   "cell_type": "code",
   "execution_count": 15,
   "id": "64681e52",
   "metadata": {},
   "outputs": [
    {
     "data": {
      "text/plain": [
       "array([[ 10,  20,  30],\n",
       "       [ 40,  50,  60],\n",
       "       [ 70,  80, 100]])"
      ]
     },
     "execution_count": 15,
     "metadata": {},
     "output_type": "execute_result"
    }
   ],
   "source": [
    "index2[2,2] = 100\n",
    "index2"
   ]
  },
  {
   "cell_type": "code",
   "execution_count": 20,
   "id": "669143fb",
   "metadata": {},
   "outputs": [
    {
     "data": {
      "text/plain": [
       "array([[ 10,  20,  30],\n",
       "       [ 12,  13,  14],\n",
       "       [ 70,  80, 100]])"
      ]
     },
     "execution_count": 20,
     "metadata": {},
     "output_type": "execute_result"
    }
   ],
   "source": [
    "# 행 전체 수정\n",
    "index2[1] = [12, 13, 14]\n",
    "index2"
   ]
  },
  {
   "cell_type": "code",
   "execution_count": 23,
   "id": "b9d200ce",
   "metadata": {},
   "outputs": [
    {
     "data": {
      "text/plain": [
       "array([10, 80])"
      ]
     },
     "execution_count": 23,
     "metadata": {},
     "output_type": "execute_result"
    }
   ],
   "source": [
    "# 원하는 행렬 위치 값 여러개 추출\n",
    "index2[[0, 2], [0, 1]] # (0,0)값과 (2,1)값이 추출됨"
   ]
  },
  {
   "cell_type": "code",
   "execution_count": 24,
   "id": "be876e1e",
   "metadata": {},
   "outputs": [],
   "source": [
    "index = np.array([1, 2, 3, 4, 5, 6])"
   ]
  },
  {
   "cell_type": "code",
   "execution_count": 25,
   "id": "b6594e2a",
   "metadata": {},
   "outputs": [
    {
     "data": {
      "text/plain": [
       "array([4, 5, 6])"
      ]
     },
     "execution_count": 25,
     "metadata": {},
     "output_type": "execute_result"
    }
   ],
   "source": [
    "# 조건으로 데이터 추출\n",
    "index[index > 3]"
   ]
  },
  {
   "cell_type": "code",
   "execution_count": 26,
   "id": "adb4a3ae",
   "metadata": {},
   "outputs": [
    {
     "data": {
      "text/plain": [
       "array([2, 4, 6])"
      ]
     },
     "execution_count": 26,
     "metadata": {},
     "output_type": "execute_result"
    }
   ],
   "source": [
    "index[(index % 2) == 0]"
   ]
  },
  {
   "cell_type": "code",
   "execution_count": 27,
   "id": "74ac2b1e",
   "metadata": {},
   "outputs": [],
   "source": [
    "# 배열의 슬라이싱\n",
    "slice1 = np.array([0, 10, 20, 30, 40, 50])"
   ]
  },
  {
   "cell_type": "code",
   "execution_count": 30,
   "id": "eee283cf",
   "metadata": {},
   "outputs": [
    {
     "data": {
      "text/plain": [
       "array([10, 20, 30])"
      ]
     },
     "execution_count": 30,
     "metadata": {},
     "output_type": "execute_result"
    }
   ],
   "source": [
    "slice1[1:4] # 인덱스, 슬라이싱의 마지막 값은 -> 미만 값"
   ]
  },
  {
   "cell_type": "code",
   "execution_count": 31,
   "id": "fb3ca860",
   "metadata": {},
   "outputs": [
    {
     "data": {
      "text/plain": [
       "array([ 0, 10, 20])"
      ]
     },
     "execution_count": 31,
     "metadata": {},
     "output_type": "execute_result"
    }
   ],
   "source": [
    "slice1[:3]"
   ]
  },
  {
   "cell_type": "code",
   "execution_count": 32,
   "id": "ec89b69b",
   "metadata": {},
   "outputs": [
    {
     "data": {
      "text/plain": [
       "array([20, 30, 40, 50])"
      ]
     },
     "execution_count": 32,
     "metadata": {},
     "output_type": "execute_result"
    }
   ],
   "source": [
    "slice1[2:]"
   ]
  },
  {
   "cell_type": "code",
   "execution_count": 35,
   "id": "95728f11",
   "metadata": {},
   "outputs": [
    {
     "data": {
      "text/plain": [
       "array([ 0, 10, 23, 35, 45, 50])"
      ]
     },
     "execution_count": 35,
     "metadata": {},
     "output_type": "execute_result"
    }
   ],
   "source": [
    "slice1[2:5] = np.array([23, 35, 45])\n",
    "slice1"
   ]
  },
  {
   "cell_type": "code",
   "execution_count": 36,
   "id": "3060d929",
   "metadata": {},
   "outputs": [
    {
     "data": {
      "text/plain": [
       "array([ 0, 10, 23, 60, 60, 60])"
      ]
     },
     "execution_count": 36,
     "metadata": {},
     "output_type": "execute_result"
    }
   ],
   "source": [
    "slice1[3:6] = 60\n",
    "slice1"
   ]
  },
  {
   "cell_type": "code",
   "execution_count": 37,
   "id": "8305bf28",
   "metadata": {},
   "outputs": [
    {
     "data": {
      "text/plain": [
       "array([[10, 20, 30],\n",
       "       [40, 50, 60],\n",
       "       [70, 80, 90]])"
      ]
     },
     "execution_count": 37,
     "metadata": {},
     "output_type": "execute_result"
    }
   ],
   "source": [
    "slice2 = np.arange(10, 100, 10).reshape(3, 3)\n",
    "slice2"
   ]
  },
  {
   "cell_type": "code",
   "execution_count": 38,
   "id": "133971a4",
   "metadata": {},
   "outputs": [
    {
     "data": {
      "text/plain": [
       "array([[50, 60],\n",
       "       [80, 90]])"
      ]
     },
     "execution_count": 38,
     "metadata": {},
     "output_type": "execute_result"
    }
   ],
   "source": [
    "slice2[1:3, 1:3]"
   ]
  },
  {
   "cell_type": "code",
   "execution_count": 39,
   "id": "ff0c4bc4",
   "metadata": {},
   "outputs": [
    {
     "data": {
      "text/plain": [
       "array([[20, 30],\n",
       "       [50, 60],\n",
       "       [80, 90]])"
      ]
     },
     "execution_count": 39,
     "metadata": {},
     "output_type": "execute_result"
    }
   ],
   "source": [
    "slice2[:3, 1:]"
   ]
  },
  {
   "cell_type": "code",
   "execution_count": 43,
   "id": "8d5bf076",
   "metadata": {},
   "outputs": [
    {
     "data": {
      "text/plain": [
       "array([[10, 25, 35],\n",
       "       [40, 55, 65],\n",
       "       [70, 80, 90]])"
      ]
     },
     "execution_count": 43,
     "metadata": {},
     "output_type": "execute_result"
    }
   ],
   "source": [
    "slice2[0:2, 1:3] = np.array([[25, 35], [55, 65]])\n",
    "slice2"
   ]
  }
 ],
 "metadata": {
  "kernelspec": {
   "display_name": "Python 3",
   "language": "python",
   "name": "python3"
  },
  "language_info": {
   "codemirror_mode": {
    "name": "ipython",
    "version": 3
   },
   "file_extension": ".py",
   "mimetype": "text/x-python",
   "name": "python",
   "nbconvert_exporter": "python",
   "pygments_lexer": "ipython3",
   "version": "3.8.8"
  }
 },
 "nbformat": 4,
 "nbformat_minor": 5
}
