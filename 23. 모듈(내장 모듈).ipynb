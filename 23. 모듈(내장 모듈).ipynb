{
 "cells": [
  {
   "cell_type": "code",
   "execution_count": 1,
   "id": "ddea4926",
   "metadata": {},
   "outputs": [],
   "source": [
    "# random 모듈 사용하기\n",
    "import random"
   ]
  },
  {
   "cell_type": "code",
   "execution_count": 2,
   "id": "75d4af32",
   "metadata": {},
   "outputs": [
    {
     "data": {
      "text/plain": [
       "0.7961904686029219"
      ]
     },
     "execution_count": 2,
     "metadata": {},
     "output_type": "execute_result"
    }
   ],
   "source": [
    "# random 모듈 안의 random 함수 사용\n",
    "random.random() # 실수형 난수 형성"
   ]
  },
  {
   "cell_type": "code",
   "execution_count": 3,
   "id": "2385135b",
   "metadata": {},
   "outputs": [
    {
     "name": "stdout",
     "output_type": "stream",
     "text": [
      "첫 번째 수는 6, 3\n"
     ]
    }
   ],
   "source": [
    "num1 = random.randint(1, 10) # 1이상 10이하\n",
    "num2 = random.randint(1, 5)\n",
    "print(\"첫 번째 수는 {}, {}\".format(num1, num2))"
   ]
  },
  {
   "cell_type": "code",
   "execution_count": 4,
   "id": "998f3f19",
   "metadata": {},
   "outputs": [
    {
     "data": {
      "text/plain": [
       "4"
      ]
     },
     "execution_count": 4,
     "metadata": {},
     "output_type": "execute_result"
    }
   ],
   "source": [
    "random.randrange(0, 11, 2)"
   ]
  },
  {
   "cell_type": "code",
   "execution_count": 6,
   "id": "f82bce94",
   "metadata": {},
   "outputs": [
    {
     "name": "stdout",
     "output_type": "stream",
     "text": [
      "홀수는 9, 짝수는 8\n"
     ]
    }
   ],
   "source": [
    "num3 = random.randrange(1, 10, 2)\n",
    "num4 = random.randrange(0, 11, 2)\n",
    "print(\"홀수는 {}, 짝수는 {}\".format(num3, num4))"
   ]
  },
  {
   "cell_type": "code",
   "execution_count": 7,
   "id": "e2d1538a",
   "metadata": {},
   "outputs": [
    {
     "data": {
      "text/plain": [
       "'짬뽕'"
      ]
     },
     "execution_count": 7,
     "metadata": {},
     "output_type": "execute_result"
    }
   ],
   "source": [
    "# 임의로 하나 선택\n",
    "menu = [\"비빔밥\", \"초밥\", \"짬뽕\", \"파스타\"]\n",
    "random.choice(menu)"
   ]
  },
  {
   "cell_type": "code",
   "execution_count": 8,
   "id": "6dcb0213",
   "metadata": {},
   "outputs": [
    {
     "data": {
      "text/plain": [
       "['초밥', '비빔밥']"
      ]
     },
     "execution_count": 8,
     "metadata": {},
     "output_type": "execute_result"
    }
   ],
   "source": [
    "# 여러 개 임의로 선택\n",
    "random.sample([\"비빔밥\", \"초밥\", \"짬뽕\", \"파스타\"], 2)"
   ]
  },
  {
   "cell_type": "code",
   "execution_count": 13,
   "id": "89e1f167",
   "metadata": {},
   "outputs": [
    {
     "name": "stdout",
     "output_type": "stream",
     "text": [
      "2021-07-29\n"
     ]
    }
   ],
   "source": [
    "# 날짜 표현 date\n",
    "import datetime\n",
    "set_date = datetime.date(2021, 7, 29) #모듈명.함수\n",
    "print(set_date)"
   ]
  },
  {
   "cell_type": "code",
   "execution_count": 14,
   "id": "52594441",
   "metadata": {},
   "outputs": [
    {
     "name": "stdout",
     "output_type": "stream",
     "text": [
      "2021/7/29\n"
     ]
    }
   ],
   "source": [
    "print(\"{0}/{1}/{2}\".format(set_date.year, set_date.month, set_date.day))"
   ]
  },
  {
   "cell_type": "code",
   "execution_count": 17,
   "id": "7266ca09",
   "metadata": {},
   "outputs": [
    {
     "name": "stdout",
     "output_type": "stream",
     "text": [
      "731 days, 0:00:00\n"
     ]
    }
   ],
   "source": [
    "date1 = datetime.date(2021, 7, 29)\n",
    "date2 = datetime.date(2019, 7, 29)\n",
    "diff_date = date1 - date2\n",
    "print(diff_date)"
   ]
  },
  {
   "cell_type": "code",
   "execution_count": 19,
   "id": "ab92b384",
   "metadata": {},
   "outputs": [
    {
     "name": "stdout",
     "output_type": "stream",
     "text": [
      "2021-07-29\n"
     ]
    }
   ],
   "source": [
    "# 시간 표현 time\n",
    "print(datetime.date.today())"
   ]
  },
  {
   "cell_type": "code",
   "execution_count": 20,
   "id": "a7d17e5d",
   "metadata": {},
   "outputs": [],
   "source": [
    "import datetime"
   ]
  },
  {
   "cell_type": "code",
   "execution_count": 21,
   "id": "4e2939b6",
   "metadata": {},
   "outputs": [
    {
     "name": "stdout",
     "output_type": "stream",
     "text": [
      "20:20:20\n"
     ]
    }
   ],
   "source": [
    "set_time = datetime.time(20, 20, 20)\n",
    "print(set_time)"
   ]
  },
  {
   "cell_type": "code",
   "execution_count": 22,
   "id": "fbf82cb7",
   "metadata": {},
   "outputs": [
    {
     "name": "stdout",
     "output_type": "stream",
     "text": [
      "20,20,20\n"
     ]
    }
   ],
   "source": [
    "print(\"{0},{1},{2}\".format(set_time.hour, set_time.minute, set_time.second))"
   ]
  },
  {
   "cell_type": "code",
   "execution_count": 27,
   "id": "16dcf544",
   "metadata": {},
   "outputs": [
    {
     "name": "stdout",
     "output_type": "stream",
     "text": [
      "2019-06-05 20:20:20\n"
     ]
    }
   ],
   "source": [
    "# 날짜, 시간 동시에 표현 datetime\n",
    "set_datetime = datetime.datetime(2019, 6, 5, 20, 20, 20)\n",
    "print(set_datetime)"
   ]
  },
  {
   "cell_type": "code",
   "execution_count": 28,
   "id": "61357980",
   "metadata": {},
   "outputs": [],
   "source": [
    "# 달력 모듈\n",
    "import calendar"
   ]
  },
  {
   "cell_type": "code",
   "execution_count": 30,
   "id": "a4348d0a",
   "metadata": {},
   "outputs": [
    {
     "name": "stdout",
     "output_type": "stream",
     "text": [
      "                                  2019\n",
      "\n",
      "      January                   February                   March\n",
      "Mo Tu We Th Fr Sa Su      Mo Tu We Th Fr Sa Su      Mo Tu We Th Fr Sa Su\n",
      "    1  2  3  4  5  6                   1  2  3                   1  2  3\n",
      " 7  8  9 10 11 12 13       4  5  6  7  8  9 10       4  5  6  7  8  9 10\n",
      "14 15 16 17 18 19 20      11 12 13 14 15 16 17      11 12 13 14 15 16 17\n",
      "21 22 23 24 25 26 27      18 19 20 21 22 23 24      18 19 20 21 22 23 24\n",
      "28 29 30 31               25 26 27 28               25 26 27 28 29 30 31\n",
      "\n",
      "       April                      May                       June\n",
      "Mo Tu We Th Fr Sa Su      Mo Tu We Th Fr Sa Su      Mo Tu We Th Fr Sa Su\n",
      " 1  2  3  4  5  6  7             1  2  3  4  5                      1  2\n",
      " 8  9 10 11 12 13 14       6  7  8  9 10 11 12       3  4  5  6  7  8  9\n",
      "15 16 17 18 19 20 21      13 14 15 16 17 18 19      10 11 12 13 14 15 16\n",
      "22 23 24 25 26 27 28      20 21 22 23 24 25 26      17 18 19 20 21 22 23\n",
      "29 30                     27 28 29 30 31            24 25 26 27 28 29 30\n",
      "\n",
      "        July                     August                  September\n",
      "Mo Tu We Th Fr Sa Su      Mo Tu We Th Fr Sa Su      Mo Tu We Th Fr Sa Su\n",
      " 1  2  3  4  5  6  7                1  2  3  4                         1\n",
      " 8  9 10 11 12 13 14       5  6  7  8  9 10 11       2  3  4  5  6  7  8\n",
      "15 16 17 18 19 20 21      12 13 14 15 16 17 18       9 10 11 12 13 14 15\n",
      "22 23 24 25 26 27 28      19 20 21 22 23 24 25      16 17 18 19 20 21 22\n",
      "29 30 31                  26 27 28 29 30 31         23 24 25 26 27 28 29\n",
      "                                                    30\n",
      "\n",
      "      October                   November                  December\n",
      "Mo Tu We Th Fr Sa Su      Mo Tu We Th Fr Sa Su      Mo Tu We Th Fr Sa Su\n",
      "    1  2  3  4  5  6                   1  2  3                         1\n",
      " 7  8  9 10 11 12 13       4  5  6  7  8  9 10       2  3  4  5  6  7  8\n",
      "14 15 16 17 18 19 20      11 12 13 14 15 16 17       9 10 11 12 13 14 15\n",
      "21 22 23 24 25 26 27      18 19 20 21 22 23 24      16 17 18 19 20 21 22\n",
      "28 29 30 31               25 26 27 28 29 30         23 24 25 26 27 28 29\n",
      "                                                    30 31\n",
      "\n"
     ]
    }
   ],
   "source": [
    "print(calendar.calendar(2019)) # 기본값이 한 행에 3개씩 모여줌"
   ]
  },
  {
   "cell_type": "code",
   "execution_count": 33,
   "id": "3435f104",
   "metadata": {},
   "outputs": [
    {
     "name": "stdout",
     "output_type": "stream",
     "text": [
      "                                               2019\n",
      "\n",
      "      January                   February                   March                     April\n",
      "Mo Tu We Th Fr Sa Su      Mo Tu We Th Fr Sa Su      Mo Tu We Th Fr Sa Su      Mo Tu We Th Fr Sa Su\n",
      "    1  2  3  4  5  6                   1  2  3                   1  2  3       1  2  3  4  5  6  7\n",
      " 7  8  9 10 11 12 13       4  5  6  7  8  9 10       4  5  6  7  8  9 10       8  9 10 11 12 13 14\n",
      "14 15 16 17 18 19 20      11 12 13 14 15 16 17      11 12 13 14 15 16 17      15 16 17 18 19 20 21\n",
      "21 22 23 24 25 26 27      18 19 20 21 22 23 24      18 19 20 21 22 23 24      22 23 24 25 26 27 28\n",
      "28 29 30 31               25 26 27 28               25 26 27 28 29 30 31      29 30\n",
      "\n",
      "        May                       June                      July                     August\n",
      "Mo Tu We Th Fr Sa Su      Mo Tu We Th Fr Sa Su      Mo Tu We Th Fr Sa Su      Mo Tu We Th Fr Sa Su\n",
      "       1  2  3  4  5                      1  2       1  2  3  4  5  6  7                1  2  3  4\n",
      " 6  7  8  9 10 11 12       3  4  5  6  7  8  9       8  9 10 11 12 13 14       5  6  7  8  9 10 11\n",
      "13 14 15 16 17 18 19      10 11 12 13 14 15 16      15 16 17 18 19 20 21      12 13 14 15 16 17 18\n",
      "20 21 22 23 24 25 26      17 18 19 20 21 22 23      22 23 24 25 26 27 28      19 20 21 22 23 24 25\n",
      "27 28 29 30 31            24 25 26 27 28 29 30      29 30 31                  26 27 28 29 30 31\n",
      "\n",
      "     September                  October                   November                  December\n",
      "Mo Tu We Th Fr Sa Su      Mo Tu We Th Fr Sa Su      Mo Tu We Th Fr Sa Su      Mo Tu We Th Fr Sa Su\n",
      "                   1          1  2  3  4  5  6                   1  2  3                         1\n",
      " 2  3  4  5  6  7  8       7  8  9 10 11 12 13       4  5  6  7  8  9 10       2  3  4  5  6  7  8\n",
      " 9 10 11 12 13 14 15      14 15 16 17 18 19 20      11 12 13 14 15 16 17       9 10 11 12 13 14 15\n",
      "16 17 18 19 20 21 22      21 22 23 24 25 26 27      18 19 20 21 22 23 24      16 17 18 19 20 21 22\n",
      "23 24 25 26 27 28 29      28 29 30 31               25 26 27 28 29 30         23 24 25 26 27 28 29\n",
      "30                                                                            30 31\n",
      "\n"
     ]
    }
   ],
   "source": [
    "# 한 행에 4개씩 보여주기\n",
    "print(calendar.calendar(2019, m = 4))"
   ]
  },
  {
   "cell_type": "code",
   "execution_count": 35,
   "id": "1cd39ae4",
   "metadata": {},
   "outputs": [
    {
     "name": "stdout",
     "output_type": "stream",
     "text": [
      "   September 2021\n",
      "Mo Tu We Th Fr Sa Su\n",
      "       1  2  3  4  5\n",
      " 6  7  8  9 10 11 12\n",
      "13 14 15 16 17 18 19\n",
      "20 21 22 23 24 25 26\n",
      "27 28 29 30\n",
      "\n"
     ]
    }
   ],
   "source": [
    "# 특정한 월만 추출하기\n",
    "print(calendar.month(2021, 9))"
   ]
  },
  {
   "cell_type": "code",
   "execution_count": 36,
   "id": "0b2d95d4",
   "metadata": {},
   "outputs": [
    {
     "name": "stdout",
     "output_type": "stream",
     "text": [
      "(2, 30)\n"
     ]
    }
   ],
   "source": [
    "print(calendar.monthrange(2021, 9))"
   ]
  },
  {
   "cell_type": "code",
   "execution_count": 39,
   "id": "e0495815",
   "metadata": {},
   "outputs": [
    {
     "name": "stdout",
     "output_type": "stream",
     "text": [
      "0\n"
     ]
    }
   ],
   "source": [
    "# 달력 시작값 (기본값은 월요일로 0임)\n",
    "print(calendar.firstweekday())"
   ]
  },
  {
   "cell_type": "code",
   "execution_count": 43,
   "id": "76efe037",
   "metadata": {},
   "outputs": [
    {
     "name": "stdout",
     "output_type": "stream",
     "text": [
      "   September 2021\n",
      "Su Mo Tu We Th Fr Sa\n",
      "          1  2  3  4\n",
      " 5  6  7  8  9 10 11\n",
      "12 13 14 15 16 17 18\n",
      "19 20 21 22 23 24 25\n",
      "26 27 28 29 30\n",
      "\n"
     ]
    }
   ],
   "source": [
    "# 달력 시작값 변경\n",
    "calendar.setfirstweekday(calendar.SUNDAY)\n",
    "print(calendar.month(2021, 9))"
   ]
  },
  {
   "cell_type": "code",
   "execution_count": 44,
   "id": "aca99ca7",
   "metadata": {},
   "outputs": [
    {
     "name": "stdout",
     "output_type": "stream",
     "text": [
      "(2, 30)\n"
     ]
    }
   ],
   "source": [
    "print(calendar.monthrange(2021, 9))"
   ]
  },
  {
   "cell_type": "code",
   "execution_count": 45,
   "id": "e6512cc6",
   "metadata": {},
   "outputs": [
    {
     "name": "stdout",
     "output_type": "stream",
     "text": [
      "2\n"
     ]
    }
   ],
   "source": [
    "# 특정 일자에 대한 요일 \n",
    "print(calendar.weekday(2021, 9, 1))"
   ]
  },
  {
   "cell_type": "code",
   "execution_count": 47,
   "id": "3d6af431",
   "metadata": {},
   "outputs": [
    {
     "name": "stdout",
     "output_type": "stream",
     "text": [
      "True\n"
     ]
    }
   ],
   "source": [
    "# 윤단 여부\n",
    "print(calendar.isleap(2020))"
   ]
  },
  {
   "cell_type": "code",
   "execution_count": null,
   "id": "aff50603",
   "metadata": {},
   "outputs": [],
   "source": [
    "# 패키지 생성"
   ]
  },
  {
   "cell_type": "code",
   "execution_count": 51,
   "id": "b1d46699",
   "metadata": {},
   "outputs": [],
   "source": [
    "mkdir c:\\Users\\bigdata\\workspace\\Python\\packages\\image\\io_file"
   ]
  },
  {
   "cell_type": "code",
   "execution_count": 53,
   "id": "dd31afef",
   "metadata": {},
   "outputs": [
    {
     "name": "stdout",
     "output_type": "stream",
     "text": [
      "Writing c:\\Users\\bigdata\\workspace\\Python\\packages\\image\\__init__.py\n"
     ]
    }
   ],
   "source": [
    "%%writefile c:\\Users\\bigdata\\workspace\\Python\\packages\\image\\__init__.py\n",
    "    # first file"
   ]
  },
  {
   "cell_type": "code",
   "execution_count": 54,
   "id": "c8e473fb",
   "metadata": {},
   "outputs": [
    {
     "name": "stdout",
     "output_type": "stream",
     "text": [
      "Writing c:\\Users\\bigdata\\workspace\\Python\\packages\\image\\io_file\\__init__.py\n"
     ]
    }
   ],
   "source": [
    "%%writefile c:\\Users\\bigdata\\workspace\\Python\\packages\\image\\io_file\\__init__.py\n",
    "    # first file"
   ]
  },
  {
   "cell_type": "code",
   "execution_count": 55,
   "id": "1607e6ad",
   "metadata": {},
   "outputs": [
    {
     "name": "stdout",
     "output_type": "stream",
     "text": [
      "Writing c:\\Users\\bigdata\\workspace\\Python\\packages\\image\\io_file\\imagegread.py\n"
     ]
    }
   ],
   "source": [
    "%%writefile c:\\Users\\bigdata\\workspace\\Python\\packages\\image\\io_file\\imagegread.py\n",
    "def pnggread():\n",
    "    print(\"pnggread is in imagedgread module\")\n",
    "def jpggread():\n",
    "    print(\"jpggread is in imagedgread module\")"
   ]
  },
  {
   "cell_type": "code",
   "execution_count": 56,
   "id": "a42e1ede",
   "metadata": {},
   "outputs": [
    {
     "name": "stdout",
     "output_type": "stream",
     "text": [
      "폴더 PATH의 목록입니다.\n",
      "볼륨 일련 번호가 0000000D 6068:97B4입니다.\n",
      "C:\\USERS\\BIGDATA\\WORKSPACE\\PYTHON\\PACKAGES\n",
      "└─image\n",
      "    │  __init__.py\n",
      "    │  \n",
      "    └─io_file\n",
      "            imagegread.py\n",
      "            __init__.py\n",
      "            \n"
     ]
    }
   ],
   "source": [
    "!tree /F c:\\Users\\bigdata\\workspace\\Python\\packages"
   ]
  },
  {
   "cell_type": "code",
   "execution_count": null,
   "id": "6ae9194e",
   "metadata": {},
   "outputs": [],
   "source": [
    "# import로 파일 불러들이기"
   ]
  },
  {
   "cell_type": "code",
   "execution_count": 57,
   "id": "71bd73f1",
   "metadata": {},
   "outputs": [],
   "source": [
    "import image.io_file.imagegread"
   ]
  },
  {
   "cell_type": "code",
   "execution_count": 58,
   "id": "6c0f89ab",
   "metadata": {},
   "outputs": [
    {
     "name": "stdout",
     "output_type": "stream",
     "text": [
      "pnggread is in imagedgread module\n"
     ]
    }
   ],
   "source": [
    "image.io_file.imagegread.pnggread()"
   ]
  },
  {
   "cell_type": "code",
   "execution_count": 60,
   "id": "372d45a3",
   "metadata": {},
   "outputs": [],
   "source": [
    "# from ~ import로 파일 불러들이기"
   ]
  },
  {
   "cell_type": "code",
   "execution_count": 61,
   "id": "8300879b",
   "metadata": {},
   "outputs": [],
   "source": [
    "from image.io_file import imagegread"
   ]
  },
  {
   "cell_type": "code",
   "execution_count": 62,
   "id": "a21e8699",
   "metadata": {},
   "outputs": [
    {
     "name": "stdout",
     "output_type": "stream",
     "text": [
      "pnggread is in imagedgread module\n"
     ]
    }
   ],
   "source": [
    "imagegread.pnggread()"
   ]
  },
  {
   "cell_type": "code",
   "execution_count": 63,
   "id": "2d2e33fb",
   "metadata": {},
   "outputs": [
    {
     "name": "stdout",
     "output_type": "stream",
     "text": [
      "pnggread is in imagedgread module\n"
     ]
    }
   ],
   "source": [
    "# 한 문장으로 팡일 불러들이기\n",
    "from image.io_file.imagegread import pnggread\n",
    "pnggread()"
   ]
  }
 ],
 "metadata": {
  "kernelspec": {
   "display_name": "Python 3",
   "language": "python",
   "name": "python3"
  },
  "language_info": {
   "codemirror_mode": {
    "name": "ipython",
    "version": 3
   },
   "file_extension": ".py",
   "mimetype": "text/x-python",
   "name": "python",
   "nbconvert_exporter": "python",
   "pygments_lexer": "ipython3",
   "version": "3.8.8"
  }
 },
 "nbformat": 4,
 "nbformat_minor": 5
}
