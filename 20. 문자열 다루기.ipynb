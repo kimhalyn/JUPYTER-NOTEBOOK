{
 "cells": [
  {
   "cell_type": "code",
   "execution_count": 7,
   "id": "d21457c2",
   "metadata": {},
   "outputs": [
    {
     "data": {
      "text/plain": [
       "['돈까스', ' 된장찌개', ' 김치찌개', ' 순두부']"
      ]
     },
     "execution_count": 7,
     "metadata": {},
     "output_type": "execute_result"
    }
   ],
   "source": [
    "# 문자열 분리 - 콤마\n",
    "lunch_menu_str = \"돈까스, 된장찌개, 김치찌개, 순두부\"\n",
    "lunch_menu_str.split(\",\") # 콤마로 나눠지기 때문에 원자료의 공백이 출력에 포함됨"
   ]
  },
  {
   "cell_type": "code",
   "execution_count": 11,
   "id": "013e9a39",
   "metadata": {},
   "outputs": [
    {
     "data": {
      "text/plain": [
       "['돈까스', '된장찌개', '김치찌개', '순두부']"
      ]
     },
     "execution_count": 11,
     "metadata": {},
     "output_type": "execute_result"
    }
   ],
   "source": [
    "# 문자열 분리 - 공백\n",
    "lunch_menu_str = \"돈까스 된장찌개 김치찌개 순두부\"\n",
    "lunch_menu_str.split(\" \") # .split() -> 공백과 엔터 값을 기준으로 문자열 분리"
   ]
  },
  {
   "cell_type": "code",
   "execution_count": 12,
   "id": "511ebc43",
   "metadata": {},
   "outputs": [
    {
     "data": {
      "text/plain": [
       "['돈까스', '된장찌개', '김치찌개', '순두부']"
      ]
     },
     "execution_count": 12,
     "metadata": {},
     "output_type": "execute_result"
    }
   ],
   "source": [
    "# 문자열 분리 - 엔터 값\n",
    "lunch_menu_str = \"돈까스 \\n 된장찌개 \\n 김치찌개 \\n 순두부\"\n",
    "lunch_menu_str.split()"
   ]
  },
  {
   "cell_type": "code",
   "execution_count": 15,
   "id": "0b162aa2",
   "metadata": {},
   "outputs": [
    {
     "data": {
      "text/plain": [
       "['돈까스', '된장찌개', '김치찌개 순두부']"
      ]
     },
     "execution_count": 15,
     "metadata": {},
     "output_type": "execute_result"
    }
   ],
   "source": [
    "# 분리 개수 지정\n",
    "lunch_menu_str = \"돈까스 된장찌개 김치찌개 순두부\"\n",
    "lunch_menu_str.split(maxsplit=2)  #maxsplit=2는 공백 or 엔터 값 2개를 제거한다는 의미! (두 덩어리로 나눈다는 의미 x)"
   ]
  },
  {
   "cell_type": "code",
   "execution_count": 16,
   "id": "adc64b1c",
   "metadata": {},
   "outputs": [],
   "source": [
    "# 전화번호 분리\n",
    "phone_number = \"+82-02-2345-6789\"\n",
    "split_number = phone_number.split(\"-\", 1)"
   ]
  },
  {
   "cell_type": "code",
   "execution_count": 18,
   "id": "50bb673b",
   "metadata": {},
   "outputs": [
    {
     "name": "stdout",
     "output_type": "stream",
     "text": [
      "['+82', '02-2345-6789']\n"
     ]
    }
   ],
   "source": [
    "print(split_number)"
   ]
  },
  {
   "cell_type": "code",
   "execution_count": 19,
   "id": "40b3c834",
   "metadata": {},
   "outputs": [
    {
     "name": "stdout",
     "output_type": "stream",
     "text": [
      "한국 번호는 : 02-2345-6789\n"
     ]
    }
   ],
   "source": [
    "print(\"한국 번호는 : {}\".format(split_number[1]))"
   ]
  },
  {
   "cell_type": "code",
   "execution_count": 28,
   "id": "9f4372ca",
   "metadata": {},
   "outputs": [],
   "source": [
    "# 불필요한 문자열 삭제\n",
    "test_str = \"aaaaapythonbbbbaaaababab\""
   ]
  },
  {
   "cell_type": "code",
   "execution_count": 29,
   "id": "0d3518ec",
   "metadata": {},
   "outputs": [],
   "source": [
    "temp1= test_str.strip(\"ab\") # 삭제할 문자열 순서는 상관없음"
   ]
  },
  {
   "cell_type": "code",
   "execution_count": 30,
   "id": "41661d25",
   "metadata": {},
   "outputs": [
    {
     "data": {
      "text/plain": [
       "'python'"
      ]
     },
     "execution_count": 30,
     "metadata": {},
     "output_type": "execute_result"
    }
   ],
   "source": [
    "temp1"
   ]
  },
  {
   "cell_type": "code",
   "execution_count": 31,
   "id": "29360690",
   "metadata": {},
   "outputs": [
    {
     "data": {
      "text/plain": [
       "'python'"
      ]
     },
     "execution_count": 31,
     "metadata": {},
     "output_type": "execute_result"
    }
   ],
   "source": [
    "# 공백 삭제\n",
    "\"python   \".strip(\" \")"
   ]
  },
  {
   "cell_type": "code",
   "execution_count": 32,
   "id": "a13c73a7",
   "metadata": {},
   "outputs": [
    {
     "data": {
      "text/plain": [
       "'python'"
      ]
     },
     "execution_count": 32,
     "metadata": {},
     "output_type": "execute_result"
    }
   ],
   "source": [
    "# 공백 및 줄바꿈 삭제\n",
    "\"\\n     python    \\n\\n\\n \".strip()"
   ]
  },
  {
   "cell_type": "code",
   "execution_count": 36,
   "id": "3d6c9b34",
   "metadata": {},
   "outputs": [
    {
     "data": {
      "text/plain": [
       "'python0000000'"
      ]
     },
     "execution_count": 36,
     "metadata": {},
     "output_type": "execute_result"
    }
   ],
   "source": [
    "# 왼쪽 특정한 값만 삭제\n",
    "\"00000000python0000000\".lstrip(\"0\")"
   ]
  },
  {
   "cell_type": "code",
   "execution_count": 37,
   "id": "8e2ba6d4",
   "metadata": {},
   "outputs": [
    {
     "data": {
      "text/plain": [
       "'00000000python'"
      ]
     },
     "execution_count": 37,
     "metadata": {},
     "output_type": "execute_result"
    }
   ],
   "source": [
    "# 오른쪽 특정한 값만 삭제\n",
    "\"00000000python0000000\".rstrip(\"0\")"
   ]
  },
  {
   "cell_type": "code",
   "execution_count": 38,
   "id": "78dc233d",
   "metadata": {},
   "outputs": [
    {
     "data": {
      "text/plain": [
       "'#00python0000000'"
      ]
     },
     "execution_count": 38,
     "metadata": {},
     "output_type": "execute_result"
    }
   ],
   "source": [
    "\"000000#00python0000000\".lstrip(\"0\") # 샵 앞부분까지만 삭제"
   ]
  },
  {
   "cell_type": "code",
   "execution_count": 39,
   "id": "6e0546d0",
   "metadata": {},
   "outputs": [
    {
     "data": {
      "text/plain": [
       "'python0000000'"
      ]
     },
     "execution_count": 39,
     "metadata": {},
     "output_type": "execute_result"
    }
   ],
   "source": [
    "\"00000000python0000000\".lstrip(\"0#\")"
   ]
  },
  {
   "cell_type": "code",
   "execution_count": 42,
   "id": "d649738a",
   "metadata": {},
   "outputs": [
    {
     "data": {
      "text/plain": [
       "[' 돈까스', ' 된장찌개', '       김치찌개', '                 순두부']"
      ]
     },
     "execution_count": 42,
     "metadata": {},
     "output_type": "execute_result"
    }
   ],
   "source": [
    "# 문자열 연결 1\n",
    "lunch_menu = \" 돈까스, 된장찌개,       김치찌개,                 순두부\"\n",
    "lunch_menu_list = lunch_menu.split(\",\")\n",
    "lunch_menu_list"
   ]
  },
  {
   "cell_type": "code",
   "execution_count": 48,
   "id": "aac0e493",
   "metadata": {},
   "outputs": [],
   "source": [
    "lunch_list = []\n",
    "for lunch in lunch_menu_list:\n",
    "    temp = lunch.strip() #공백 및 엔터 값 제거\n",
    "    lunch_list.append(temp) # 비어있던 lunch_list에 하나씩 추가"
   ]
  },
  {
   "cell_type": "code",
   "execution_count": 49,
   "id": "c44768d8",
   "metadata": {},
   "outputs": [
    {
     "name": "stdout",
     "output_type": "stream",
     "text": [
      "점심메뉴는  ['돈까스', '된장찌개', '김치찌개', '순두부']\n"
     ]
    }
   ],
   "source": [
    "print(\"점심메뉴는 \", lunch_list)"
   ]
  },
  {
   "cell_type": "code",
   "execution_count": 50,
   "id": "476310aa",
   "metadata": {},
   "outputs": [],
   "source": [
    "# 문자열 연결 2\n",
    "name1 = \"도훈\""
   ]
  },
  {
   "cell_type": "code",
   "execution_count": 51,
   "id": "a70415ad",
   "metadata": {},
   "outputs": [],
   "source": [
    "name2 = \"아영\""
   ]
  },
  {
   "cell_type": "code",
   "execution_count": 52,
   "id": "195d9e59",
   "metadata": {},
   "outputs": [],
   "source": [
    "hello = \"님의 주소는 어떻게 되나요?\""
   ]
  },
  {
   "cell_type": "code",
   "execution_count": 54,
   "id": "467948c5",
   "metadata": {},
   "outputs": [
    {
     "name": "stdout",
     "output_type": "stream",
     "text": [
      "도훈님의 주소는 어떻게 되나요?\n"
     ]
    }
   ],
   "source": [
    "print(name1 + hello)"
   ]
  },
  {
   "cell_type": "code",
   "execution_count": 55,
   "id": "51dce9d0",
   "metadata": {},
   "outputs": [
    {
     "name": "stdout",
     "output_type": "stream",
     "text": [
      "아영님의 주소는 어떻게 되나요?\n"
     ]
    }
   ],
   "source": [
    "print(name2 + hello)"
   ]
  },
  {
   "cell_type": "code",
   "execution_count": 56,
   "id": "e88a8ed4",
   "metadata": {},
   "outputs": [],
   "source": [
    "address = [\"서울시\", \"영등포구\", \"여의도동\", \"63번지\"]"
   ]
  },
  {
   "cell_type": "code",
   "execution_count": 57,
   "id": "5eab9658",
   "metadata": {},
   "outputs": [
    {
     "data": {
      "text/plain": [
       "'서울시 영등포구 여의도동 63번지'"
      ]
     },
     "execution_count": 57,
     "metadata": {},
     "output_type": "execute_result"
    }
   ],
   "source": [
    "a = \" \"\n",
    "a.join(address)"
   ]
  },
  {
   "cell_type": "code",
   "execution_count": 59,
   "id": "5160fd43",
   "metadata": {},
   "outputs": [
    {
     "data": {
      "text/plain": [
       "'서울시 영등포구 여의도동 63번지'"
      ]
     },
     "execution_count": 59,
     "metadata": {},
     "output_type": "execute_result"
    }
   ],
   "source": [
    "\" \".join(address)"
   ]
  },
  {
   "cell_type": "code",
   "execution_count": 60,
   "id": "568cc43f",
   "metadata": {},
   "outputs": [
    {
     "data": {
      "text/plain": [
       "'서울시^^영등포구^^여의도동^^63번지'"
      ]
     },
     "execution_count": 60,
     "metadata": {},
     "output_type": "execute_result"
    }
   ],
   "source": [
    "\"^^\".join(address)"
   ]
  },
  {
   "cell_type": "code",
   "execution_count": 61,
   "id": "b6791b93",
   "metadata": {},
   "outputs": [],
   "source": [
    "# 특정 문자열 찾기\n",
    "str = \"Python program\""
   ]
  },
  {
   "cell_type": "code",
   "execution_count": 63,
   "id": "9bb267f2",
   "metadata": {},
   "outputs": [
    {
     "name": "stdout",
     "output_type": "stream",
     "text": [
      "찾는 문자열의 위치는 :  0\n"
     ]
    }
   ],
   "source": [
    "print(\"찾는 문자열의 위치는 : \", str.find(\"Python\"))"
   ]
  },
  {
   "cell_type": "code",
   "execution_count": 64,
   "id": "3db8b9ec",
   "metadata": {},
   "outputs": [
    {
     "name": "stdout",
     "output_type": "stream",
     "text": [
      "찾는 문자열의 위치는 :  7\n"
     ]
    }
   ],
   "source": [
    "print(\"찾는 문자열의 위치는 : \", str.find(\"program\"))"
   ]
  },
  {
   "cell_type": "code",
   "execution_count": 65,
   "id": "29731476",
   "metadata": {},
   "outputs": [
    {
     "name": "stdout",
     "output_type": "stream",
     "text": [
      "찾는 문자열의 위치는 :  5\n"
     ]
    }
   ],
   "source": [
    "print(\"찾는 문자열의 위치는 : \", str.find(\"n\"))"
   ]
  },
  {
   "cell_type": "code",
   "execution_count": 67,
   "id": "60e3f1c4",
   "metadata": {},
   "outputs": [
    {
     "name": "stdout",
     "output_type": "stream",
     "text": [
      "찾는 문자열의 위치는 :  -1\n"
     ]
    }
   ],
   "source": [
    "print(\"찾는 문자열의 위치는 : \", str.find(\"good\")) # 찾는 단어나 문자가 없을 경우 -1을 반환"
   ]
  },
  {
   "cell_type": "code",
   "execution_count": 68,
   "id": "66d0b193",
   "metadata": {},
   "outputs": [],
   "source": [
    "# 긴 문자열 이용\n",
    "str_s = \"     python is powerful. python is easy\""
   ]
  },
  {
   "cell_type": "code",
   "execution_count": 79,
   "id": "ede0424d",
   "metadata": {},
   "outputs": [
    {
     "name": "stdout",
     "output_type": "stream",
     "text": [
      "-1\n"
     ]
    }
   ],
   "source": [
    "print(str_s.find(\"python\", 10, 20))"
   ]
  },
  {
   "cell_type": "code",
   "execution_count": 81,
   "id": "99eed054",
   "metadata": {},
   "outputs": [
    {
     "name": "stdout",
     "output_type": "stream",
     "text": [
      "25\n"
     ]
    }
   ],
   "source": [
    "print(str_s.find(\"python\", 20))"
   ]
  },
  {
   "cell_type": "code",
   "execution_count": 82,
   "id": "b17f729a",
   "metadata": {},
   "outputs": [
    {
     "name": "stdout",
     "output_type": "stream",
     "text": [
      "-1\n"
     ]
    }
   ],
   "source": [
    "print(str_s.find(\"python\", 30))"
   ]
  },
  {
   "cell_type": "code",
   "execution_count": 76,
   "id": "00492b66",
   "metadata": {},
   "outputs": [
    {
     "name": "stdout",
     "output_type": "stream",
     "text": [
      "python의 개수는 :  2\n",
      "Python의 개수는 :  0\n"
     ]
    }
   ],
   "source": [
    "# 단어 개수 찾기\n",
    "print(\"python의 개수는 : \", str_s.count(\"python\"))\n",
    "print(\"Python의 개수는 : \", str_s.count(\"Python\"))"
   ]
  },
  {
   "cell_type": "code",
   "execution_count": 78,
   "id": "af211d44",
   "metadata": {},
   "outputs": [
    {
     "name": "stdout",
     "output_type": "stream",
     "text": [
      "python의 시작은 :  False\n"
     ]
    }
   ],
   "source": [
    "print(\"python의 시작은 : \", str_s.startswith(\"python\")) # python으로 시작되는지 여부 확인"
   ]
  },
  {
   "cell_type": "code",
   "execution_count": 84,
   "id": "34b74c80",
   "metadata": {},
   "outputs": [
    {
     "name": "stdout",
     "output_type": "stream",
     "text": [
      "문장의 끝은 easy로 끝나는가? :  True\n"
     ]
    }
   ],
   "source": [
    "print(\"문장의 끝은 easy로 끝나는가? : \", str_s.endswith(\"easy\"))"
   ]
  },
  {
   "cell_type": "code",
   "execution_count": 85,
   "id": "5f59675b",
   "metadata": {},
   "outputs": [],
   "source": [
    "# 문자열 교체\n",
    "str_f = \"python is very good. python is easy and powerfull. And python is fast\""
   ]
  },
  {
   "cell_type": "code",
   "execution_count": 87,
   "id": "ebdd30fa",
   "metadata": {},
   "outputs": [
    {
     "name": "stdout",
     "output_type": "stream",
     "text": [
      "Ipython is very good. Ipython is easy and powerfull. And Ipython is fast\n"
     ]
    }
   ],
   "source": [
    "print(str_f.replace(\"python\", \"Ipython\")) # \"교체 전 단어\", \"교체할 단어\""
   ]
  },
  {
   "cell_type": "code",
   "execution_count": 88,
   "id": "07b8d835",
   "metadata": {},
   "outputs": [
    {
     "name": "stdout",
     "output_type": "stream",
     "text": [
      "Ipython is very good. Ipython is easy and powerfull. And python is fast\n"
     ]
    }
   ],
   "source": [
    "print(str_f.replace(\"python\", \"Ipython\", 2)) # 교체할 최대 개수 지정"
   ]
  },
  {
   "cell_type": "code",
   "execution_count": 90,
   "id": "82344c02",
   "metadata": {},
   "outputs": [
    {
     "name": "stdout",
     "output_type": "stream",
     "text": [
      " is very good.  is easy and powerfull. And python is fast\n"
     ]
    }
   ],
   "source": [
    "print(str_f.replace(\"python\", \"\", 2)) "
   ]
  },
  {
   "cell_type": "code",
   "execution_count": 91,
   "id": "a5f2cb6a",
   "metadata": {},
   "outputs": [],
   "source": [
    "str_a = \"[python] [is] [good]\""
   ]
  },
  {
   "cell_type": "code",
   "execution_count": 94,
   "id": "20b6cd44",
   "metadata": {},
   "outputs": [],
   "source": [
    "str_a = str_a.replace(\"[\", \"\")"
   ]
  },
  {
   "cell_type": "code",
   "execution_count": 95,
   "id": "1f48ae54",
   "metadata": {},
   "outputs": [
    {
     "data": {
      "text/plain": [
       "'python is good'"
      ]
     },
     "execution_count": 95,
     "metadata": {},
     "output_type": "execute_result"
    }
   ],
   "source": [
    "str_a.replace(\"]\", \"\")"
   ]
  },
  {
   "cell_type": "code",
   "execution_count": 98,
   "id": "2721cd29",
   "metadata": {},
   "outputs": [
    {
     "name": "stdout",
     "output_type": "stream",
     "text": [
      "True\n"
     ]
    }
   ],
   "source": [
    "# 문자열 내용 참/거짓 판단\n",
    "print(\"python\".isalpha())"
   ]
  },
  {
   "cell_type": "code",
   "execution_count": 100,
   "id": "669e421e",
   "metadata": {},
   "outputs": [
    {
     "name": "stdout",
     "output_type": "stream",
     "text": [
      "False\n"
     ]
    }
   ],
   "source": [
    "print(\"ver.3.1\".isalpha())"
   ]
  },
  {
   "cell_type": "code",
   "execution_count": 101,
   "id": "059114ec",
   "metadata": {},
   "outputs": [
    {
     "name": "stdout",
     "output_type": "stream",
     "text": [
      "True\n"
     ]
    }
   ],
   "source": [
    "print(\"1234\".isdigit())"
   ]
  },
  {
   "cell_type": "code",
   "execution_count": 104,
   "id": "8a8ea14b",
   "metadata": {},
   "outputs": [
    {
     "name": "stdout",
     "output_type": "stream",
     "text": [
      "True\n"
     ]
    }
   ],
   "source": [
    "print(\" \".isspace())"
   ]
  },
  {
   "cell_type": "code",
   "execution_count": 105,
   "id": "8acdc297",
   "metadata": {},
   "outputs": [
    {
     "name": "stdout",
     "output_type": "stream",
     "text": [
      "False\n"
     ]
    }
   ],
   "source": [
    "print(\"  2\".isspace())"
   ]
  },
  {
   "cell_type": "code",
   "execution_count": 106,
   "id": "ba4debe3",
   "metadata": {},
   "outputs": [
    {
     "name": "stdout",
     "output_type": "stream",
     "text": [
      "False\n"
     ]
    }
   ],
   "source": [
    "print(\"python \".isupper())"
   ]
  },
  {
   "cell_type": "code",
   "execution_count": 107,
   "id": "df775693",
   "metadata": {},
   "outputs": [
    {
     "name": "stdout",
     "output_type": "stream",
     "text": [
      "True\n"
     ]
    }
   ],
   "source": [
    "print(\"python \".islower())"
   ]
  },
  {
   "cell_type": "code",
   "execution_count": 108,
   "id": "67042d30",
   "metadata": {},
   "outputs": [
    {
     "name": "stdout",
     "output_type": "stream",
     "text": [
      "PYTHON\n"
     ]
    }
   ],
   "source": [
    "# 소,대문자 변경\n",
    "print(\"python\".upper())"
   ]
  }
 ],
 "metadata": {
  "kernelspec": {
   "display_name": "Python 3",
   "language": "python",
   "name": "python3"
  },
  "language_info": {
   "codemirror_mode": {
    "name": "ipython",
    "version": 3
   },
   "file_extension": ".py",
   "mimetype": "text/x-python",
   "name": "python",
   "nbconvert_exporter": "python",
   "pygments_lexer": "ipython3",
   "version": "3.8.8"
  }
 },
 "nbformat": 4,
 "nbformat_minor": 5
}
