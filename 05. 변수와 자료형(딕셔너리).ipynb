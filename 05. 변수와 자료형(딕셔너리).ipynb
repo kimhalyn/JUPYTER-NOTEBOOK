{
 "cells": [
  {
   "cell_type": "code",
   "execution_count": 6,
   "id": "11f305f8",
   "metadata": {},
   "outputs": [
    {
     "name": "stdout",
     "output_type": "stream",
     "text": [
      "dict_keys([1, 2, 3])\n"
     ]
    }
   ],
   "source": [
    "# 키 출력\n",
    "dict1 = {1:'man', 2:'woman', 3:'baby'}\n",
    "print(dict1.keys())"
   ]
  },
  {
   "cell_type": "code",
   "execution_count": 9,
   "id": "fc716990",
   "metadata": {},
   "outputs": [
    {
     "name": "stdout",
     "output_type": "stream",
     "text": [
      "dict_values(['man', 'woman', 'baby'])\n"
     ]
    }
   ],
   "source": [
    "# 값 출력\n",
    "print(dict1.values())"
   ]
  },
  {
   "cell_type": "code",
   "execution_count": 10,
   "id": "7602ae0a",
   "metadata": {},
   "outputs": [
    {
     "name": "stdout",
     "output_type": "stream",
     "text": [
      "dict_items([(1, 'man'), (2, 'woman'), (3, 'baby')])\n"
     ]
    }
   ],
   "source": [
    "# 키, 값 출력\n",
    "print(dict1.items())"
   ]
  },
  {
   "cell_type": "code",
   "execution_count": 13,
   "id": "4e8abc1a",
   "metadata": {},
   "outputs": [
    {
     "name": "stdout",
     "output_type": "stream",
     "text": [
      "{1: 'man', 2: 'woman', 3: 'baby', 4: 100, 5: 200, 6: 300, 7: 400}\n"
     ]
    }
   ],
   "source": [
    "# 데이터 추가\n",
    "dict2 = {4:100, 5:200, 6:300, 7:400}\n",
    "dict1.update(dict2)\n",
    "print(dict1)"
   ]
  },
  {
   "cell_type": "code",
   "execution_count": 14,
   "id": "8a792e8b",
   "metadata": {},
   "outputs": [
    {
     "name": "stdout",
     "output_type": "stream",
     "text": [
      "{}\n"
     ]
    }
   ],
   "source": [
    "# 데이터 전체 삭제\n",
    "dict2.clear()\n",
    "print(dict2)"
   ]
  },
  {
   "cell_type": "code",
   "execution_count": 16,
   "id": "9004a6a0",
   "metadata": {},
   "outputs": [
    {
     "data": {
      "text/plain": [
       "dict"
      ]
     },
     "execution_count": 16,
     "metadata": {},
     "output_type": "execute_result"
    }
   ],
   "source": [
    "type(dict2)"
   ]
  },
  {
   "cell_type": "code",
   "execution_count": 18,
   "id": "0da31ed5",
   "metadata": {},
   "outputs": [
    {
     "name": "stdout",
     "output_type": "stream",
     "text": [
      "{'오현민': 30000, '이주경': 2111, '권도훈': 9778, '김아영': 20245, '박서혜': 27115, '안준한': 5887, '박수정': 7855}\n"
     ]
    }
   ],
   "source": [
    "names = {'오현민':10999, '이주경':2111, '권도훈':9778, '김아영':20245, '박서혜':27115, '안준한':5887, '박수정':7855}\n",
    "\n",
    "# 오현민 인구수를 30000로 변경\n",
    "names['오현민'] = 30000\n",
    "print(names)"
   ]
  },
  {
   "cell_type": "code",
   "execution_count": 22,
   "id": "2d6c41f5",
   "metadata": {},
   "outputs": [
    {
     "name": "stdout",
     "output_type": "stream",
     "text": [
      "{'오현민': 30000, '권도훈': 9778, '김아영': 20245, '박서혜': 27115, '안준한': 5887, '박수정': 7855}\n"
     ]
    }
   ],
   "source": [
    "# 이주경 제거\n",
    "del names['이주경']\n",
    "print(names)"
   ]
  },
  {
   "cell_type": "code",
   "execution_count": 23,
   "id": "30925818",
   "metadata": {},
   "outputs": [
    {
     "data": {
      "text/plain": [
       "dict_keys(['오현민', '권도훈', '김아영', '박서혜', '안준한', '박수정'])"
      ]
     },
     "execution_count": 23,
     "metadata": {},
     "output_type": "execute_result"
    }
   ],
   "source": [
    "# 키만 추출\n",
    "names.keys()"
   ]
  },
  {
   "cell_type": "code",
   "execution_count": 24,
   "id": "ab28cd6c",
   "metadata": {},
   "outputs": [
    {
     "data": {
      "text/plain": [
       "dict_values([30000, 9778, 20245, 27115, 5887, 7855])"
      ]
     },
     "execution_count": 24,
     "metadata": {},
     "output_type": "execute_result"
    }
   ],
   "source": [
    "# 값만 추출\n",
    "names.values()"
   ]
  }
 ],
 "metadata": {
  "kernelspec": {
   "display_name": "Python 3",
   "language": "python",
   "name": "python3"
  },
  "language_info": {
   "codemirror_mode": {
    "name": "ipython",
    "version": 3
   },
   "file_extension": ".py",
   "mimetype": "text/x-python",
   "name": "python",
   "nbconvert_exporter": "python",
   "pygments_lexer": "ipython3",
   "version": "3.8.8"
  }
 },
 "nbformat": 4,
 "nbformat_minor": 5
}
