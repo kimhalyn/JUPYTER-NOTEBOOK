{
 "cells": [
  {
   "cell_type": "code",
   "execution_count": 1,
   "id": "fc557663",
   "metadata": {},
   "outputs": [],
   "source": [
    "# Biggy는 데이터에듀의 마스코드\n",
    "\n",
    "biggy_name = \"B\"\n",
    "biggy_position = 0\n",
    "\n",
    "def biggy_move():\n",
    "    global biggy_position\n",
    "    biggy_position += 1\n",
    "    print(\"{0}의 모션은 {1}\".format(biggy_name, biggy_position))"
   ]
  },
  {
   "cell_type": "code",
   "execution_count": 2,
   "id": "3261d67b",
   "metadata": {},
   "outputs": [
    {
     "name": "stdout",
     "output_type": "stream",
     "text": [
      "B의 모션은 1\n"
     ]
    }
   ],
   "source": [
    "biggy_move()"
   ]
  },
  {
   "cell_type": "code",
   "execution_count": 3,
   "id": "f1affc08",
   "metadata": {},
   "outputs": [],
   "source": [
    "# 클래스 생성\n",
    "class Biggy():\n",
    "    def __init__(self, name, position):\n",
    "        self.name = name\n",
    "        self.position = position\n",
    "        \n",
    "    def move(self):\n",
    "        self.position += 1\n",
    "        print(\"{0}의 모션은 {1}\".format(self.name, self.position))"
   ]
  },
  {
   "cell_type": "code",
   "execution_count": 4,
   "id": "ed76eeee",
   "metadata": {},
   "outputs": [],
   "source": [
    "# 객체 생성\n",
    "biggy1 = Biggy(\"B1\", 2)"
   ]
  },
  {
   "cell_type": "code",
   "execution_count": 5,
   "id": "0ae08907",
   "metadata": {},
   "outputs": [],
   "source": [
    "# 객체 생성\n",
    "biggy2 = Biggy(\"B2\", 10)"
   ]
  },
  {
   "cell_type": "code",
   "execution_count": 6,
   "id": "72b8a6ce",
   "metadata": {},
   "outputs": [
    {
     "name": "stdout",
     "output_type": "stream",
     "text": [
      "B1의 모션은 3\n"
     ]
    }
   ],
   "source": [
    "biggy1.move()"
   ]
  },
  {
   "cell_type": "code",
   "execution_count": 7,
   "id": "46821827",
   "metadata": {},
   "outputs": [
    {
     "name": "stdout",
     "output_type": "stream",
     "text": [
      "B2의 모션은 11\n"
     ]
    }
   ],
   "source": [
    "biggy2.move()"
   ]
  },
  {
   "cell_type": "code",
   "execution_count": 9,
   "id": "a64a2fd6",
   "metadata": {},
   "outputs": [],
   "source": [
    "# 클래스 상속\n",
    "\n",
    "class Car2():\n",
    "    count = 0 # 클래스 변수\n",
    "    \n",
    "    # 인스턴스 함수\n",
    "    def __init__(self, wheel, color, num):\n",
    "        self.wheel = wheel # 인스턴스 변수\n",
    "        self.color = color # 인스턴스 변수\n",
    "        self.count = num # 인스턴스 변수\n",
    "        Car2.count = Car2.count + 1 # 클래스 변수\n",
    "        print(\"({0}, {1})자동차 개체의 수: Car2.count={2}\".format(self.wheel, self.color, Car2.count))\n",
    "        print(\"({0}, {1})자동차의 인원의 수 : self.count={2}\".format(self.wheel, self.color, self.count))\n",
    "        \n",
    "    def move(self, speed):\n",
    "        self.speed = speed\n",
    "        print(\"자동차({0}, {1})가 {2}킬로 미터로 주행한다.\".format(self.wheel, self.color, self.speed))\n",
    "    \n",
    "    def auto_curise(self):\n",
    "        print(\"자율 주행 모드입니다.\")\n",
    "        self.move(self.speed)\n",
    "        \n",
    "    @staticmethod\n",
    "    def check_type(model_code):\n",
    "        if(model_code) >= 20:\n",
    "            print(\"전기차 입니다.\")\n",
    "        elif(10 <= model_code <20):\n",
    "            print(\"가솔린차 입니다.\")\n",
    "        else:\n",
    "            print(\"디젤차 입니다.\")\n",
    "            \n",
    "        \n",
    "    @classmethod\n",
    "    def instance_count(cls):\n",
    "        print(\"자동차의 개체수는 : {}\".format(cls.count))"
   ]
  },
  {
   "cell_type": "code",
   "execution_count": 20,
   "id": "35b3e10a",
   "metadata": {},
   "outputs": [],
   "source": [
    "# 자식 클래스 생성\n",
    "class RobotiCar(Car2):\n",
    "    def __init__(self, wheel, color, num, state):\n",
    "        # Car2.__init__(self, wheel, color, num) # 부모 클래스에서 변수 값 받아옴\n",
    "        super().__init__(wheel, color, num)  # !! self 제외 !! \n",
    "        self.state = state\n",
    "    def robotic(self):\n",
    "        self.state = \"Robotic\"\n",
    "        print(\"자동차 무인, state={0}\".format(self.state))\n",
    "    def human(self):\n",
    "        self.state = state\n",
    "        print(\"자동차 유인, state={0}\".format(self.state))"
   ]
  },
  {
   "cell_type": "code",
   "execution_count": 21,
   "id": "c689f773",
   "metadata": {},
   "outputs": [
    {
     "name": "stdout",
     "output_type": "stream",
     "text": [
      "(17, black)자동차 개체의 수: Car2.count=5\n",
      "(17, black)자동차의 인원의 수 : self.count=4\n"
     ]
    }
   ],
   "source": [
    "Robotic_car = RobotiCar(17, \"black\", 4, \"robotic\")"
   ]
  },
  {
   "cell_type": "code",
   "execution_count": 22,
   "id": "7f5b7a2c",
   "metadata": {},
   "outputs": [
    {
     "name": "stdout",
     "output_type": "stream",
     "text": [
      "자동차 무인, state=Robotic\n"
     ]
    }
   ],
   "source": [
    "Robotic_car.robotic()"
   ]
  }
 ],
 "metadata": {
  "kernelspec": {
   "display_name": "Python 3",
   "language": "python",
   "name": "python3"
  },
  "language_info": {
   "codemirror_mode": {
    "name": "ipython",
    "version": 3
   },
   "file_extension": ".py",
   "mimetype": "text/x-python",
   "name": "python",
   "nbconvert_exporter": "python",
   "pygments_lexer": "ipython3",
   "version": "3.8.8"
  }
 },
 "nbformat": 4,
 "nbformat_minor": 5
}
