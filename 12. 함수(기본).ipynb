{
 "cells": [
  {
   "cell_type": "code",
   "execution_count": 2,
   "id": "82ff2902",
   "metadata": {},
   "outputs": [],
   "source": [
    "# 인자, 반환 값 없는 함수\n",
    "def func():\n",
    "    print(\"This is my first function\")\n",
    "    print(\"It is good\")"
   ]
  },
  {
   "cell_type": "code",
   "execution_count": 3,
   "id": "cddb2caf",
   "metadata": {},
   "outputs": [
    {
     "name": "stdout",
     "output_type": "stream",
     "text": [
      "This is my first function\n",
      "It is good\n"
     ]
    }
   ],
   "source": [
    "func()"
   ]
  },
  {
   "cell_type": "code",
   "execution_count": 4,
   "id": "a9d46f7e",
   "metadata": {},
   "outputs": [],
   "source": [
    "# 인자만 있는 함수\n",
    "def friend(Name):\n",
    "    print(\"{}는 나의 친한 친구입니다.\".format(Name))"
   ]
  },
  {
   "cell_type": "code",
   "execution_count": 6,
   "id": "d807ad02",
   "metadata": {},
   "outputs": [
    {
     "name": "stdout",
     "output_type": "stream",
     "text": [
      "도훈는 나의 친한 친구입니다.\n"
     ]
    }
   ],
   "source": [
    "friend(\"도훈\")"
   ]
  },
  {
   "cell_type": "code",
   "execution_count": 7,
   "id": "a51cee67",
   "metadata": {},
   "outputs": [
    {
     "name": "stdout",
     "output_type": "stream",
     "text": [
      "Hyund는 나의 친한 친구입니다.\n"
     ]
    }
   ],
   "source": [
    "friend(\"Hyund\")"
   ]
  },
  {
   "cell_type": "code",
   "execution_count": 22,
   "id": "b116a8d7",
   "metadata": {},
   "outputs": [],
   "source": [
    "def student_info(name, s_num, p_num):\n",
    "    print(\"-----------------------------\")\n",
    "    print(\"- 학생이름 : \", name)\n",
    "    print(\"- 학생번호 : \", s_num)\n",
    "    print(\"- 전화번호 : \", p_num)"
   ]
  },
  {
   "cell_type": "code",
   "execution_count": 23,
   "id": "d489fee8",
   "metadata": {},
   "outputs": [
    {
     "name": "stdout",
     "output_type": "stream",
     "text": [
      "-----------------------------\n",
      "- 학생이름 :  이순신\n",
      "- 학생번호 :  12345\n",
      "- 전화번호 :  02-1223-4598\n"
     ]
    }
   ],
   "source": [
    "student_info(\"이순신\", 12345, \"02-1223-4598\")"
   ]
  },
  {
   "cell_type": "code",
   "execution_count": 24,
   "id": "83a8a652",
   "metadata": {},
   "outputs": [
    {
     "name": "stdout",
     "output_type": "stream",
     "text": [
      "-----------------------------\n",
      "- 학생이름 :  장보고\n",
      "- 학생번호 :  23456\n",
      "- 전화번호 :  02-1223-4598\n"
     ]
    }
   ],
   "source": [
    "student_info(\"장보고\", 23456, \"02-1223-4598\")"
   ]
  },
  {
   "cell_type": "code",
   "execution_count": 15,
   "id": "21d58929",
   "metadata": {},
   "outputs": [],
   "source": [
    "# 인자, 반환 값 모두 있는 함수\n",
    "def calc(x, y):\n",
    "    z = x + y\n",
    "    return(z)"
   ]
  },
  {
   "cell_type": "code",
   "execution_count": 16,
   "id": "a09962d5",
   "metadata": {},
   "outputs": [
    {
     "data": {
      "text/plain": [
       "5"
      ]
     },
     "execution_count": 16,
     "metadata": {},
     "output_type": "execute_result"
    }
   ],
   "source": [
    "calc(2, 3)"
   ]
  },
  {
   "cell_type": "code",
   "execution_count": 20,
   "id": "da87bf52",
   "metadata": {},
   "outputs": [],
   "source": [
    "# 리스트 형태 데이터 다루기\n",
    "def student_info_list(s_list):\n",
    "    print(\"------------------------------\")\n",
    "    print(\"- 학생이름 : \", s_list[0])\n",
    "    print(\"- 학생번호 : \", s_list[1])\n",
    "    print(\"- 전화번호 : \", s_list[2])"
   ]
  },
  {
   "cell_type": "code",
   "execution_count": 21,
   "id": "4a0f4cff",
   "metadata": {},
   "outputs": [
    {
     "name": "stdout",
     "output_type": "stream",
     "text": [
      "------------------------------\n",
      "- 학생이름 :  신사임당\n",
      "- 학생번호 :  33\n",
      "- 전화번호 :  010-7891-8652\n"
     ]
    }
   ],
   "source": [
    "student_info_list([\"신사임당\", 33, \"010-7891-8652\"])"
   ]
  },
  {
   "cell_type": "code",
   "execution_count": 29,
   "id": "9a00ba8a",
   "metadata": {},
   "outputs": [],
   "source": [
    "# 지역 변수, 전역 변수\n",
    "\n",
    "a = 5 # 전역 변수\n",
    "\n",
    "def function1():\n",
    "    a = 1 # 지역변수\n",
    "    print(\"function1의 지역변수는 a =\", a)"
   ]
  },
  {
   "cell_type": "code",
   "execution_count": 27,
   "id": "a47f581e",
   "metadata": {},
   "outputs": [
    {
     "name": "stdout",
     "output_type": "stream",
     "text": [
      "function1의 지역변수는 a = 1\n"
     ]
    }
   ],
   "source": [
    "function1()"
   ]
  },
  {
   "cell_type": "code",
   "execution_count": 34,
   "id": "49943ad8",
   "metadata": {},
   "outputs": [
    {
     "name": "stdout",
     "output_type": "stream",
     "text": [
      "function2의 지역변수는 a = 2\n",
      "function3의 전역변수는 a = 5\n",
      "function3의 지역변수는 a1 = 3\n",
      "function4의 전역변수는 a = 4\n"
     ]
    }
   ],
   "source": [
    "a = 5 # 전역 변수\n",
    "\n",
    "def function2():\n",
    "    a = 2 # 지역변수\n",
    "    print(\"function2의 지역변수는 a =\", a)\n",
    "    \n",
    "    \n",
    "def function3():\n",
    "    a1= 3 # 지역변수\n",
    "    print(\"function3의 전역변수는 a =\", a)   \n",
    "    print(\"function3의 지역변수는 a1 =\", a1)\n",
    "    \n",
    "    \n",
    "def function4():\n",
    "    global a # 함수 내부에서 전역변수로 지정\n",
    "    a = 4 \n",
    "    print(\"function4의 전역변수는 a =\", a)\n",
    "    \n",
    "function2()\n",
    "function3()\n",
    "function4()"
   ]
  }
 ],
 "metadata": {
  "kernelspec": {
   "display_name": "Python 3",
   "language": "python",
   "name": "python3"
  },
  "language_info": {
   "codemirror_mode": {
    "name": "ipython",
    "version": 3
   },
   "file_extension": ".py",
   "mimetype": "text/x-python",
   "name": "python",
   "nbconvert_exporter": "python",
   "pygments_lexer": "ipython3",
   "version": "3.8.8"
  }
 },
 "nbformat": 4,
 "nbformat_minor": 5
}
