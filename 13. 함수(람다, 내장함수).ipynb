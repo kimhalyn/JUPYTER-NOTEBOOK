{
 "cells": [
  {
   "cell_type": "code",
   "execution_count": 3,
   "id": "17731089",
   "metadata": {},
   "outputs": [
    {
     "data": {
      "text/plain": [
       "9"
      ]
     },
     "execution_count": 3,
     "metadata": {},
     "output_type": "execute_result"
    }
   ],
   "source": [
    "# 람다 함수\n",
    "(lambda x : x ** 2)(3)"
   ]
  },
  {
   "cell_type": "code",
   "execution_count": 4,
   "id": "08825f33",
   "metadata": {},
   "outputs": [
    {
     "data": {
      "text/plain": [
       "7"
      ]
     },
     "execution_count": 4,
     "metadata": {},
     "output_type": "execute_result"
    }
   ],
   "source": [
    "Square = lambda x: x*2+3\n",
    "Square(2)"
   ]
  },
  {
   "cell_type": "code",
   "execution_count": 5,
   "id": "7bbdbea8",
   "metadata": {},
   "outputs": [
    {
     "data": {
      "text/plain": [
       "23"
      ]
     },
     "execution_count": 5,
     "metadata": {},
     "output_type": "execute_result"
    }
   ],
   "source": [
    "Square = lambda x, y, z: x*2+y*3+z\n",
    "Square(3, 4, 5)"
   ]
  },
  {
   "cell_type": "code",
   "execution_count": 7,
   "id": "3044f280",
   "metadata": {},
   "outputs": [
    {
     "data": {
      "text/plain": [
       "[0, 3, -1]"
      ]
     },
     "execution_count": 7,
     "metadata": {},
     "output_type": "execute_result"
    }
   ],
   "source": [
    "# 파이썬 내장함수 - 정수형 변환\n",
    "[int(0.123), int(3.5123456), int(-1.312367)]"
   ]
  },
  {
   "cell_type": "code",
   "execution_count": 8,
   "id": "dce74623",
   "metadata": {},
   "outputs": [
    {
     "data": {
      "text/plain": [
       "[0.0, 123.0, -567.0]"
      ]
     },
     "execution_count": 8,
     "metadata": {},
     "output_type": "execute_result"
    }
   ],
   "source": [
    "# 파이썬 내장함수 - 실수형 변환\n",
    "[float(0), float(123), float(-567)]"
   ]
  },
  {
   "cell_type": "code",
   "execution_count": 9,
   "id": "b7824e88",
   "metadata": {},
   "outputs": [
    {
     "data": {
      "text/plain": [
       "['0.1234', '88', '-5.678']"
      ]
     },
     "execution_count": 9,
     "metadata": {},
     "output_type": "execute_result"
    }
   ],
   "source": [
    "# 파이썬 내장함수 - 문자형 변환\n",
    "[str(0.1234), str(88), str(-5.678)]"
   ]
  },
  {
   "cell_type": "code",
   "execution_count": 10,
   "id": "d1ab385e",
   "metadata": {},
   "outputs": [],
   "source": [
    "list_data = ['abc', 1, 2, 'def']"
   ]
  },
  {
   "cell_type": "code",
   "execution_count": 17,
   "id": "1b854f43",
   "metadata": {},
   "outputs": [],
   "source": [
    "tuple_data = ('abc', 1, 2, 'def')"
   ]
  },
  {
   "cell_type": "code",
   "execution_count": 18,
   "id": "3a18c835",
   "metadata": {},
   "outputs": [],
   "source": [
    "set_data = {'abc', 1, 2, 'def'}"
   ]
  },
  {
   "cell_type": "code",
   "execution_count": 19,
   "id": "ca0ce8b7",
   "metadata": {},
   "outputs": [
    {
     "data": {
      "text/plain": [
       "[list, tuple, set]"
      ]
     },
     "execution_count": 19,
     "metadata": {},
     "output_type": "execute_result"
    }
   ],
   "source": [
    "[type(list_data), type(tuple_data), type(set_data)]"
   ]
  },
  {
   "cell_type": "code",
   "execution_count": 20,
   "id": "0520da99",
   "metadata": {},
   "outputs": [
    {
     "name": "stdout",
     "output_type": "stream",
     "text": [
      "리스트 형태로 변환 :  ['abc', 1, 2, 'def'] [1, 2, 'abc', 'def']\n"
     ]
    }
   ],
   "source": [
    "# 파이썬 내장함수 - 리스트 변환\n",
    "print(\"리스트 형태로 변환 : \", list(tuple_data), list(set_data))"
   ]
  },
  {
   "cell_type": "code",
   "execution_count": 23,
   "id": "3f57dc89",
   "metadata": {},
   "outputs": [
    {
     "name": "stdout",
     "output_type": "stream",
     "text": [
      "튜플 형태로 변환 :  ('abc', 1, 2, 'def') [1, 2, 'abc', 'def']\n"
     ]
    }
   ],
   "source": [
    "# 파이썬 내장함수 - 튜플 변환\n",
    "print(\"튜플 형태로 변환 : \", tuple(list_data), list(set_data))"
   ]
  },
  {
   "cell_type": "code",
   "execution_count": 25,
   "id": "23716466",
   "metadata": {},
   "outputs": [
    {
     "name": "stdout",
     "output_type": "stream",
     "text": [
      "세트 형태로 변환 :  {1, 2, 'abc', 'def'} ['abc', 1, 2, 'def']\n"
     ]
    }
   ],
   "source": [
    "# 파이썬 내장함수 - 세트 변환\n",
    "print(\"세트 형태로 변환 : \", set(list_data), list(tuple_data))"
   ]
  },
  {
   "cell_type": "code",
   "execution_count": 26,
   "id": "a1d790bf",
   "metadata": {},
   "outputs": [
    {
     "data": {
      "text/plain": [
       "False"
      ]
     },
     "execution_count": 26,
     "metadata": {},
     "output_type": "execute_result"
    }
   ],
   "source": [
    "# bool()\n",
    "bool(0)"
   ]
  },
  {
   "cell_type": "code",
   "execution_count": 27,
   "id": "04bb17f3",
   "metadata": {},
   "outputs": [
    {
     "data": {
      "text/plain": [
       "True"
      ]
     },
     "execution_count": 27,
     "metadata": {},
     "output_type": "execute_result"
    }
   ],
   "source": [
    "bool(-10)"
   ]
  },
  {
   "cell_type": "code",
   "execution_count": 29,
   "id": "2129df03",
   "metadata": {},
   "outputs": [
    {
     "data": {
      "text/plain": [
       "True"
      ]
     },
     "execution_count": 29,
     "metadata": {},
     "output_type": "execute_result"
    }
   ],
   "source": [
    "bool(5.12)"
   ]
  },
  {
   "cell_type": "code",
   "execution_count": 32,
   "id": "4cafc0ab",
   "metadata": {},
   "outputs": [
    {
     "data": {
      "text/plain": [
       "True"
      ]
     },
     "execution_count": 32,
     "metadata": {},
     "output_type": "execute_result"
    }
   ],
   "source": [
    "bool(\" \")"
   ]
  },
  {
   "cell_type": "code",
   "execution_count": 31,
   "id": "db704de4",
   "metadata": {},
   "outputs": [
    {
     "data": {
      "text/plain": [
       "False"
      ]
     },
     "execution_count": 31,
     "metadata": {},
     "output_type": "execute_result"
    }
   ],
   "source": [
    "bool(\"\")"
   ]
  },
  {
   "cell_type": "code",
   "execution_count": 33,
   "id": "013f6812",
   "metadata": {},
   "outputs": [
    {
     "data": {
      "text/plain": [
       "False"
      ]
     },
     "execution_count": 33,
     "metadata": {},
     "output_type": "execute_result"
    }
   ],
   "source": [
    "bool(None)"
   ]
  },
  {
   "cell_type": "code",
   "execution_count": 34,
   "id": "172f2343",
   "metadata": {},
   "outputs": [
    {
     "data": {
      "text/plain": [
       "True"
      ]
     },
     "execution_count": 34,
     "metadata": {},
     "output_type": "execute_result"
    }
   ],
   "source": [
    "bool([1, 2, 3])"
   ]
  },
  {
   "cell_type": "code",
   "execution_count": 35,
   "id": "10760e0f",
   "metadata": {},
   "outputs": [
    {
     "data": {
      "text/plain": [
       "True"
      ]
     },
     "execution_count": 35,
     "metadata": {},
     "output_type": "execute_result"
    }
   ],
   "source": [
    "bool((1, 2, 3))"
   ]
  },
  {
   "cell_type": "code",
   "execution_count": 36,
   "id": "f768cfd5",
   "metadata": {},
   "outputs": [
    {
     "data": {
      "text/plain": [
       "True"
      ]
     },
     "execution_count": 36,
     "metadata": {},
     "output_type": "execute_result"
    }
   ],
   "source": [
    "bool({1, 2, 3})"
   ]
  },
  {
   "cell_type": "code",
   "execution_count": 42,
   "id": "3921c378",
   "metadata": {},
   "outputs": [],
   "source": [
    "# bool함수를 이용한 조건문\n",
    "def print_name(s_name):\n",
    "    if bool(s_name):\n",
    "        print(\"당신의 이름은 : \", s_name)\n",
    "    else:\n",
    "        print(\"이름을 입력하세요.\")"
   ]
  },
  {
   "cell_type": "code",
   "execution_count": 43,
   "id": "e4401be1",
   "metadata": {},
   "outputs": [
    {
     "name": "stdout",
     "output_type": "stream",
     "text": [
      "당신의 이름은 :  세종대왕\n"
     ]
    }
   ],
   "source": [
    "print_name(\"세종대왕\")"
   ]
  },
  {
   "cell_type": "code",
   "execution_count": 44,
   "id": "3f0924cc",
   "metadata": {},
   "outputs": [
    {
     "name": "stdout",
     "output_type": "stream",
     "text": [
      "이름을 입력하세요.\n"
     ]
    }
   ],
   "source": [
    "print_name(\"\")"
   ]
  }
 ],
 "metadata": {
  "kernelspec": {
   "display_name": "Python 3",
   "language": "python",
   "name": "python3"
  },
  "language_info": {
   "codemirror_mode": {
    "name": "ipython",
    "version": 3
   },
   "file_extension": ".py",
   "mimetype": "text/x-python",
   "name": "python",
   "nbconvert_exporter": "python",
   "pygments_lexer": "ipython3",
   "version": "3.8.8"
  }
 },
 "nbformat": 4,
 "nbformat_minor": 5
}
