{
 "cells": [
  {
   "cell_type": "code",
   "execution_count": 2,
   "id": "37b657fa",
   "metadata": {},
   "outputs": [
    {
     "name": "stdout",
     "output_type": "stream",
     "text": [
      "   December 2020\n",
      "Mo Tu We Th Fr Sa Su\n",
      "    1  2  3  4  5  6\n",
      " 7  8  9 10 11 12 13\n",
      "14 15 16 17 18 19 20\n",
      "21 22 23 24 25 26 27\n",
      "28 29 30 31\n",
      "\n"
     ]
    }
   ],
   "source": [
    "# 실습테스트 1\n",
    "import calendar\n",
    "print(calendar.month(2020, 12))"
   ]
  },
  {
   "cell_type": "code",
   "execution_count": 5,
   "id": "8c659fe8",
   "metadata": {},
   "outputs": [
    {
     "name": "stdout",
     "output_type": "stream",
     "text": [
      "(1, 31)\n"
     ]
    }
   ],
   "source": [
    "# 실습테스트 2 (monthrange: 무슨 요일에 시작하고 며칠까지 있는지 확인)\n",
    "print(calendar.monthrange(2020, 12))"
   ]
  },
  {
   "cell_type": "code",
   "execution_count": null,
   "id": "7354bf62",
   "metadata": {},
   "outputs": [
    {
     "name": "stdout",
     "output_type": "stream",
     "text": [
      "0(가위),1(바위), 2(보)중 하나를 선택하세요\n",
      "2\n",
      "0\n",
      "내가 승리\n"
     ]
    }
   ],
   "source": [
    "import random\n",
    "for i in range(3): # 가위/바위/보 실행 횟수 지정\n",
    "    sel = int(input(\"0(가위),1(바위), 2(보)중 하나를 선택하세요\\n\"))\n",
    "    ai = random.randrange(0, 2) #0~2사이의 숫자를 랜덤하게 선택\n",
    "    print(ai)\n",
    "    \n",
    "    if sel > 2:\n",
    "        print(\"잘못 누르셨습니다.\")\n",
    "    elif sel == ai:\n",
    "        print(\"비겼습니다.\")\n",
    "    elif sel + 1 == ai:\n",
    "        print(\"컴퓨터 승리\")\n",
    "    else:\n",
    "        print(\"내가 승리\")"
   ]
  }
 ],
 "metadata": {
  "kernelspec": {
   "display_name": "Python 3",
   "language": "python",
   "name": "python3"
  },
  "language_info": {
   "codemirror_mode": {
    "name": "ipython",
    "version": 3
   },
   "file_extension": ".py",
   "mimetype": "text/x-python",
   "name": "python",
   "nbconvert_exporter": "python",
   "pygments_lexer": "ipython3",
   "version": "3.8.8"
  }
 },
 "nbformat": 4,
 "nbformat_minor": 5
}
