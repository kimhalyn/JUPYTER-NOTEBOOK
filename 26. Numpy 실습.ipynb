{
 "cells": [
  {
   "cell_type": "code",
   "execution_count": 3,
   "id": "11f43009",
   "metadata": {},
   "outputs": [
    {
     "data": {
      "text/plain": [
       "array([[13. , 94.2, 40. , 99.6, 54.6, 84.2],\n",
       "       [ 9.4, 87.7, 98.7,  0.9, 12.4, 19.7],\n",
       "       [29.7, 41.3, 38.4, 51.8, 81. , 78.3],\n",
       "       [81. , 71.8, 57.1, 14.4, 99.6, 55.7],\n",
       "       [34.2, 59. , 85.3, 49.1, 57.5, 10.2]])"
      ]
     },
     "execution_count": 3,
     "metadata": {},
     "output_type": "execute_result"
    }
   ],
   "source": [
    "# 실습테스트 1\n",
    "import numpy as np\n",
    "x = np.random.rand(5,6)\n",
    "x = x.round(3) * 100\n",
    "arr1 = np.array(x)\n",
    "arr1"
   ]
  },
  {
   "cell_type": "code",
   "execution_count": 12,
   "id": "c91a8b4b",
   "metadata": {},
   "outputs": [
    {
     "data": {
      "text/plain": [
       "99.6"
      ]
     },
     "execution_count": 12,
     "metadata": {},
     "output_type": "execute_result"
    }
   ],
   "source": [
    "# 최댓값\n",
    "arr1.max()"
   ]
  },
  {
   "cell_type": "code",
   "execution_count": 13,
   "id": "387268ee",
   "metadata": {},
   "outputs": [
    {
     "data": {
      "text/plain": [
       "0.8999999999999999"
      ]
     },
     "execution_count": 13,
     "metadata": {},
     "output_type": "execute_result"
    }
   ],
   "source": [
    "# 최솟값\n",
    "arr1.min()"
   ]
  },
  {
   "cell_type": "code",
   "execution_count": 14,
   "id": "37d8f755",
   "metadata": {},
   "outputs": [
    {
     "data": {
      "text/plain": [
       "53.65999999999999"
      ]
     },
     "execution_count": 14,
     "metadata": {},
     "output_type": "execute_result"
    }
   ],
   "source": [
    "# 평균\n",
    "arr1.mean()"
   ]
  },
  {
   "cell_type": "code",
   "execution_count": 15,
   "id": "72d4f9ec",
   "metadata": {},
   "outputs": [
    {
     "data": {
      "text/plain": [
       "30.390619166666102"
      ]
     },
     "execution_count": 15,
     "metadata": {},
     "output_type": "execute_result"
    }
   ],
   "source": [
    "# 표준편차\n",
    "arr1.std()"
   ]
  },
  {
   "cell_type": "code",
   "execution_count": 16,
   "id": "26a6b379",
   "metadata": {},
   "outputs": [
    {
     "data": {
      "text/plain": [
       "923.5897333333331"
      ]
     },
     "execution_count": 16,
     "metadata": {},
     "output_type": "execute_result"
    }
   ],
   "source": [
    "# 분산\n",
    "arr1.var()"
   ]
  },
  {
   "cell_type": "code",
   "execution_count": 22,
   "id": "57ce4b4d",
   "metadata": {},
   "outputs": [
    {
     "data": {
      "text/plain": [
       "array([[ 0,  1,  2,  3,  4],\n",
       "       [ 5,  6,  7,  8,  9],\n",
       "       [10, 11, 12, 13, 14]])"
      ]
     },
     "execution_count": 22,
     "metadata": {},
     "output_type": "execute_result"
    }
   ],
   "source": [
    "# 실습테스트 2\n",
    "arr1 = np.arange(0, 15).reshape(3, 5)\n",
    "arr1"
   ]
  },
  {
   "cell_type": "code",
   "execution_count": 32,
   "id": "1443b555",
   "metadata": {},
   "outputs": [
    {
     "data": {
      "text/plain": [
       "7"
      ]
     },
     "execution_count": 32,
     "metadata": {},
     "output_type": "execute_result"
    }
   ],
   "source": [
    "# 값 7 인덱싱\n",
    "arr1[1, 2]"
   ]
  },
  {
   "cell_type": "code",
   "execution_count": 33,
   "id": "5f59a0db",
   "metadata": {},
   "outputs": [
    {
     "data": {
      "text/plain": [
       "14"
      ]
     },
     "execution_count": 33,
     "metadata": {},
     "output_type": "execute_result"
    }
   ],
   "source": [
    "# 값 14 인덱싱\n",
    "arr1[2, 4]"
   ]
  },
  {
   "cell_type": "code",
   "execution_count": 34,
   "id": "d5894d5f",
   "metadata": {},
   "outputs": [
    {
     "data": {
      "text/plain": [
       "array([6, 7])"
      ]
     },
     "execution_count": 34,
     "metadata": {},
     "output_type": "execute_result"
    }
   ],
   "source": [
    "# 배열 [6, 7] 슬라이싱\n",
    "arr1[1, 1:3]"
   ]
  },
  {
   "cell_type": "code",
   "execution_count": 35,
   "id": "8ca1d256",
   "metadata": {},
   "outputs": [
    {
     "data": {
      "text/plain": [
       "array([ 7, 12])"
      ]
     },
     "execution_count": 35,
     "metadata": {},
     "output_type": "execute_result"
    }
   ],
   "source": [
    "# 배열 [7, 12] 슬라이싱\n",
    "arr1[1:3, 2]"
   ]
  },
  {
   "cell_type": "code",
   "execution_count": 38,
   "id": "8c0ae5bd",
   "metadata": {},
   "outputs": [
    {
     "data": {
      "text/plain": [
       "array([[3, 4],\n",
       "       [8, 9]])"
      ]
     },
     "execution_count": 38,
     "metadata": {},
     "output_type": "execute_result"
    }
   ],
   "source": [
    "# 배열 [[3, 4], [8, 9]] 슬라이싱\n",
    "arr1[:2, 3:5]"
   ]
  },
  {
   "cell_type": "code",
   "execution_count": 57,
   "id": "693d2e65",
   "metadata": {},
   "outputs": [],
   "source": [
    "# 실습테스트 3 - 1\n",
    "def intersection(a, b):\n",
    "    c = []\n",
    "    for i in a:\n",
    "        if i in b:\n",
    "            c.append(i)\n",
    "        c.sort()\n",
    "    return c"
   ]
  },
  {
   "cell_type": "code",
   "execution_count": 58,
   "id": "64428cde",
   "metadata": {},
   "outputs": [
    {
     "data": {
      "text/plain": [
       "[15, 29, 12, 26, 14, 24, 20, 19, 13, 2]"
      ]
     },
     "execution_count": 58,
     "metadata": {},
     "output_type": "execute_result"
    }
   ],
   "source": [
    "# 실습테스트 3 - 2\n",
    "import numpy as np\n",
    "def random_exclusive(low, high, how_many):\n",
    "    number = []\n",
    "    while how_many > 0:\n",
    "        a = np.random.randint(low, high)\n",
    "        if a not in number:\n",
    "            number.append(a)\n",
    "        else: how_many += 1\n",
    "        how_many -= 1\n",
    "    return number\n",
    "\n",
    "random_exclusive(1, 31, 10)"
   ]
  },
  {
   "cell_type": "code",
   "execution_count": 65,
   "id": "b101ba6a",
   "metadata": {},
   "outputs": [
    {
     "name": "stdout",
     "output_type": "stream",
     "text": [
      "A그룹의 난수는 : [7, 19, 15, 3, 9, 13, 16, 28, 11, 5]\n",
      "B그룹의 난수는 : [4, 29, 25, 20, 21, 27, 3, 13, 9, 5]\n",
      "A, B그룹의 교집합은 : [3, 5, 9, 13]\n"
     ]
    }
   ],
   "source": [
    "# 실습테스트 3 - 3\n",
    "low = 1\n",
    "high = 31\n",
    "how_many = 10\n",
    "A = random_exclusive(low, high, how_many)\n",
    "B = random_exclusive(low, high, how_many)\n",
    "C = intersection(A, B)\n",
    "\n",
    "print(\"A그룹의 난수는 : {}\".format(A))\n",
    "print(\"B그룹의 난수는 : {}\".format(B))\n",
    "print(\"A, B그룹의 교집합은 : {}\".format(C))"
   ]
  }
 ],
 "metadata": {
  "kernelspec": {
   "display_name": "Python 3",
   "language": "python",
   "name": "python3"
  },
  "language_info": {
   "codemirror_mode": {
    "name": "ipython",
    "version": 3
   },
   "file_extension": ".py",
   "mimetype": "text/x-python",
   "name": "python",
   "nbconvert_exporter": "python",
   "pygments_lexer": "ipython3",
   "version": "3.8.8"
  }
 },
 "nbformat": 4,
 "nbformat_minor": 5
}
