{
 "cells": [
  {
   "cell_type": "code",
   "execution_count": 7,
   "id": "5dd4ce29",
   "metadata": {},
   "outputs": [
    {
     "data": {
      "text/plain": [
       "['아버지', '어머니', '오빠', '형']"
      ]
     },
     "execution_count": 7,
     "metadata": {},
     "output_type": "execute_result"
    }
   ],
   "source": [
    "#실습 테스트 1 (split, join함수 사용)\n",
    "str1 = \"아버지:어머니:오빠:형\"\n",
    "str2 = str1.split(\":\")\n",
    "str2"
   ]
  },
  {
   "cell_type": "code",
   "execution_count": 8,
   "id": "31eb7063",
   "metadata": {},
   "outputs": [
    {
     "data": {
      "text/plain": [
       "'아버지/어머니/오빠/형'"
      ]
     },
     "execution_count": 8,
     "metadata": {},
     "output_type": "execute_result"
    }
   ],
   "source": [
    "str3 = \"/\".join(str2)\n",
    "str3"
   ]
  },
  {
   "cell_type": "code",
   "execution_count": 11,
   "id": "e9171c34",
   "metadata": {},
   "outputs": [
    {
     "data": {
      "text/plain": [
       "'아버지/어머니/오빠/형'"
      ]
     },
     "execution_count": 11,
     "metadata": {},
     "output_type": "execute_result"
    }
   ],
   "source": [
    "# 실습 테스트 2 (replace함수 사용)\n",
    "str1 = \"아버지:어머니:오빠:형\"\n",
    "str2 = str1.replace(\":\", \"/\")\n",
    "str2"
   ]
  },
  {
   "cell_type": "code",
   "execution_count": 26,
   "id": "f591a508",
   "metadata": {},
   "outputs": [
    {
     "data": {
      "text/plain": [
       "'   BIGDATA HAVE A GOOD FUTURE PROSPECT'"
      ]
     },
     "execution_count": 26,
     "metadata": {},
     "output_type": "execute_result"
    }
   ],
   "source": [
    "# 실습 테스트 3\n",
    "str1 = \"   bigdata have a good future prospect\"\n",
    "# 대문자 변환\n",
    "str2 = str1.upper()\n",
    "str2"
   ]
  },
  {
   "cell_type": "code",
   "execution_count": 27,
   "id": "b6cdeaee",
   "metadata": {},
   "outputs": [
    {
     "data": {
      "text/plain": [
       "'BIGDATA HAVE A GOOD FUTURE PROSPECT'"
      ]
     },
     "execution_count": 27,
     "metadata": {},
     "output_type": "execute_result"
    }
   ],
   "source": [
    "# 맨 앞의 공백 삭제\n",
    "str3 = str2.strip(\" \")\n",
    "str3"
   ]
  },
  {
   "cell_type": "code",
   "execution_count": 28,
   "id": "61886bc7",
   "metadata": {},
   "outputs": [
    {
     "data": {
      "text/plain": [
       "True"
      ]
     },
     "execution_count": 28,
     "metadata": {},
     "output_type": "execute_result"
    }
   ],
   "source": [
    "# 대문자가 맞는지 확인\n",
    "str3.isupper()"
   ]
  }
 ],
 "metadata": {
  "kernelspec": {
   "display_name": "Python 3",
   "language": "python",
   "name": "python3"
  },
  "language_info": {
   "codemirror_mode": {
    "name": "ipython",
    "version": 3
   },
   "file_extension": ".py",
   "mimetype": "text/x-python",
   "name": "python",
   "nbconvert_exporter": "python",
   "pygments_lexer": "ipython3",
   "version": "3.8.8"
  }
 },
 "nbformat": 4,
 "nbformat_minor": 5
}
