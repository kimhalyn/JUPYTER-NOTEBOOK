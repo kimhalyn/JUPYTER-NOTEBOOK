{
 "cells": [
  {
   "cell_type": "code",
   "execution_count": 2,
   "id": "79b720a3",
   "metadata": {},
   "outputs": [
    {
     "ename": "TypeError",
     "evalue": "'tuple' object doesn't support item deletion",
     "output_type": "error",
     "traceback": [
      "\u001b[1;31m---------------------------------------------------------------------------\u001b[0m",
      "\u001b[1;31mTypeError\u001b[0m                                 Traceback (most recent call last)",
      "\u001b[1;32m<ipython-input-2-288c76ff1816>\u001b[0m in \u001b[0;36m<module>\u001b[1;34m\u001b[0m\n\u001b[0;32m      1\u001b[0m \u001b[0mt1\u001b[0m \u001b[1;33m=\u001b[0m \u001b[1;33m(\u001b[0m\u001b[1;36m1\u001b[0m\u001b[1;33m,\u001b[0m \u001b[1;36m2\u001b[0m\u001b[1;33m,\u001b[0m \u001b[1;34m'q'\u001b[0m\u001b[1;33m,\u001b[0m \u001b[1;34m'w'\u001b[0m\u001b[1;33m,\u001b[0m \u001b[1;34m'e'\u001b[0m\u001b[1;33m)\u001b[0m\u001b[1;33m\u001b[0m\u001b[1;33m\u001b[0m\u001b[0m\n\u001b[1;32m----> 2\u001b[1;33m \u001b[1;32mdel\u001b[0m \u001b[0mt1\u001b[0m\u001b[1;33m[\u001b[0m\u001b[1;36m1\u001b[0m\u001b[1;33m]\u001b[0m\u001b[1;33m\u001b[0m\u001b[1;33m\u001b[0m\u001b[0m\n\u001b[0m\u001b[0;32m      3\u001b[0m \u001b[0mprint\u001b[0m\u001b[1;33m(\u001b[0m\u001b[0mt1\u001b[0m\u001b[1;33m)\u001b[0m\u001b[1;33m\u001b[0m\u001b[1;33m\u001b[0m\u001b[0m\n",
      "\u001b[1;31mTypeError\u001b[0m: 'tuple' object doesn't support item deletion"
     ]
    }
   ],
   "source": [
    "# 튜플 변경 불가\n",
    "t1 = (1, 2, 'q', 'w', 'e')\n",
    "del t1[1]\n",
    "print(t1)"
   ]
  },
  {
   "cell_type": "code",
   "execution_count": 10,
   "id": "171dfd84",
   "metadata": {},
   "outputs": [
    {
     "data": {
      "text/plain": [
       "(2, 'q', 'w', 'e')"
      ]
     },
     "execution_count": 10,
     "metadata": {},
     "output_type": "execute_result"
    }
   ],
   "source": [
    "# 인덱싱으로 튜플 자료 추출\n",
    "t1 = (1, 2, 'q', 'w', 'e')\n",
    "t1[1:]"
   ]
  },
  {
   "cell_type": "code",
   "execution_count": 11,
   "id": "50f9e9ce",
   "metadata": {},
   "outputs": [
    {
     "data": {
      "text/plain": [
       "4"
      ]
     },
     "execution_count": 11,
     "metadata": {},
     "output_type": "execute_result"
    }
   ],
   "source": [
    "# 튜플 개수 구하기\n",
    "t2 = (1, 2, 1, 1, 4, 1, 'e')\n",
    "t2.count(1)"
   ]
  },
  {
   "cell_type": "code",
   "execution_count": 14,
   "id": "f2c57c62",
   "metadata": {},
   "outputs": [
    {
     "name": "stdout",
     "output_type": "stream",
     "text": [
      "{'세종대왕', '이순신', '장길산', '장보고', '임꺽정', '허준', '장영실', '신사임당', '홍길동'}\n",
      "{'홍길동', '장길산', '임꺽정', '허준'}\n",
      "{'장보고', '이순신'}\n"
     ]
    }
   ],
   "source": [
    "# 합집합, 차집합, 교집합 구하기\n",
    "best2019 = set(['홍길동', '장길산', '이순신', '임꺽정', '허준', '장보고'])\n",
    "best2020 = set(['신사임당', '세종대왕', '이순신', '장보고', '장영실'])\n",
    "\n",
    "print(best2019 | best2020)\n",
    "print(best2019 - best2020)\n",
    "print(best2019 & best2020)"
   ]
  }
 ],
 "metadata": {
  "kernelspec": {
   "display_name": "Python 3",
   "language": "python",
   "name": "python3"
  },
  "language_info": {
   "codemirror_mode": {
    "name": "ipython",
    "version": 3
   },
   "file_extension": ".py",
   "mimetype": "text/x-python",
   "name": "python",
   "nbconvert_exporter": "python",
   "pygments_lexer": "ipython3",
   "version": "3.8.8"
  }
 },
 "nbformat": 4,
 "nbformat_minor": 5
}
