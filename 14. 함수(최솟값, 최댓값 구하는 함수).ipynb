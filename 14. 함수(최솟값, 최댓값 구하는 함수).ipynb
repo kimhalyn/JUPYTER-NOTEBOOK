{
 "cells": [
  {
   "cell_type": "code",
   "execution_count": 1,
   "id": "5a14977a",
   "metadata": {},
   "outputs": [
    {
     "data": {
      "text/plain": [
       "[0, 100]"
      ]
     },
     "execution_count": 1,
     "metadata": {},
     "output_type": "execute_result"
    }
   ],
   "source": [
    "# 최솟값, 최댓값\n",
    "y_Num = [15, 10, 5, 0, 5, 5, 90, 5, 100]\n",
    "[min(y_Num), max(y_Num)]"
   ]
  },
  {
   "cell_type": "code",
   "execution_count": 2,
   "id": "c01c6d2b",
   "metadata": {},
   "outputs": [
    {
     "data": {
      "text/plain": [
       "['abc', 'zyx']"
      ]
     },
     "execution_count": 2,
     "metadata": {},
     "output_type": "execute_result"
    }
   ],
   "source": [
    "y_str = [\"zyx\", \"abc\"]\n",
    "[min(y_str), max(y_str)]"
   ]
  },
  {
   "cell_type": "code",
   "execution_count": 3,
   "id": "6c44c356",
   "metadata": {},
   "outputs": [
    {
     "data": {
      "text/plain": [
       "[10, 10]"
      ]
     },
     "execution_count": 3,
     "metadata": {},
     "output_type": "execute_result"
    }
   ],
   "source": [
    "# 절대값 구하기\n",
    "[abs(10), abs(-10)]"
   ]
  },
  {
   "cell_type": "code",
   "execution_count": 5,
   "id": "7930b91b",
   "metadata": {},
   "outputs": [
    {
     "data": {
      "text/plain": [
       "235"
      ]
     },
     "execution_count": 5,
     "metadata": {},
     "output_type": "execute_result"
    }
   ],
   "source": [
    "# 합계 구하기\n",
    "y_Num = [15, 10, 5, 0, 5, 5, 90, 5, 100]\n",
    "sum(y_Num)"
   ]
  },
  {
   "cell_type": "code",
   "execution_count": 6,
   "id": "6cc11d08",
   "metadata": {},
   "outputs": [
    {
     "data": {
      "text/plain": [
       "6"
      ]
     },
     "execution_count": 6,
     "metadata": {},
     "output_type": "execute_result"
    }
   ],
   "source": [
    "# 항목 개수 구하기\n",
    "len(\"abc cd\")"
   ]
  },
  {
   "cell_type": "code",
   "execution_count": 7,
   "id": "080bca33",
   "metadata": {},
   "outputs": [
    {
     "data": {
      "text/plain": [
       "4"
      ]
     },
     "execution_count": 7,
     "metadata": {},
     "output_type": "execute_result"
    }
   ],
   "source": [
    "# 항목 개수 - 리스트 형식\n",
    "len([\"a\", \"b\", \"c\", \"d\"])"
   ]
  },
  {
   "cell_type": "code",
   "execution_count": 9,
   "id": "c2323561",
   "metadata": {},
   "outputs": [
    {
     "data": {
      "text/plain": [
       "4"
      ]
     },
     "execution_count": 9,
     "metadata": {},
     "output_type": "execute_result"
    }
   ],
   "source": [
    "# 항목 개수 - 튜플 형식\n",
    "len((\"a\", \"b\", \"c\", \"d\"))"
   ]
  },
  {
   "cell_type": "code",
   "execution_count": 10,
   "id": "b40f6ca6",
   "metadata": {},
   "outputs": [
    {
     "data": {
      "text/plain": [
       "4"
      ]
     },
     "execution_count": 10,
     "metadata": {},
     "output_type": "execute_result"
    }
   ],
   "source": [
    "# 항목 개수 - 세트 형식\n",
    "len({\"a\", \"b\", \"c\", \"d\"})"
   ]
  },
  {
   "cell_type": "code",
   "execution_count": 11,
   "id": "a9cc8d7b",
   "metadata": {},
   "outputs": [
    {
     "data": {
      "text/plain": [
       "3"
      ]
     },
     "execution_count": 11,
     "metadata": {},
     "output_type": "execute_result"
    }
   ],
   "source": [
    "# 항목 개수 - 딕셔너리\n",
    "len({1:\"Tom\", 2:\"kim\", 3:\"Lee\"})"
   ]
  },
  {
   "cell_type": "code",
   "execution_count": null,
   "id": "5ae0a9d1",
   "metadata": {},
   "outputs": [],
   "source": [
    "# 평균 구하기\n",
    "scores = [80, 60, 95, 75]\n",
    "sum = 0\n",
    "subject = 0\n",
    "\n",
    "for score in scores:\n",
    "    sum += score\n",
    "    subject += 1\n",
    "average = sum / subject"
   ]
  },
  {
   "cell_type": "code",
   "execution_count": null,
   "id": "3a647034",
   "metadata": {},
   "outputs": [],
   "source": [
    "average"
   ]
  },
  {
   "cell_type": "code",
   "execution_count": 5,
   "id": "aaa8298d",
   "metadata": {},
   "outputs": [
    {
     "name": "stdout",
     "output_type": "stream",
     "text": [
      "최하점 : 60, 최고점 : 95\n"
     ]
    }
   ],
   "source": [
    "print(\"최하점 : {0}, 최고점 : {1}\".format(min(scores), max(scores)))"
   ]
  },
  {
   "cell_type": "code",
   "execution_count": 18,
   "id": "1ecb2ec7",
   "metadata": {},
   "outputs": [],
   "source": [
    "# 실습테스트 1 - (1)\n",
    "\n",
    "def even_odd(num):\n",
    "    if num % 2 == 0:\n",
    "        return \"Even\"\n",
    "    else:\n",
    "        return \"Odd\""
   ]
  },
  {
   "cell_type": "code",
   "execution_count": 19,
   "id": "03a49377",
   "metadata": {},
   "outputs": [
    {
     "data": {
      "text/plain": [
       "'Odd'"
      ]
     },
     "execution_count": 19,
     "metadata": {},
     "output_type": "execute_result"
    }
   ],
   "source": [
    "even_odd(3)"
   ]
  },
  {
   "cell_type": "code",
   "execution_count": null,
   "id": "c1e89935",
   "metadata": {},
   "outputs": [],
   "source": [
    "# 실습테스트 1 - (2)\n",
    "\n",
    "even_odd = lambda x: \"Even\" if x%2==0 else \"Odd\""
   ]
  },
  {
   "cell_type": "code",
   "execution_count": 22,
   "id": "5e1f8f16",
   "metadata": {},
   "outputs": [
    {
     "data": {
      "text/plain": [
       "'Even'"
      ]
     },
     "execution_count": 22,
     "metadata": {},
     "output_type": "execute_result"
    }
   ],
   "source": [
    "even_odd(4)"
   ]
  },
  {
   "cell_type": "code",
   "execution_count": 19,
   "id": "afa82591",
   "metadata": {},
   "outputs": [],
   "source": [
    "# 실습테스트 2\n",
    "\n",
    "def gugudan(n):\n",
    "    for i in range(1, 10):\n",
    "        p = n * i\n",
    "        print(p, end=\" \") # 한 줄로 출력"
   ]
  },
  {
   "cell_type": "code",
   "execution_count": 20,
   "id": "ba164e79",
   "metadata": {},
   "outputs": [
    {
     "name": "stdout",
     "output_type": "stream",
     "text": [
      "2 4 6 8 10 12 14 16 18 "
     ]
    }
   ],
   "source": [
    "gugudan(2)"
   ]
  },
  {
   "cell_type": "code",
   "execution_count": 23,
   "id": "bf11a39c",
   "metadata": {},
   "outputs": [],
   "source": [
    "# 실습테스트 3 -(1)\n",
    "\n",
    "def func1(numbers): # 입력받는 값\n",
    "    result = []\n",
    "    for number in numbers:\n",
    "        if number >=10:\n",
    "            result.append(number)\n",
    "    return result"
   ]
  },
  {
   "cell_type": "code",
   "execution_count": 24,
   "id": "a4c44a56",
   "metadata": {},
   "outputs": [
    {
     "data": {
      "text/plain": [
       "[10, 11, 12, 13, 14]"
      ]
     },
     "execution_count": 24,
     "metadata": {},
     "output_type": "execute_result"
    }
   ],
   "source": [
    "func1([9, 10, 11, 12, 13, 14])"
   ]
  },
  {
   "cell_type": "code",
   "execution_count": 25,
   "id": "b71a067d",
   "metadata": {},
   "outputs": [],
   "source": [
    "# 실습테스트 3 -(2) 람다식으로 표현\n",
    "\n",
    "func1 = lambda numbers: [number for number in numbers if number >= 10]"
   ]
  },
  {
   "cell_type": "code",
   "execution_count": 27,
   "id": "375bc645",
   "metadata": {},
   "outputs": [
    {
     "data": {
      "text/plain": [
       "[10, 11, 12, 13, 14]"
      ]
     },
     "execution_count": 27,
     "metadata": {},
     "output_type": "execute_result"
    }
   ],
   "source": [
    "func1([8, 9, 10, 11, 12, 13, 14])"
   ]
  }
 ],
 "metadata": {
  "kernelspec": {
   "display_name": "Python 3",
   "language": "python",
   "name": "python3"
  },
  "language_info": {
   "codemirror_mode": {
    "name": "ipython",
    "version": 3
   },
   "file_extension": ".py",
   "mimetype": "text/x-python",
   "name": "python",
   "nbconvert_exporter": "python",
   "pygments_lexer": "ipython3",
   "version": "3.8.8"
  }
 },
 "nbformat": 4,
 "nbformat_minor": 5
}
