{
 "cells": [
  {
   "cell_type": "code",
   "execution_count": 12,
   "id": "841d3e19",
   "metadata": {},
   "outputs": [],
   "source": [
    "# 실습테스트 1 (클래스 생성)\n",
    "class Camera:\n",
    "    def __init__(self, zoom, pixel):\n",
    "        self.zoom = zoom\n",
    "        self.pixel = pixel\n",
    "    def takeapicture(self):\n",
    "        print(\"take a picture\")"
   ]
  },
  {
   "cell_type": "code",
   "execution_count": 15,
   "id": "385f262f",
   "metadata": {},
   "outputs": [],
   "source": [
    "# 객체 생성\n",
    "sony = Camera(500, 5000)"
   ]
  },
  {
   "cell_type": "code",
   "execution_count": 16,
   "id": "e3d7093c",
   "metadata": {},
   "outputs": [
    {
     "name": "stdout",
     "output_type": "stream",
     "text": [
      "take a picture\n"
     ]
    }
   ],
   "source": [
    "# 메서드 실행\n",
    "sony.takeapicture()"
   ]
  },
  {
   "cell_type": "code",
   "execution_count": 56,
   "id": "5210d20d",
   "metadata": {},
   "outputs": [],
   "source": [
    "# 실습테스트 2\n",
    "class Calculator:\n",
    "    def __init__(self, numberList):\n",
    "        self.numberList = numberList\n",
    "    def sum(self):\n",
    "        result = 0\n",
    "        for num in self.numberList:\n",
    "            result += num\n",
    "        return result # return 위치 주의하기!!\n",
    "\n",
    "    def avg(self):\n",
    "        total = self.sum()\n",
    "        return total / len(self.numberList)"
   ]
  },
  {
   "cell_type": "code",
   "execution_count": 57,
   "id": "17bf90c0",
   "metadata": {},
   "outputs": [],
   "source": [
    "cal1 = Calculator([1, 3, 5, 7, 9])"
   ]
  },
  {
   "cell_type": "code",
   "execution_count": 58,
   "id": "3038df43",
   "metadata": {},
   "outputs": [
    {
     "name": "stdout",
     "output_type": "stream",
     "text": [
      "25\n"
     ]
    }
   ],
   "source": [
    "print(cal1.sum())"
   ]
  },
  {
   "cell_type": "code",
   "execution_count": 59,
   "id": "bd11f84a",
   "metadata": {},
   "outputs": [
    {
     "name": "stdout",
     "output_type": "stream",
     "text": [
      "5.0\n"
     ]
    }
   ],
   "source": [
    "print(cal1.avg())"
   ]
  },
  {
   "cell_type": "code",
   "execution_count": 60,
   "id": "cae31bba",
   "metadata": {},
   "outputs": [],
   "source": [
    "cal2 = Calculator([2, 4, 6, 8, 10])"
   ]
  },
  {
   "cell_type": "code",
   "execution_count": 61,
   "id": "0d060d85",
   "metadata": {},
   "outputs": [
    {
     "name": "stdout",
     "output_type": "stream",
     "text": [
      "30\n"
     ]
    }
   ],
   "source": [
    "print(cal2.sum())"
   ]
  },
  {
   "cell_type": "code",
   "execution_count": 62,
   "id": "5a6fe9ec",
   "metadata": {},
   "outputs": [
    {
     "name": "stdout",
     "output_type": "stream",
     "text": [
      "6.0\n"
     ]
    }
   ],
   "source": [
    "print(cal2.avg())"
   ]
  }
 ],
 "metadata": {
  "kernelspec": {
   "display_name": "Python 3",
   "language": "python",
   "name": "python3"
  },
  "language_info": {
   "codemirror_mode": {
    "name": "ipython",
    "version": 3
   },
   "file_extension": ".py",
   "mimetype": "text/x-python",
   "name": "python",
   "nbconvert_exporter": "python",
   "pygments_lexer": "ipython3",
   "version": "3.8.8"
  }
 },
 "nbformat": 4,
 "nbformat_minor": 5
}
